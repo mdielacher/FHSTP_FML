{
 "cells": [
  {
   "cell_type": "markdown",
   "metadata": {},
   "source": [
    "# Assignment 1"
   ]
  },
  {
   "cell_type": "markdown",
   "metadata": {},
   "source": [
    "**Group 5:** Marwin Prenner & Marcel Dielacher"
   ]
  },
  {
   "cell_type": "markdown",
   "metadata": {},
   "source": [
    "## Introduction"
   ]
  },
  {
   "cell_type": "markdown",
   "metadata": {},
   "source": [
    "This Jupyter Notebook explores two different approaches (centralized learning & federated learning) for training machine learning models on survey data related to lung cancer. The dataset comprises responses from individuals participating in a survey related to lung cancer.\n"
   ]
  },
  {
   "cell_type": "markdown",
   "metadata": {},
   "source": [
    "## Imports\n",
    "\n",
    "In this section, we'll import the necessary libraries and modules for our analysis. You can run the cell below to ensure all dependencies are installed."
   ]
  },
  {
   "cell_type": "markdown",
   "metadata": {},
   "source": [
    "### Install all important libraries"
   ]
  },
  {
   "cell_type": "code",
   "execution_count": 33,
   "metadata": {},
   "outputs": [
    {
     "name": "stdout",
     "output_type": "stream",
     "text": [
      "Training on cpu using PyTorch 2.1.2 and Flower 1.6.0\n"
     ]
    }
   ],
   "source": [
    "# Libraries\n",
    "import numpy as np\n",
    "import pandas as pd\n",
    "import matplotlib.pyplot as plt\n",
    "import seaborn as sns\n",
    "import flwr as fl\n",
    "import ray.util\n",
    "import torch\n",
    "\n",
    "# Typing\n",
    "from typing import List\n",
    "\n",
    "# Preprocessing\n",
    "from sklearn.preprocessing import LabelEncoder\n",
    "from sklearn.preprocessing import StandardScaler\n",
    "from sklearn.model_selection import train_test_split\n",
    "\n",
    "# Algorithm\n",
    "from sklearn.linear_model import LogisticRegression\n",
    "from sklearn.svm import SVC\n",
    "from sklearn.ensemble import RandomForestClassifier\n",
    "\n",
    "# Metrics\n",
    "from sklearn.metrics import accuracy_score, confusion_matrix, classification_report, mean_squared_error, roc_curve, auc\n"
   ]
  },
  {
   "cell_type": "code",
   "execution_count": 34,
   "metadata": {},
   "outputs": [],
   "source": [
    "data = pd.read_csv(\"survey_lung_cancer.csv\") # import data from csv"
   ]
  },
  {
   "cell_type": "markdown",
   "metadata": {},
   "source": [
    "## Data Understanding:"
   ]
  },
  {
   "cell_type": "markdown",
   "metadata": {},
   "source": [
    "In the realm of data science, the process of exploring and comprehending the dataset is pivotal for successful analysis and modeling. The \"Data Understanding\" phase serves as a foundational step in the overall data science lifecycle. This section focuses on gaining insights into the structure, content, and quality of the dataset, laying the groundwork for subsequent stages such as data preparation and modeling."
   ]
  },
  {
   "cell_type": "markdown",
   "metadata": {},
   "source": [
    "### Basic Information:"
   ]
  },
  {
   "cell_type": "code",
   "execution_count": 35,
   "metadata": {},
   "outputs": [
    {
     "data": {
      "text/html": [
       "<div>\n",
       "<style scoped>\n",
       "    .dataframe tbody tr th:only-of-type {\n",
       "        vertical-align: middle;\n",
       "    }\n",
       "\n",
       "    .dataframe tbody tr th {\n",
       "        vertical-align: top;\n",
       "    }\n",
       "\n",
       "    .dataframe thead th {\n",
       "        text-align: right;\n",
       "    }\n",
       "</style>\n",
       "<table border=\"1\" class=\"dataframe\">\n",
       "  <thead>\n",
       "    <tr style=\"text-align: right;\">\n",
       "      <th></th>\n",
       "      <th>GENDER</th>\n",
       "      <th>AGE</th>\n",
       "      <th>SMOKING</th>\n",
       "      <th>YELLOW_FINGERS</th>\n",
       "      <th>ANXIETY</th>\n",
       "      <th>PEER_PRESSURE</th>\n",
       "      <th>CHRONIC DISEASE</th>\n",
       "      <th>FATIGUE</th>\n",
       "      <th>ALLERGY</th>\n",
       "      <th>WHEEZING</th>\n",
       "      <th>ALCOHOL CONSUMING</th>\n",
       "      <th>COUGHING</th>\n",
       "      <th>SHORTNESS OF BREATH</th>\n",
       "      <th>SWALLOWING DIFFICULTY</th>\n",
       "      <th>CHEST PAIN</th>\n",
       "      <th>LUNG_CANCER</th>\n",
       "    </tr>\n",
       "  </thead>\n",
       "  <tbody>\n",
       "    <tr>\n",
       "      <th>0</th>\n",
       "      <td>M</td>\n",
       "      <td>69</td>\n",
       "      <td>1</td>\n",
       "      <td>2</td>\n",
       "      <td>2</td>\n",
       "      <td>1</td>\n",
       "      <td>1</td>\n",
       "      <td>2</td>\n",
       "      <td>1</td>\n",
       "      <td>2</td>\n",
       "      <td>2</td>\n",
       "      <td>2</td>\n",
       "      <td>2</td>\n",
       "      <td>2</td>\n",
       "      <td>2</td>\n",
       "      <td>YES</td>\n",
       "    </tr>\n",
       "    <tr>\n",
       "      <th>1</th>\n",
       "      <td>M</td>\n",
       "      <td>74</td>\n",
       "      <td>2</td>\n",
       "      <td>1</td>\n",
       "      <td>1</td>\n",
       "      <td>1</td>\n",
       "      <td>2</td>\n",
       "      <td>2</td>\n",
       "      <td>2</td>\n",
       "      <td>1</td>\n",
       "      <td>1</td>\n",
       "      <td>1</td>\n",
       "      <td>2</td>\n",
       "      <td>2</td>\n",
       "      <td>2</td>\n",
       "      <td>YES</td>\n",
       "    </tr>\n",
       "    <tr>\n",
       "      <th>2</th>\n",
       "      <td>F</td>\n",
       "      <td>59</td>\n",
       "      <td>1</td>\n",
       "      <td>1</td>\n",
       "      <td>1</td>\n",
       "      <td>2</td>\n",
       "      <td>1</td>\n",
       "      <td>2</td>\n",
       "      <td>1</td>\n",
       "      <td>2</td>\n",
       "      <td>1</td>\n",
       "      <td>2</td>\n",
       "      <td>2</td>\n",
       "      <td>1</td>\n",
       "      <td>2</td>\n",
       "      <td>NO</td>\n",
       "    </tr>\n",
       "    <tr>\n",
       "      <th>3</th>\n",
       "      <td>M</td>\n",
       "      <td>63</td>\n",
       "      <td>2</td>\n",
       "      <td>2</td>\n",
       "      <td>2</td>\n",
       "      <td>1</td>\n",
       "      <td>1</td>\n",
       "      <td>1</td>\n",
       "      <td>1</td>\n",
       "      <td>1</td>\n",
       "      <td>2</td>\n",
       "      <td>1</td>\n",
       "      <td>1</td>\n",
       "      <td>2</td>\n",
       "      <td>2</td>\n",
       "      <td>NO</td>\n",
       "    </tr>\n",
       "    <tr>\n",
       "      <th>4</th>\n",
       "      <td>F</td>\n",
       "      <td>63</td>\n",
       "      <td>1</td>\n",
       "      <td>2</td>\n",
       "      <td>1</td>\n",
       "      <td>1</td>\n",
       "      <td>1</td>\n",
       "      <td>1</td>\n",
       "      <td>1</td>\n",
       "      <td>2</td>\n",
       "      <td>1</td>\n",
       "      <td>2</td>\n",
       "      <td>2</td>\n",
       "      <td>1</td>\n",
       "      <td>1</td>\n",
       "      <td>NO</td>\n",
       "    </tr>\n",
       "  </tbody>\n",
       "</table>\n",
       "</div>"
      ],
      "text/plain": [
       "  GENDER  AGE  SMOKING  YELLOW_FINGERS  ANXIETY  PEER_PRESSURE  \\\n",
       "0      M   69        1               2        2              1   \n",
       "1      M   74        2               1        1              1   \n",
       "2      F   59        1               1        1              2   \n",
       "3      M   63        2               2        2              1   \n",
       "4      F   63        1               2        1              1   \n",
       "\n",
       "   CHRONIC DISEASE  FATIGUE   ALLERGY   WHEEZING  ALCOHOL CONSUMING  COUGHING  \\\n",
       "0                1         2         1         2                  2         2   \n",
       "1                2         2         2         1                  1         1   \n",
       "2                1         2         1         2                  1         2   \n",
       "3                1         1         1         1                  2         1   \n",
       "4                1         1         1         2                  1         2   \n",
       "\n",
       "   SHORTNESS OF BREATH  SWALLOWING DIFFICULTY  CHEST PAIN LUNG_CANCER  \n",
       "0                    2                      2           2         YES  \n",
       "1                    2                      2           2         YES  \n",
       "2                    2                      1           2          NO  \n",
       "3                    1                      2           2          NO  \n",
       "4                    2                      1           1          NO  "
      ]
     },
     "execution_count": 35,
     "metadata": {},
     "output_type": "execute_result"
    }
   ],
   "source": [
    "# Preview\n",
    "data.head(5)"
   ]
  },
  {
   "cell_type": "code",
   "execution_count": 36,
   "metadata": {},
   "outputs": [
    {
     "name": "stdout",
     "output_type": "stream",
     "text": [
      "Informations About The Dataset :\n",
      "<class 'pandas.core.frame.DataFrame'>\n",
      "RangeIndex: 309 entries, 0 to 308\n",
      "Data columns (total 16 columns):\n",
      " #   Column                 Non-Null Count  Dtype \n",
      "---  ------                 --------------  ----- \n",
      " 0   GENDER                 309 non-null    object\n",
      " 1   AGE                    309 non-null    int64 \n",
      " 2   SMOKING                309 non-null    int64 \n",
      " 3   YELLOW_FINGERS         309 non-null    int64 \n",
      " 4   ANXIETY                309 non-null    int64 \n",
      " 5   PEER_PRESSURE          309 non-null    int64 \n",
      " 6   CHRONIC DISEASE        309 non-null    int64 \n",
      " 7   FATIGUE                309 non-null    int64 \n",
      " 8   ALLERGY                309 non-null    int64 \n",
      " 9   WHEEZING               309 non-null    int64 \n",
      " 10  ALCOHOL CONSUMING      309 non-null    int64 \n",
      " 11  COUGHING               309 non-null    int64 \n",
      " 12  SHORTNESS OF BREATH    309 non-null    int64 \n",
      " 13  SWALLOWING DIFFICULTY  309 non-null    int64 \n",
      " 14  CHEST PAIN             309 non-null    int64 \n",
      " 15  LUNG_CANCER            309 non-null    object\n",
      "dtypes: int64(14), object(2)\n",
      "memory usage: 38.8+ KB\n",
      "None\n"
     ]
    }
   ],
   "source": [
    "print(f\"Informations About The Dataset :\")\n",
    "print(data.info())"
   ]
  },
  {
   "cell_type": "code",
   "execution_count": 37,
   "metadata": {},
   "outputs": [
    {
     "name": "stdout",
     "output_type": "stream",
     "text": [
      "Summary of This Dataset :\n"
     ]
    },
    {
     "data": {
      "text/html": [
       "<div>\n",
       "<style scoped>\n",
       "    .dataframe tbody tr th:only-of-type {\n",
       "        vertical-align: middle;\n",
       "    }\n",
       "\n",
       "    .dataframe tbody tr th {\n",
       "        vertical-align: top;\n",
       "    }\n",
       "\n",
       "    .dataframe thead th {\n",
       "        text-align: right;\n",
       "    }\n",
       "</style>\n",
       "<table border=\"1\" class=\"dataframe\">\n",
       "  <thead>\n",
       "    <tr style=\"text-align: right;\">\n",
       "      <th></th>\n",
       "      <th>AGE</th>\n",
       "      <th>SMOKING</th>\n",
       "      <th>YELLOW_FINGERS</th>\n",
       "      <th>ANXIETY</th>\n",
       "      <th>PEER_PRESSURE</th>\n",
       "      <th>CHRONIC DISEASE</th>\n",
       "      <th>FATIGUE</th>\n",
       "      <th>ALLERGY</th>\n",
       "      <th>WHEEZING</th>\n",
       "      <th>ALCOHOL CONSUMING</th>\n",
       "      <th>COUGHING</th>\n",
       "      <th>SHORTNESS OF BREATH</th>\n",
       "      <th>SWALLOWING DIFFICULTY</th>\n",
       "      <th>CHEST PAIN</th>\n",
       "    </tr>\n",
       "  </thead>\n",
       "  <tbody>\n",
       "    <tr>\n",
       "      <th>count</th>\n",
       "      <td>309.000000</td>\n",
       "      <td>309.000000</td>\n",
       "      <td>309.000000</td>\n",
       "      <td>309.000000</td>\n",
       "      <td>309.000000</td>\n",
       "      <td>309.000000</td>\n",
       "      <td>309.000000</td>\n",
       "      <td>309.000000</td>\n",
       "      <td>309.000000</td>\n",
       "      <td>309.000000</td>\n",
       "      <td>309.000000</td>\n",
       "      <td>309.000000</td>\n",
       "      <td>309.000000</td>\n",
       "      <td>309.000000</td>\n",
       "    </tr>\n",
       "    <tr>\n",
       "      <th>mean</th>\n",
       "      <td>62.673139</td>\n",
       "      <td>1.563107</td>\n",
       "      <td>1.569579</td>\n",
       "      <td>1.498382</td>\n",
       "      <td>1.501618</td>\n",
       "      <td>1.504854</td>\n",
       "      <td>1.673139</td>\n",
       "      <td>1.556634</td>\n",
       "      <td>1.556634</td>\n",
       "      <td>1.556634</td>\n",
       "      <td>1.579288</td>\n",
       "      <td>1.640777</td>\n",
       "      <td>1.469256</td>\n",
       "      <td>1.556634</td>\n",
       "    </tr>\n",
       "    <tr>\n",
       "      <th>std</th>\n",
       "      <td>8.210301</td>\n",
       "      <td>0.496806</td>\n",
       "      <td>0.495938</td>\n",
       "      <td>0.500808</td>\n",
       "      <td>0.500808</td>\n",
       "      <td>0.500787</td>\n",
       "      <td>0.469827</td>\n",
       "      <td>0.497588</td>\n",
       "      <td>0.497588</td>\n",
       "      <td>0.497588</td>\n",
       "      <td>0.494474</td>\n",
       "      <td>0.480551</td>\n",
       "      <td>0.499863</td>\n",
       "      <td>0.497588</td>\n",
       "    </tr>\n",
       "    <tr>\n",
       "      <th>min</th>\n",
       "      <td>21.000000</td>\n",
       "      <td>1.000000</td>\n",
       "      <td>1.000000</td>\n",
       "      <td>1.000000</td>\n",
       "      <td>1.000000</td>\n",
       "      <td>1.000000</td>\n",
       "      <td>1.000000</td>\n",
       "      <td>1.000000</td>\n",
       "      <td>1.000000</td>\n",
       "      <td>1.000000</td>\n",
       "      <td>1.000000</td>\n",
       "      <td>1.000000</td>\n",
       "      <td>1.000000</td>\n",
       "      <td>1.000000</td>\n",
       "    </tr>\n",
       "    <tr>\n",
       "      <th>25%</th>\n",
       "      <td>57.000000</td>\n",
       "      <td>1.000000</td>\n",
       "      <td>1.000000</td>\n",
       "      <td>1.000000</td>\n",
       "      <td>1.000000</td>\n",
       "      <td>1.000000</td>\n",
       "      <td>1.000000</td>\n",
       "      <td>1.000000</td>\n",
       "      <td>1.000000</td>\n",
       "      <td>1.000000</td>\n",
       "      <td>1.000000</td>\n",
       "      <td>1.000000</td>\n",
       "      <td>1.000000</td>\n",
       "      <td>1.000000</td>\n",
       "    </tr>\n",
       "    <tr>\n",
       "      <th>50%</th>\n",
       "      <td>62.000000</td>\n",
       "      <td>2.000000</td>\n",
       "      <td>2.000000</td>\n",
       "      <td>1.000000</td>\n",
       "      <td>2.000000</td>\n",
       "      <td>2.000000</td>\n",
       "      <td>2.000000</td>\n",
       "      <td>2.000000</td>\n",
       "      <td>2.000000</td>\n",
       "      <td>2.000000</td>\n",
       "      <td>2.000000</td>\n",
       "      <td>2.000000</td>\n",
       "      <td>1.000000</td>\n",
       "      <td>2.000000</td>\n",
       "    </tr>\n",
       "    <tr>\n",
       "      <th>75%</th>\n",
       "      <td>69.000000</td>\n",
       "      <td>2.000000</td>\n",
       "      <td>2.000000</td>\n",
       "      <td>2.000000</td>\n",
       "      <td>2.000000</td>\n",
       "      <td>2.000000</td>\n",
       "      <td>2.000000</td>\n",
       "      <td>2.000000</td>\n",
       "      <td>2.000000</td>\n",
       "      <td>2.000000</td>\n",
       "      <td>2.000000</td>\n",
       "      <td>2.000000</td>\n",
       "      <td>2.000000</td>\n",
       "      <td>2.000000</td>\n",
       "    </tr>\n",
       "    <tr>\n",
       "      <th>max</th>\n",
       "      <td>87.000000</td>\n",
       "      <td>2.000000</td>\n",
       "      <td>2.000000</td>\n",
       "      <td>2.000000</td>\n",
       "      <td>2.000000</td>\n",
       "      <td>2.000000</td>\n",
       "      <td>2.000000</td>\n",
       "      <td>2.000000</td>\n",
       "      <td>2.000000</td>\n",
       "      <td>2.000000</td>\n",
       "      <td>2.000000</td>\n",
       "      <td>2.000000</td>\n",
       "      <td>2.000000</td>\n",
       "      <td>2.000000</td>\n",
       "    </tr>\n",
       "  </tbody>\n",
       "</table>\n",
       "</div>"
      ],
      "text/plain": [
       "              AGE     SMOKING  YELLOW_FINGERS     ANXIETY  PEER_PRESSURE  \\\n",
       "count  309.000000  309.000000      309.000000  309.000000     309.000000   \n",
       "mean    62.673139    1.563107        1.569579    1.498382       1.501618   \n",
       "std      8.210301    0.496806        0.495938    0.500808       0.500808   \n",
       "min     21.000000    1.000000        1.000000    1.000000       1.000000   \n",
       "25%     57.000000    1.000000        1.000000    1.000000       1.000000   \n",
       "50%     62.000000    2.000000        2.000000    1.000000       2.000000   \n",
       "75%     69.000000    2.000000        2.000000    2.000000       2.000000   \n",
       "max     87.000000    2.000000        2.000000    2.000000       2.000000   \n",
       "\n",
       "       CHRONIC DISEASE    FATIGUE     ALLERGY     WHEEZING  ALCOHOL CONSUMING  \\\n",
       "count       309.000000  309.000000  309.000000  309.000000         309.000000   \n",
       "mean          1.504854    1.673139    1.556634    1.556634           1.556634   \n",
       "std           0.500787    0.469827    0.497588    0.497588           0.497588   \n",
       "min           1.000000    1.000000    1.000000    1.000000           1.000000   \n",
       "25%           1.000000    1.000000    1.000000    1.000000           1.000000   \n",
       "50%           2.000000    2.000000    2.000000    2.000000           2.000000   \n",
       "75%           2.000000    2.000000    2.000000    2.000000           2.000000   \n",
       "max           2.000000    2.000000    2.000000    2.000000           2.000000   \n",
       "\n",
       "         COUGHING  SHORTNESS OF BREATH  SWALLOWING DIFFICULTY  CHEST PAIN  \n",
       "count  309.000000           309.000000             309.000000  309.000000  \n",
       "mean     1.579288             1.640777               1.469256    1.556634  \n",
       "std      0.494474             0.480551               0.499863    0.497588  \n",
       "min      1.000000             1.000000               1.000000    1.000000  \n",
       "25%      1.000000             1.000000               1.000000    1.000000  \n",
       "50%      2.000000             2.000000               1.000000    2.000000  \n",
       "75%      2.000000             2.000000               2.000000    2.000000  \n",
       "max      2.000000             2.000000               2.000000    2.000000  "
      ]
     },
     "execution_count": 37,
     "metadata": {},
     "output_type": "execute_result"
    }
   ],
   "source": [
    "print(f\"Summary of This Dataset :\")\n",
    "data.describe()"
   ]
  },
  {
   "cell_type": "code",
   "execution_count": 38,
   "metadata": {},
   "outputs": [
    {
     "name": "stdout",
     "output_type": "stream",
     "text": [
      "This dataset have 33 duplicates. Valid data: 276\n"
     ]
    }
   ],
   "source": [
    "print(f\"This dataset have {data[data.duplicated()].shape[0]} duplicates. Valid data: {len(data) - data[data.duplicated()].shape[0]}\")\n",
    "data.drop_duplicates(keep='first',inplace=True) # drop duplicates and save it"
   ]
  },
  {
   "cell_type": "markdown",
   "metadata": {},
   "source": [
    "### Data Preperation:"
   ]
  },
  {
   "cell_type": "markdown",
   "metadata": {},
   "source": [
    "Data preparation is a crucial step in the data analysis process. It involves cleaning, transforming, and organizing raw data into a format suitable for analysis. Effective data preparation ensures that the data used for analysis is accurate, complete, and relevant, leading to more meaningful insights."
   ]
  },
  {
   "cell_type": "code",
   "execution_count": 39,
   "metadata": {},
   "outputs": [],
   "source": [
    "LabelEncoder = LabelEncoder() # initializes a LabelEncoder object.\n",
    "\n",
    "data[\"GENDER\"] = data[\"GENDER\"].replace({\"M\" : \"Male\" , \"F\" : \"Female\"}) # rename\n",
    "data[\"LUNG_CANCER\"] = LabelEncoder.fit_transform(data[\"LUNG_CANCER\"]) # transform LUNG_Cancer\n",
    "data = pd.get_dummies(data, columns= [\"GENDER\"]) # encodes the \"GENDER\" column in the DataFrame using pandas get_dummies function.\n"
   ]
  },
  {
   "cell_type": "code",
   "execution_count": 40,
   "metadata": {},
   "outputs": [
    {
     "data": {
      "text/html": [
       "<div>\n",
       "<style scoped>\n",
       "    .dataframe tbody tr th:only-of-type {\n",
       "        vertical-align: middle;\n",
       "    }\n",
       "\n",
       "    .dataframe tbody tr th {\n",
       "        vertical-align: top;\n",
       "    }\n",
       "\n",
       "    .dataframe thead th {\n",
       "        text-align: right;\n",
       "    }\n",
       "</style>\n",
       "<table border=\"1\" class=\"dataframe\">\n",
       "  <thead>\n",
       "    <tr style=\"text-align: right;\">\n",
       "      <th></th>\n",
       "      <th>AGE</th>\n",
       "      <th>SMOKING</th>\n",
       "      <th>YELLOW_FINGERS</th>\n",
       "      <th>ANXIETY</th>\n",
       "      <th>PEER_PRESSURE</th>\n",
       "      <th>CHRONIC DISEASE</th>\n",
       "      <th>FATIGUE</th>\n",
       "      <th>ALLERGY</th>\n",
       "      <th>WHEEZING</th>\n",
       "      <th>ALCOHOL CONSUMING</th>\n",
       "      <th>COUGHING</th>\n",
       "      <th>SHORTNESS OF BREATH</th>\n",
       "      <th>SWALLOWING DIFFICULTY</th>\n",
       "      <th>CHEST PAIN</th>\n",
       "      <th>LUNG_CANCER</th>\n",
       "      <th>GENDER_Female</th>\n",
       "      <th>GENDER_Male</th>\n",
       "    </tr>\n",
       "  </thead>\n",
       "  <tbody>\n",
       "    <tr>\n",
       "      <th>0</th>\n",
       "      <td>69</td>\n",
       "      <td>1</td>\n",
       "      <td>2</td>\n",
       "      <td>2</td>\n",
       "      <td>1</td>\n",
       "      <td>1</td>\n",
       "      <td>2</td>\n",
       "      <td>1</td>\n",
       "      <td>2</td>\n",
       "      <td>2</td>\n",
       "      <td>2</td>\n",
       "      <td>2</td>\n",
       "      <td>2</td>\n",
       "      <td>2</td>\n",
       "      <td>1</td>\n",
       "      <td>False</td>\n",
       "      <td>True</td>\n",
       "    </tr>\n",
       "    <tr>\n",
       "      <th>1</th>\n",
       "      <td>74</td>\n",
       "      <td>2</td>\n",
       "      <td>1</td>\n",
       "      <td>1</td>\n",
       "      <td>1</td>\n",
       "      <td>2</td>\n",
       "      <td>2</td>\n",
       "      <td>2</td>\n",
       "      <td>1</td>\n",
       "      <td>1</td>\n",
       "      <td>1</td>\n",
       "      <td>2</td>\n",
       "      <td>2</td>\n",
       "      <td>2</td>\n",
       "      <td>1</td>\n",
       "      <td>False</td>\n",
       "      <td>True</td>\n",
       "    </tr>\n",
       "    <tr>\n",
       "      <th>2</th>\n",
       "      <td>59</td>\n",
       "      <td>1</td>\n",
       "      <td>1</td>\n",
       "      <td>1</td>\n",
       "      <td>2</td>\n",
       "      <td>1</td>\n",
       "      <td>2</td>\n",
       "      <td>1</td>\n",
       "      <td>2</td>\n",
       "      <td>1</td>\n",
       "      <td>2</td>\n",
       "      <td>2</td>\n",
       "      <td>1</td>\n",
       "      <td>2</td>\n",
       "      <td>0</td>\n",
       "      <td>True</td>\n",
       "      <td>False</td>\n",
       "    </tr>\n",
       "    <tr>\n",
       "      <th>3</th>\n",
       "      <td>63</td>\n",
       "      <td>2</td>\n",
       "      <td>2</td>\n",
       "      <td>2</td>\n",
       "      <td>1</td>\n",
       "      <td>1</td>\n",
       "      <td>1</td>\n",
       "      <td>1</td>\n",
       "      <td>1</td>\n",
       "      <td>2</td>\n",
       "      <td>1</td>\n",
       "      <td>1</td>\n",
       "      <td>2</td>\n",
       "      <td>2</td>\n",
       "      <td>0</td>\n",
       "      <td>False</td>\n",
       "      <td>True</td>\n",
       "    </tr>\n",
       "    <tr>\n",
       "      <th>4</th>\n",
       "      <td>63</td>\n",
       "      <td>1</td>\n",
       "      <td>2</td>\n",
       "      <td>1</td>\n",
       "      <td>1</td>\n",
       "      <td>1</td>\n",
       "      <td>1</td>\n",
       "      <td>1</td>\n",
       "      <td>2</td>\n",
       "      <td>1</td>\n",
       "      <td>2</td>\n",
       "      <td>2</td>\n",
       "      <td>1</td>\n",
       "      <td>1</td>\n",
       "      <td>0</td>\n",
       "      <td>True</td>\n",
       "      <td>False</td>\n",
       "    </tr>\n",
       "  </tbody>\n",
       "</table>\n",
       "</div>"
      ],
      "text/plain": [
       "   AGE  SMOKING  YELLOW_FINGERS  ANXIETY  PEER_PRESSURE  CHRONIC DISEASE  \\\n",
       "0   69        1               2        2              1                1   \n",
       "1   74        2               1        1              1                2   \n",
       "2   59        1               1        1              2                1   \n",
       "3   63        2               2        2              1                1   \n",
       "4   63        1               2        1              1                1   \n",
       "\n",
       "   FATIGUE   ALLERGY   WHEEZING  ALCOHOL CONSUMING  COUGHING  \\\n",
       "0         2         1         2                  2         2   \n",
       "1         2         2         1                  1         1   \n",
       "2         2         1         2                  1         2   \n",
       "3         1         1         1                  2         1   \n",
       "4         1         1         2                  1         2   \n",
       "\n",
       "   SHORTNESS OF BREATH  SWALLOWING DIFFICULTY  CHEST PAIN  LUNG_CANCER  \\\n",
       "0                    2                      2           2            1   \n",
       "1                    2                      2           2            1   \n",
       "2                    2                      1           2            0   \n",
       "3                    1                      2           2            0   \n",
       "4                    2                      1           1            0   \n",
       "\n",
       "   GENDER_Female  GENDER_Male  \n",
       "0          False         True  \n",
       "1          False         True  \n",
       "2           True        False  \n",
       "3          False         True  \n",
       "4           True        False  "
      ]
     },
     "execution_count": 40,
     "metadata": {},
     "output_type": "execute_result"
    }
   ],
   "source": [
    "# Preview\n",
    "data.head()"
   ]
  },
  {
   "cell_type": "code",
   "execution_count": 41,
   "metadata": {},
   "outputs": [
    {
     "name": "stdout",
     "output_type": "stream",
     "text": [
      "Shape of training data : (220, 16), (220,)\n",
      "Shape of testing data : (56, 16), (56,)\n"
     ]
    }
   ],
   "source": [
    "random_state = 42 # Set random seed for reproducibility\n",
    "max_depth = 10 # Set the maximum depth for the decision tree\n",
    "\n",
    "x = data.drop(\"LUNG_CANCER\", axis = 1) # Extract features (independent variables) by excluding the \"LUNG_CANCER\" column\n",
    "y = data[\"LUNG_CANCER\"] # Extract the target variable \"LUNG_CANCER\"\n",
    "\n",
    "scaler = StandardScaler() # Initialize StandardScaler\n",
    "x = scaler.fit_transform(x) # Transform the features using StandardScaler\n",
    "x_train, x_test, y_train, y_test = train_test_split(x,y, test_size=0.2, random_state=random_state) # Split the data into training and testing sets\n",
    "\n",
    "# Print shape\n",
    "print(f\"Shape of training data : {x_train.shape}, {y_train.shape}\")\n",
    "print(f\"Shape of testing data : {x_test.shape}, {y_test.shape}\")"
   ]
  },
  {
   "cell_type": "markdown",
   "metadata": {},
   "source": [
    "### Plots:"
   ]
  },
  {
   "cell_type": "code",
   "execution_count": 42,
   "metadata": {},
   "outputs": [
    {
     "data": {
      "image/png": "[encoded data removed]",
      "text/plain": [
       "<Figure size 800x600 with 1 Axes>"
      ]
     },
     "metadata": {},
     "output_type": "display_data"
    }
   ],
   "source": [
    "# bar plot showing the correlation between smoking and lung cancer\n",
    "data['Smoking_Status'] = data['SMOKING'].map({1: 'Smoker', 2: 'Non-Smoker'}) # mapping\n",
    "data['Lung_Cancer_Status'] = data['LUNG_CANCER'].map({0: 'No Lung Cancer', 1: 'Lung Cancer'}) # mapping\n",
    "\n",
    "plt.figure(figsize=(8, 6))\n",
    "sns.countplot(x='Smoking_Status', hue='Lung_Cancer_Status', data=data)\n",
    "plt.title('Correlation between Smoking and Lung Cancer')\n",
    "plt.xlabel('Smoking Status')\n",
    "plt.ylabel('Count')\n",
    "plt.legend(title='Lung Cancer Status')\n",
    "plt.show()"
   ]
  },
  {
   "cell_type": "markdown",
   "metadata": {},
   "source": [
    "## Centralized Training"
   ]
  },
  {
   "cell_type": "markdown",
   "metadata": {},
   "source": [
    "In the realm of machine learning, centralized learning refers to a training paradigm where a single, centralized entity or server is responsible for collecting, storing, and processing all the data for model training. This approach stands in contrast to decentralized or federated learning, where data is distributed across multiple devices or locations."
   ]
  },
  {
   "cell_type": "markdown",
   "metadata": {},
   "source": [
    "### Logistic Regression:"
   ]
  },
  {
   "cell_type": "markdown",
   "metadata": {},
   "source": [
    "Logistic Regression is a statistical method used for binary classification, predicting the probability of an observation belonging to one of two classes. It is widely employed in machine learning when the dependent variable is categorical and represents two outcomes, typically coded as 0 and 1.\n"
   ]
  },
  {
   "cell_type": "code",
   "execution_count": 43,
   "metadata": {},
   "outputs": [
    {
     "name": "stdout",
     "output_type": "stream",
     "text": [
      "Confusion Matrix : \n",
      "[[ 8  4]\n",
      " [ 0 44]]\n",
      "\n",
      "Classification Report : \n",
      "              precision    recall  f1-score   support\n",
      "\n",
      "           0       1.00      0.67      0.80        12\n",
      "           1       0.92      1.00      0.96        44\n",
      "\n",
      "    accuracy                           0.93        56\n",
      "   macro avg       0.96      0.83      0.88        56\n",
      "weighted avg       0.93      0.93      0.92        56\n",
      "\n",
      "\n",
      "Logistic Regression is Accuracy 92.86 %\n"
     ]
    }
   ],
   "source": [
    "lr = LogisticRegression() # Import the Logistic Regression model from scikit-learn\n",
    "lr.fit(x_train, y_train) # Train the Logistic Regression model on the training data\n",
    "lr_pred = lr.predict(x_test) # Make predictions on the test data using the trained model\n",
    "\n",
    "# Print statements\n",
    "print(f\"Confusion Matrix : \\n{confusion_matrix(y_test, lr_pred)}\\n\")\n",
    "print(f\"Classification Report : \\n{classification_report(y_test, lr_pred)}\\n\")\n",
    "print(f\"Logistic Regression is Accuracy {round(accuracy_score(y_test, lr_pred)*100, ndigits = 2)} %\")"
   ]
  },
  {
   "cell_type": "markdown",
   "metadata": {},
   "source": [
    "### Random Forest:"
   ]
  },
  {
   "cell_type": "markdown",
   "metadata": {},
   "source": [
    "Random Forest is an ensemble learning algorithm widely used in machine learning for both classification and regression tasks. It operates by constructing a multitude of decision trees during training and outputs the mode (for classification) or the mean (for regression) of the individual trees for predictions.\n",
    "\n",
    "#### How Random Forest Works\n",
    "\n",
    "1. **Bootstrap Sampling (Bagging):** Random Forest starts by creating multiple random subsets of the original dataset through a process called bootstrap sampling. This involves randomly selecting samples with replacement, resulting in diverse subsets for each tree.\n",
    "\n",
    "2. **Feature Randomization:** For each tree, a random subset of features is considered at each split. This helps to introduce diversity among the trees and prevents the dominance of one particular feature.\n",
    "\n",
    "3. **Building Decision Trees:** Decision trees are constructed using the bootstrapped datasets and random subsets of features. Each tree in the forest is grown deep, often without pruning, to capture complex relationships in the data.\n",
    "\n",
    "4. **Voting (Classification) or Averaging (Regression):** During prediction, the Random Forest aggregates the outputs of all individual trees. For classification tasks, the mode (most frequent class) is taken as the final prediction. For regression tasks, the mean of all predictions is considered.\n",
    "\n",
    "#### Advantages of Random Forest\n",
    "\n",
    "- **Robust to Overfitting:** The ensemble nature of Random Forest helps mitigate overfitting, as the aggregation of multiple trees tends to generalize well to unseen data.\n",
    "  \n",
    "- **High Accuracy:** Random Forest often provides high accuracy in both classification and regression tasks due to the combination of diverse decision trees.\n",
    "\n",
    "- **Feature Importance:** The algorithm provides a measure of feature importance, helping in identifying the most relevant features in the dataset.\n",
    "\n",
    "- **Handles Missing Values:** Random Forest can effectively handle missing values in the dataset without a need for imputation.\n",
    "\n",
    "#### Use Cases\n",
    "\n",
    "Random Forest is suitable for a wide range of applications, including but not limited to:\n",
    "\n",
    "- Classification tasks in areas such as finance, healthcare, and image recognition.\n",
    "- Regression tasks for predicting numerical values, like stock prices or housing prices.\n",
    "- Identifying important features in datasets.\n",
    "\n",
    "#### Conclusion\n",
    "\n",
    "Random Forest is a powerful and versatile machine learning algorithm that leverages the strength of multiple decision trees to provide robust and accurate predictions. Its ability to handle various types of data and avoid overfitting makes it a popular choice in the machine learning community.\n"
   ]
  },
  {
   "cell_type": "code",
   "execution_count": 44,
   "metadata": {},
   "outputs": [
    {
     "name": "stdout",
     "output_type": "stream",
     "text": [
      "Confusion Matrix: \n",
      "[[ 6  6]\n",
      " [ 0 44]]\n",
      "\n",
      "Report:\n",
      "              precision    recall  f1-score   support\n",
      "\n",
      "           0       1.00      0.50      0.67        12\n",
      "           1       0.88      1.00      0.94        44\n",
      "\n",
      "    accuracy                           0.89        56\n",
      "   macro avg       0.94      0.75      0.80        56\n",
      "weighted avg       0.91      0.89      0.88        56\n",
      "\n",
      "Random Forest Classifier Accuracy is 89.29 %\n"
     ]
    }
   ],
   "source": [
    "rfc = RandomForestClassifier(max_depth=max_depth, random_state = random_state) # Instantiate a Random Forest Classifier with specified parameters (max_depth and random_state)\n",
    "rfc.fit(x_train, y_train) # Train the Random Forest Classifier on the training data\n",
    "rfc_pred = rfc.predict(x_test) # Use the trained model to make predictions on the test data\n",
    "\n",
    "# Print statements\n",
    "print(f\"Confusion Matrix: \\n{confusion_matrix(y_test, rfc_pred)}\\n\")\n",
    "print(f\"Report:\\n{classification_report(y_test, rfc_pred)}\")\n",
    "print(f\"Random Forest Classifier Accuracy is {round(accuracy_score(y_test, rfc_pred)*100, ndigits = 2)} %\")"
   ]
  },
  {
   "cell_type": "code",
   "execution_count": 45,
   "metadata": {},
   "outputs": [
    {
     "data": {
      "image/png": "[encoded data removed]",
      "text/plain": [
       "<Figure size 640x480 with 1 Axes>"
      ]
     },
     "metadata": {},
     "output_type": "display_data"
    }
   ],
   "source": [
    "# create ROC curve\n",
    "y_probs = rfc.predict_proba(x_test)[:, 1]\n",
    "fpr, tpr, thresholds = roc_curve(y_test, y_probs)\n",
    "\n",
    "# Calculate AUC (Area Under Curve)\n",
    "roc_auc = auc(fpr, tpr)\n",
    "\n",
    "# Plot ROC-Kurve\n",
    "plt.figure()\n",
    "plt.plot(fpr, tpr, color='darkorange', lw=2, label='ROC curve (area = %0.2f)' % roc_auc)\n",
    "plt.plot([0, 1], [0, 1], color='navy', lw=2, linestyle='--')\n",
    "plt.xlim([0.0, 1.0])\n",
    "plt.ylim([0.0, 1.05])\n",
    "plt.xlabel('False Positive Rate')\n",
    "plt.ylabel('True Positive Rate')\n",
    "plt.title('Receiver Operating Characteristic')\n",
    "plt.legend(loc=\"lower right\")\n",
    "plt.show()"
   ]
  },
  {
   "cell_type": "code",
   "execution_count": 47,
   "metadata": {},
   "outputs": [],
   "source": [
    "# Drop data\n",
    "data.drop(\"LUNG_CANCER\", axis=1).columns\n",
    "data = data.drop(\"Smoking_Status\", axis=1)\n",
    "data = data.drop(\"Lung_Cancer_Status\", axis=1)"
   ]
  },
  {
   "cell_type": "code",
   "execution_count": 78,
   "metadata": {},
   "outputs": [
    {
     "name": "stdout",
     "output_type": "stream",
     "text": [
      "                  Feature  Importance\n",
      "0                     AGE    0.226893\n",
      "7                ALLERGY     0.077366\n",
      "2          YELLOW_FINGERS    0.072726\n",
      "9       ALCOHOL CONSUMING    0.072202\n",
      "4           PEER_PRESSURE    0.067687\n",
      "5         CHRONIC DISEASE    0.066555\n",
      "6                FATIGUE     0.057678\n",
      "10               COUGHING    0.048710\n",
      "12  SWALLOWING DIFFICULTY    0.046567\n",
      "8                WHEEZING    0.044450\n",
      "13             CHEST PAIN    0.043529\n",
      "3                 ANXIETY    0.042386\n",
      "11    SHORTNESS OF BREATH    0.036251\n",
      "14          GENDER_Female    0.034021\n",
      "1                 SMOKING    0.033342\n",
      "15            GENDER_Male    0.029636\n"
     ]
    },
    {
     "data": {
      "image/png": "[encoded data removed]",
      "text/plain": [
       "<Figure size 1000x600 with 1 Axes>"
      ]
     },
     "metadata": {},
     "output_type": "display_data"
    }
   ],
   "source": [
    "feature_importance_df = pd.DataFrame({'Feature': data.drop(\"LUNG_CANCER\", axis=1).columns, 'Importance': rfc.feature_importances_})\n",
    " \n",
    "feature_importance_df = feature_importance_df.sort_values(by='Importance', ascending=False)\n",
    "print(feature_importance_df)\n",
    " \n",
    "# sort by importance\n",
    "feature_importances = feature_importance_df.sort_values(by='Importance', ascending=False)\n",
    " \n",
    "# bar plot\n",
    "plt.figure(figsize=(10, 6))\n",
    "bars = plt.barh(feature_importances['Feature'], feature_importances['Importance'])\n",
    "\n",
    "# Achsentitel und Diagrammtitel hinzufügen\n",
    "plt.xlabel('Importance')\n",
    "plt.ylabel('Feature')\n",
    "plt.title('Feature Importance in Random Forest Model')\n",
    "\n",
    "# Werte über den Balken platzieren\n",
    "for bar, importance in zip(bars, feature_importances['Importance']):\n",
    "    plt.text(bar.get_width() + 0.01, bar.get_y() + bar.get_height()/2, f'{importance:.4f}', va='center')\n",
    "\n",
    "plt.gca().invert_yaxis()\n",
    "plt.show()"
   ]
  },
  {
   "cell_type": "markdown",
   "metadata": {},
   "source": [
    "### SVM:"
   ]
  },
  {
   "cell_type": "markdown",
   "metadata": {},
   "source": [
    "Support Vector Machines (SVM) are a powerful class of supervised learning algorithms used for classification and regression tasks. SVMs are particularly effective in high-dimensional spaces and are widely used in machine learning and data analysis.\n",
    "\n",
    "#### Overview\n",
    "\n",
    "At its core, an SVM works by finding the optimal hyperplane that separates data points into different classes. The hyperplane is chosen such that it maximally separates the instances of different classes while maintaining a margin of separation. The instances that lie on the edges of the margin are called support vectors, hence the name of the algorithm.\n",
    "\n",
    "####  Key Concepts\n",
    "\n",
    "1. **Hyperplane:** In a two-dimensional space, a hyperplane is a simple line, while in higher dimensions, it becomes a hyperplane. SVM aims to find the hyperplane that best separates data points of different classes.\n",
    "\n",
    "2. **Margin:** The margin is the distance between the hyperplane and the nearest data point from either class. SVM seeks to maximize this margin, providing robustness to the model.\n",
    "\n",
    "3. **Support Vectors:** Support vectors are the data points that lie on the edges of the margin. These instances play a crucial role in determining the optimal hyperplane and are essential for the SVM algorithm.\n",
    "\n",
    "####  Types of SVM\n",
    "\n",
    "1. **Linear SVM:** This is suitable for linearly separable data, where a straight line can effectively divide the classes.\n",
    "\n",
    "2. **Non-linear SVM (Kernel SVM):** When the data is not linearly separable, SVM can use a kernel function to map the input features into a higher-dimensional space, making it possible to find a hyperplane that separates the classes.\n",
    "\n",
    "####  Advantages\n",
    "\n",
    "- Effective in high-dimensional spaces.\n",
    "- Robust to overfitting, especially in high-dimensi\n"
   ]
  },
  {
   "cell_type": "code",
   "execution_count": 49,
   "metadata": {},
   "outputs": [
    {
     "name": "stdout",
     "output_type": "stream",
     "text": [
      "Confusion Matrix: \n",
      "[[ 9  3]\n",
      " [ 0 44]]\n",
      "\n",
      "Classification Report: \n",
      "              precision    recall  f1-score   support\n",
      "\n",
      "           0       1.00      0.75      0.86        12\n",
      "           1       0.94      1.00      0.97        44\n",
      "\n",
      "    accuracy                           0.95        56\n",
      "   macro avg       0.97      0.88      0.91        56\n",
      "weighted avg       0.95      0.95      0.94        56\n",
      "\n",
      "\n",
      "Support Vector Machine Accuracy is 94.64 %\n"
     ]
    }
   ],
   "source": [
    "svm = SVC(C = 100, gamma = 0.002) # # SVM (Support Vector Machine) classifier with specified hyperparameters\n",
    "svm.fit(x_train, y_train) # Training the SVM model using the training data\n",
    "svm_pred = svm.predict(x_test) # Making predictions on the test data using the trained SVM model\n",
    "\n",
    "# print statements\n",
    "print(f\"Confusion Matrix: \\n{confusion_matrix(y_test, svm_pred)}\\n\")\n",
    "print(f\"Classification Report: \\n{classification_report(y_test, svm_pred)}\\n\")\n",
    "print(f\"Support Vector Machine Accuracy is {round(accuracy_score(y_test, svm_pred)*100, ndigits = 2)} %\")"
   ]
  },
  {
   "cell_type": "markdown",
   "metadata": {},
   "source": [
    "### Evaluation:"
   ]
  },
  {
   "cell_type": "markdown",
   "metadata": {},
   "source": [
    "Text Text"
   ]
  },
  {
   "cell_type": "markdown",
   "metadata": {},
   "source": [
    "## Federated Learning with Flower"
   ]
  },
  {
   "cell_type": "markdown",
   "metadata": {},
   "source": [
    "#### What is Federated Learning?\n",
    "Federated Learning is a decentralized machine learning approach that allows model training across multiple devices or edge nodes without the need to transfer raw data to a central server. In this paradigm, models are trained locally on individual devices using their respective data, and only the model updates are transmitted to a central server, where they are aggregated to improve the global model.\n",
    "\n",
    "##### How Federated Learning Works\n",
    "\n",
    "The Federated Learning process typically involves the following steps:\n",
    "\n",
    "1. **Initialization:**\n",
    "   - A global model is initialized on a central server.\n",
    "\n",
    "2. **Local Training:**\n",
    "   - The global model is sent to participating devices.\n",
    "   - Each device trains the model using its local data, making updates based on its specific context.\n",
    "\n",
    "3. **Model Updates:**\n",
    "   - Only the model updates, not the raw data, are sent back to the central server.\n",
    "\n",
    "4. **Aggregation:**\n",
    "   - The central server aggregates the received updates from all participating devices to improve the global model.\n",
    "\n",
    "5. **Iteration:**\n",
    "   - Steps 2-4 are repeated iteratively to refine the global model collaboratively.\n",
    "\n",
    "##### Advantages of Federated Learning\n",
    "\n",
    "- **Privacy Preservation:**\n",
    "  - Federated Learning helps address privacy concerns by keeping data localized. Raw data never leaves individual devices, reducing the risk of sensitive information exposure.\n",
    "\n",
    "- **Edge Computing:**\n",
    "  - It leverages edge devices for local model training, making it suitable for scenarios with resource-constrained or bandwidth-limited devices.\n",
    "\n",
    "- **Decentralized Training:**\n",
    "  - Enables training on diverse datasets, reflecting variations in local environments and user behaviors.\n",
    "\n",
    "- **Reduced Communication Overhead:**\n",
    "  - Transmitting only model updates instead of raw data minimizes communication overhead, making it efficient for devices with limited network capabilities.\n",
    "\n",
    "##### Challenges and Considerations\n",
    "\n",
    "- **Heterogeneity:**\n",
    "  - Devices may have diverse data distributions and capabilities, requiring careful consideration in model aggregation.\n",
    "\n",
    "- **Security Concerns:**\n",
    "  - Federated Learning introduces new security challenges, such as the potential for model inversion attacks. Robust security measures must be implemented.\n",
    "\n",
    "- **Communication Delays:**\n",
    "  - Depending on the network conditions, communication delays between devices and the central server may impact the efficiency of the training process.\n",
    "\n",
    "##### Conclusion\n",
    "\n",
    "Federated Learning offers a privacy-preserving and collaborative approach to machine learning, making it well-suited for scenarios where data privacy is a priority or where edge devices play a crucial role in the learning process.\n",
    "\n",
    "#### What is Flower?\n",
    "\n",
    "Flower is a Python library designed to facilitate federated learning, a machine learning paradigm where the model is trained across decentralized devices or servers holding local data samples. The goal is to enable collaborative model training without sharing raw data.\n",
    "\n",
    "##### Features\n",
    "\n",
    "Flower offers several key features for federated learning:\n",
    "\n",
    "1. **Decentralized Training**\n",
    "\n",
    "Flower provides tools for training machine learning models across multiple devices or servers in a decentralized manner. Each device holds its local dataset, and model updates are aggregated without exchanging raw data.\n",
    "\n",
    "2. **Privacy-Preserving**\n",
    "\n",
    "By design, federated learning aims to preserve the privacy of local data. Flower ensures that the raw data never leaves the local device, as only model updates are shared during the training process.\n",
    "\n",
    "3. **Scalability**\n",
    "\n",
    "The library is designed to scale efficiently, making it suitable for federated learning scenarios involving a large number of devices or servers. This scalability is essential for applications with diverse and extensive datasets.\n",
    "\n",
    "4. **Compatibility with PyTorch and TensorFlow**\n",
    "\n",
    "Flower is compatible with popular deep learning frameworks like PyTorch and TensorFlow, making it accessible to a broad audience. This allows practitioners to leverage familiar tools while adopting federated learning techniques.\n"
   ]
  },
  {
   "cell_type": "markdown",
   "metadata": {},
   "source": [
    "### Training preperation"
   ]
  },
  {
   "cell_type": "code",
   "execution_count": 50,
   "metadata": {},
   "outputs": [],
   "source": [
    "###################################################################################### \n",
    "#                                                                                    #\n",
    "#                                   ! ATTENTION !                                    #\n",
    "#        When you change this values PLEASE restart this Notebook again !!!!         #\n",
    "#                                                                                    #\n",
    "######################################################################################\n",
    "\n",
    "NUM_CLIENTS = 3\n",
    "num_rounds = 5"
   ]
  },
  {
   "cell_type": "code",
   "execution_count": 51,
   "metadata": {},
   "outputs": [
    {
     "name": "stdout",
     "output_type": "stream",
     "text": [
      "Client 1: (74, 16), (74,), (19, 16), (19,)\n",
      "Client 2: (73, 16), (73,), (19, 16), (19,)\n",
      "Client 3: (73, 16), (73,), (18, 16), (18,)\n"
     ]
    }
   ],
   "source": [
    "# This function splits the given training and testing data into chunks for a specified number of clients in a federated learning scenario.\n",
    "\n",
    "def split_data_for_clients(x_train, y_train, x_test, y_test, num_clients):\n",
    "    # Calculate the size of each chunk for training and testing data\n",
    "    chunk_size_train = len(x_train) // num_clients\n",
    "    chunk_size_test = len(x_test) // num_clients\n",
    "\n",
    "    # Calculate the remainder for both training and testing data\n",
    "    remainder_train = len(x_train) % num_clients\n",
    "    remainder_test = len(x_test) % num_clients\n",
    "\n",
    "    # Initialize empty lists to store the chunks of data for each client\n",
    "    x_train_chunks, y_train_chunks, x_test_chunks, y_test_chunks = [], [], [], []\n",
    "\n",
    "    # Loop through each client to create data chunks\n",
    "    for i in range(num_clients):\n",
    "        # Calculate the start and end indices for the training data chunk\n",
    "        start_train = i * chunk_size_train\n",
    "        end_train = start_train + chunk_size_train + (1 if i < remainder_train else 0)\n",
    "\n",
    "        # Calculate the start and end indices for the testing data chunk\n",
    "        start_test = i * chunk_size_test\n",
    "        end_test = start_test + chunk_size_test + (1 if i < remainder_test else 0)\n",
    "\n",
    "        # Append the corresponding chunks to the lists\n",
    "        x_train_chunks.append(x_train[start_train:end_train])\n",
    "        y_train_chunks.append(y_train[start_train:end_train])\n",
    "        x_test_chunks.append(x_test[start_test:end_test])\n",
    "        y_test_chunks.append(y_test[start_test:end_test])\n",
    "\n",
    "    # Return the lists containing the data chunks for each client\n",
    "    return x_train_chunks, y_train_chunks, x_test_chunks, y_test_chunks\n",
    "\n",
    "x_train_chunks, y_train_chunks, x_test_chunks, y_test_chunks = split_data_for_clients(\n",
    "    x_train, y_train, x_test, y_test, NUM_CLIENTS\n",
    ")\n",
    "\n",
    "# print shape of each chunk\n",
    "for i in range(len(x_train_chunks)):\n",
    "    print(f\"Client {i+1}: {x_train_chunks[i].shape}, {y_train_chunks[i].shape}, {x_test_chunks[i].shape}, {y_test_chunks[i].shape}\")"
   ]
  },
  {
   "cell_type": "markdown",
   "metadata": {},
   "source": [
    "### Random Forest"
   ]
  },
  {
   "cell_type": "markdown",
   "metadata": {},
   "source": [
    "#### Functions"
   ]
  },
  {
   "cell_type": "code",
   "execution_count": 53,
   "metadata": {},
   "outputs": [],
   "source": [
    "def set_params(model: RandomForestClassifier, params: List[np.ndarray]) -> RandomForestClassifier:\n",
    "    model.n_estimators = int(params[0]) # The number of trees in the forest.\n",
    "    model.max_depth = int(params[1]) # The maximum depth of the trees. \n",
    "    model.min_samples_split = int(params[2]) # The minimum number of samples required to split an internal node.\n",
    "    model.min_samples_leaf = int(params[3]) # The minimum number of samples required to be at a leaf node.\n",
    "    return model"
   ]
  },
  {
   "cell_type": "code",
   "execution_count": 54,
   "metadata": {},
   "outputs": [],
   "source": [
    "def get_params(model: RandomForestClassifier) -> List[np.ndarray]:\n",
    "    params = [\n",
    "        model.n_estimators, # The number of trees in the forest.\n",
    "        model.max_depth, # The maximum depth of the trees. \n",
    "        model.min_samples_split, # The minimum number of samples required to split an internal node.\n",
    "        model.min_samples_leaf, # The minimum number of samples required to be at a leaf node.\n",
    "    ]\n",
    "    return params"
   ]
  },
  {
   "cell_type": "markdown",
   "metadata": {},
   "source": [
    "#### Script"
   ]
  },
  {
   "cell_type": "code",
   "execution_count": 55,
   "metadata": {},
   "outputs": [],
   "source": [
    "# Define a client for Federated Learning using the NumPyClient class from the fl library.\n",
    "class RandomForestClient(fl.client.NumPyClient):\n",
    "    # Constructor to initialize the client with training and testing data, local_epochs, and model parameters.\n",
    "    def __init__(self, X_train, y_train, X_test, y_test, local_epochs): \n",
    "        self.model = RandomForestClassifier(max_depth=max_depth, random_state = random_state) # Create a RandomForestClassifier model with specified parameters.\n",
    "        \n",
    "        # Store training and testing data along with local_epochs.\n",
    "        self.X_train, self.y_train = X_train, y_train\n",
    "        self.X_test, self.y_test = X_test, y_test\n",
    "        self.local_epochs = local_epochs\n",
    "\n",
    "    # Method to get the model parameters.\n",
    "    def get_parameters(self, config):\n",
    "        return get_params(self.model)\n",
    "\n",
    "    # Method to fit the model on the local training data for a specified number of local_epochs.\n",
    "    def fit(self, parameters, config):\n",
    "        set_params(self.model, parameters)\n",
    "        for _ in range(self.local_epochs):\n",
    "            self.model.fit(self.X_train, self.y_train)\n",
    "            return self.get_parameters(config), len(self.X_train), {}\n",
    "\n",
    "    # Method to evaluate the model on the local testing data and return accuracy.\n",
    "    def evaluate(self, parameters, config):\n",
    "        set_params(self.model, parameters)\n",
    "        accuracy = self.model.score(self.X_test, self.y_test)\n",
    "        return accuracy, len(self.X_test), {}\n",
    "\n",
    "client_data = list(zip(x_train_chunks, y_train_chunks, x_test_chunks, y_test_chunks))\n",
    "\n",
    "# Create a list of RandomForestClient objects\n",
    "client_models = [\n",
    "    RandomForestClient(X_train, y_train, X_test, y_test, local_epochs=1) \n",
    "    for X_train, y_train, X_test, y_test \n",
    "    in zip(x_train_chunks, y_train_chunks, x_test_chunks, y_test_chunks)\n",
    "    ]"
   ]
  },
  {
   "cell_type": "code",
   "execution_count": 56,
   "metadata": {},
   "outputs": [
    {
     "name": "stdout",
     "output_type": "stream",
     "text": [
      "Client 1 Accuracy: 0.7894736842105263\n",
      "Client 2 Accuracy: 0.8947368421052632\n",
      "Client 3 Accuracy: 0.8888888888888888\n"
     ]
    },
    {
     "data": {
      "image/png": "[encoded data removed]",
      "text/plain": [
       "<Figure size 640x480 with 1 Axes>"
      ]
     },
     "metadata": {},
     "output_type": "display_data"
    }
   ],
   "source": [
    "client_counter = 0\n",
    "client_list = []\n",
    "accuracy_list = []\n",
    "\n",
    "\n",
    "for client in client_models:\n",
    "    client_counter += 1\n",
    "    X_train, y_train, X_test, y_test = client.X_train, client.y_train, client.X_test, client.y_test # get data\n",
    "    client.model.fit(X_train, y_train) # train model\n",
    "    accuracy = client.model.score(X_test, y_test) # scores\n",
    "    \n",
    "    # print statements\n",
    "    print(f\"Client {client_counter} Accuracy: {accuracy}\")\n",
    "    client_list.append(client_counter)\n",
    "    accuracy_list.append(accuracy)\n",
    "\n",
    "# VIZ:\n",
    "plt.bar(client_list, accuracy_list)\n",
    "plt.xlabel('Client')\n",
    "plt.ylabel('Accuracy')\n",
    "plt.title('Accuracy of each Client')\n",
    "\n",
    "# Labels \n",
    "for i, acc in enumerate(accuracy_list):\n",
    "    plt.text(client_list[i], acc, f'{acc:.2f}', ha='center', va='bottom')\n",
    "\n",
    "plt.show() # show plot"
   ]
  },
  {
   "cell_type": "code",
   "execution_count": 57,
   "metadata": {},
   "outputs": [],
   "source": [
    "def client_fn(cid: str) -> RandomForestClient:\n",
    "    X_train, y_train, X_test, y_test = client_data[int(cid)]\n",
    "    return RandomForestClient(X_train, y_train, X_test, y_test)"
   ]
  },
  {
   "cell_type": "code",
   "execution_count": 58,
   "metadata": {},
   "outputs": [
    {
     "name": "stdout",
     "output_type": "stream",
     "text": [
      "{'bootstrap': True, 'ccp_alpha': 0.0, 'class_weight': None, 'criterion': 'gini', 'max_depth': 10, 'max_features': 'sqrt', 'max_leaf_nodes': None, 'max_samples': None, 'min_impurity_decrease': 0.0, 'min_samples_leaf': 1, 'min_samples_split': 2, 'min_weight_fraction_leaf': 0.0, 'monotonic_cst': None, 'n_estimators': 100, 'n_jobs': None, 'oob_score': False, 'random_state': 42, 'verbose': 0, 'warm_start': False}\n"
     ]
    },
    {
     "data": {
      "text/plain": [
       "[100, 10, 2, 1]"
      ]
     },
     "execution_count": 58,
     "metadata": {},
     "output_type": "execute_result"
    }
   ],
   "source": [
    "forest = client_models[0] # Assuming 'client_models' is a list of models, and we are selecting the first one\n",
    "print(forest.model.get_params()) # Retrieving and printing the parameters of the model\n",
    "forest.get_parameters({}) # Requesting and potentially retrieving additional parameters of the model"
   ]
  },
  {
   "cell_type": "code",
   "execution_count": 59,
   "metadata": {},
   "outputs": [
    {
     "name": "stderr",
     "output_type": "stream",
     "text": [
      "WARNING flwr 2024-01-23 17:53:40,204 | fedavg.py:117 | \n",
      "Setting `min_available_clients` lower than `min_fit_clients` or\n",
      "`min_evaluate_clients` can cause the server to fail when there are too few clients\n",
      "connected to the server. `min_available_clients` must be set to a value larger\n",
      "than or equal to the values of `min_fit_clients` and `min_evaluate_clients`.\n",
      "\n",
      "INFO flwr 2024-01-23 17:53:40,207 | app.py:178 | Starting Flower simulation, config: ServerConfig(num_rounds=5, round_timeout=None)\n",
      "/Users/marceldielacher/Library/Mobile Documents/com~apple~CloudDocs/Desktop/Studium/FH St.Pölten/Master/FML/FHSTP_FML/venv/lib/python3.9/site-packages/urllib3/__init__.py:34: NotOpenSSLWarning: urllib3 v2 only supports OpenSSL 1.1.1+, currently the 'ssl' module is compiled with 'LibreSSL 2.8.3'. See: https://github.com/urllib3/urllib3/issues/3020\n",
      "  warnings.warn(\n",
      "2024-01-23 17:53:43,458\tINFO worker.py:1621 -- Started a local Ray instance.\n",
      "INFO flwr 2024-01-23 17:53:46,155 | app.py:213 | Flower VCE: Ray initialized with resources: {'memory': 5363198772.0, 'node:127.0.0.1': 1.0, 'node:__internal_head__': 1.0, 'CPU': 8.0, 'object_store_memory': 2147483648.0}\n",
      "INFO flwr 2024-01-23 17:53:46,156 | app.py:219 | Optimize your simulation with Flower VCE: https://flower.dev/docs/framework/how-to-run-simulations.html\n",
      "INFO flwr 2024-01-23 17:53:46,157 | app.py:227 | No `client_resources` specified. Using minimal resources for clients.\n",
      "INFO flwr 2024-01-23 17:53:46,159 | app.py:242 | Flower VCE: Resources for each Virtual Client: {'num_cpus': 1, 'num_gpus': 0.0}\n",
      "INFO flwr 2024-01-23 17:53:46,186 | app.py:288 | Flower VCE: Creating VirtualClientEngineActorPool with 8 actors\n",
      "INFO flwr 2024-01-23 17:53:46,187 | server.py:89 | Initializing global parameters\n",
      "INFO flwr 2024-01-23 17:53:46,188 | server.py:276 | Requesting initial parameters from one random client\n",
      "\u001b[2m\u001b[33m(raylet)\u001b[0m /Users/marceldielacher/Library/Mobile Documents/com~apple~CloudDocs/Desktop/Studium/FH St.Pölten/Master/FML/FHSTP_FML/venv/lib/python3.9/site-packages/urllib3/__init__.py:34: NotOpenSSLWarning: urllib3 v2 only supports OpenSSL 1.1.1+, currently the 'ssl' module is compiled with 'LibreSSL 2.8.3'. See: https://github.com/urllib3/urllib3/issues/3020\n",
      "\u001b[2m\u001b[33m(raylet)\u001b[0m   warnings.warn(\n",
      "\u001b[2m\u001b[33m(raylet)\u001b[0m /Users/marceldielacher/Library/Mobile Documents/com~apple~CloudDocs/Desktop/Studium/FH St.Pölten/Master/FML/FHSTP_FML/venv/lib/python3.9/site-packages/urllib3/__init__.py:34: NotOpenSSLWarning: urllib3 v2 only supports OpenSSL 1.1.1+, currently the 'ssl' module is compiled with 'LibreSSL 2.8.3'. See: https://github.com/urllib3/urllib3/issues/3020\n",
      "\u001b[2m\u001b[33m(raylet)\u001b[0m   warnings.warn(\n",
      "\u001b[2m\u001b[33m(raylet)\u001b[0m /Users/marceldielacher/Library/Mobile Documents/com~apple~CloudDocs/Desktop/Studium/FH St.Pölten/Master/FML/FHSTP_FML/venv/lib/python3.9/site-packages/urllib3/__init__.py:34: NotOpenSSLWarning: urllib3 v2 only supports OpenSSL 1.1.1+, currently the 'ssl' module is compiled with 'LibreSSL 2.8.3'. See: https://github.com/urllib3/urllib3/issues/3020\n",
      "\u001b[2m\u001b[33m(raylet)\u001b[0m   warnings.warn(\n",
      "\u001b[2m\u001b[33m(raylet)\u001b[0m /Users/marceldielacher/Library/Mobile Documents/com~apple~CloudDocs/Desktop/Studium/FH St.Pölten/Master/FML/FHSTP_FML/venv/lib/python3.9/site-packages/urllib3/__init__.py:34: NotOpenSSLWarning: urllib3 v2 only supports OpenSSL 1.1.1+, currently the 'ssl' module is compiled with 'LibreSSL 2.8.3'. See: https://github.com/urllib3/urllib3/issues/3020\n",
      "\u001b[2m\u001b[33m(raylet)\u001b[0m   warnings.warn(\n",
      "\u001b[2m\u001b[33m(raylet)\u001b[0m /Users/marceldielacher/Library/Mobile Documents/com~apple~CloudDocs/Desktop/Studium/FH St.Pölten/Master/FML/FHSTP_FML/venv/lib/python3.9/site-packages/urllib3/__init__.py:34: NotOpenSSLWarning: urllib3 v2 only supports OpenSSL 1.1.1+, currently the 'ssl' module is compiled with 'LibreSSL 2.8.3'. See: https://github.com/urllib3/urllib3/issues/3020\n",
      "\u001b[2m\u001b[33m(raylet)\u001b[0m   warnings.warn(\n",
      "\u001b[2m\u001b[33m(raylet)\u001b[0m /Users/marceldielacher/Library/Mobile Documents/com~apple~CloudDocs/Desktop/Studium/FH St.Pölten/Master/FML/FHSTP_FML/venv/lib/python3.9/site-packages/urllib3/__init__.py:34: NotOpenSSLWarning: urllib3 v2 only supports OpenSSL 1.1.1+, currently the 'ssl' module is compiled with 'LibreSSL 2.8.3'. See: https://github.com/urllib3/urllib3/issues/3020\n",
      "\u001b[2m\u001b[33m(raylet)\u001b[0m   warnings.warn(\n",
      "\u001b[2m\u001b[33m(raylet)\u001b[0m /Users/marceldielacher/Library/Mobile Documents/com~apple~CloudDocs/Desktop/Studium/FH St.Pölten/Master/FML/FHSTP_FML/venv/lib/python3.9/site-packages/urllib3/__init__.py:34: NotOpenSSLWarning: urllib3 v2 only supports OpenSSL 1.1.1+, currently the 'ssl' module is compiled with 'LibreSSL 2.8.3'. See: https://github.com/urllib3/urllib3/issues/3020\n",
      "\u001b[2m\u001b[33m(raylet)\u001b[0m   warnings.warn(\n",
      "\u001b[2m\u001b[33m(raylet)\u001b[0m /Users/marceldielacher/Library/Mobile Documents/com~apple~CloudDocs/Desktop/Studium/FH St.Pölten/Master/FML/FHSTP_FML/venv/lib/python3.9/site-packages/urllib3/__init__.py:34: NotOpenSSLWarning: urllib3 v2 only supports OpenSSL 1.1.1+, currently the 'ssl' module is compiled with 'LibreSSL 2.8.3'. See: https://github.com/urllib3/urllib3/issues/3020\n",
      "\u001b[2m\u001b[33m(raylet)\u001b[0m   warnings.warn(\n",
      "INFO flwr 2024-01-23 17:53:51,243 | server.py:280 | Received initial parameters from one random client\n",
      "INFO flwr 2024-01-23 17:53:51,244 | server.py:91 | Evaluating initial parameters\n",
      "INFO flwr 2024-01-23 17:53:51,245 | server.py:104 | FL starting\n",
      "DEBUG flwr 2024-01-23 17:53:51,246 | server.py:222 | fit_round 1: strategy sampled 3 clients (out of 3)\n",
      "DEBUG flwr 2024-01-23 17:53:52,766 | server.py:236 | fit_round 1 received 3 results and 0 failures\n",
      "WARNING flwr 2024-01-23 17:53:52,768 | fedavg.py:242 | No fit_metrics_aggregation_fn provided\n",
      "DEBUG flwr 2024-01-23 17:53:52,769 | server.py:173 | evaluate_round 1: strategy sampled 2 clients (out of 3)\n",
      "DEBUG flwr 2024-01-23 17:53:52,848 | server.py:187 | evaluate_round 1 received 2 results and 0 failures\n",
      "WARNING flwr 2024-01-23 17:53:52,849 | fedavg.py:273 | No evaluate_metrics_aggregation_fn provided\n",
      "DEBUG flwr 2024-01-23 17:53:52,850 | server.py:222 | fit_round 2: strategy sampled 3 clients (out of 3)\n",
      "DEBUG flwr 2024-01-23 17:53:53,126 | server.py:236 | fit_round 2 received 3 results and 0 failures\n",
      "DEBUG flwr 2024-01-23 17:53:53,128 | server.py:173 | evaluate_round 2: strategy sampled 2 clients (out of 3)\n",
      "DEBUG flwr 2024-01-23 17:53:53,208 | server.py:187 | evaluate_round 2 received 2 results and 0 failures\n",
      "DEBUG flwr 2024-01-23 17:53:53,209 | server.py:222 | fit_round 3: strategy sampled 3 clients (out of 3)\n",
      "\u001b[2m\u001b[33m(raylet)\u001b[0m [2024-01-23 17:53:53,465 E 35378 1448980] (raylet) file_system_monitor.cc:111: /tmp/ray/session_2024-01-23_17-53-40_436785_32562 is over 95% full, available space: 5869129728; capacity: 250790436864. Object creation will fail if spilling is required.\n",
      "DEBUG flwr 2024-01-23 17:53:53,488 | server.py:236 | fit_round 3 received 3 results and 0 failures\n",
      "DEBUG flwr 2024-01-23 17:53:53,491 | server.py:173 | evaluate_round 3: strategy sampled 2 clients (out of 3)\n",
      "DEBUG flwr 2024-01-23 17:53:53,622 | server.py:187 | evaluate_round 3 received 2 results and 0 failures\n",
      "DEBUG flwr 2024-01-23 17:53:53,623 | server.py:222 | fit_round 4: strategy sampled 3 clients (out of 3)\n",
      "DEBUG flwr 2024-01-23 17:53:53,986 | server.py:236 | fit_round 4 received 3 results and 0 failures\n",
      "DEBUG flwr 2024-01-23 17:53:53,988 | server.py:173 | evaluate_round 4: strategy sampled 2 clients (out of 3)\n",
      "DEBUG flwr 2024-01-23 17:53:54,068 | server.py:187 | evaluate_round 4 received 2 results and 0 failures\n",
      "DEBUG flwr 2024-01-23 17:53:54,069 | server.py:222 | fit_round 5: strategy sampled 3 clients (out of 3)\n",
      "DEBUG flwr 2024-01-23 17:53:54,338 | server.py:236 | fit_round 5 received 3 results and 0 failures\n",
      "DEBUG flwr 2024-01-23 17:53:54,340 | server.py:173 | evaluate_round 5: strategy sampled 2 clients (out of 3)\n",
      "DEBUG flwr 2024-01-23 17:53:54,415 | server.py:187 | evaluate_round 5 received 2 results and 0 failures\n",
      "INFO flwr 2024-01-23 17:53:54,416 | server.py:153 | FL finished in 3.170835483000019\n",
      "INFO flwr 2024-01-23 17:53:54,417 | app.py:226 | app_fit: losses_distributed [(1, 0.8918918918918919), (2, 0.8918918918918919), (3, 0.8378378378378378), (4, 0.8378378378378378), (5, 0.8421052631578947)]\n",
      "INFO flwr 2024-01-23 17:53:54,418 | app.py:227 | app_fit: metrics_distributed_fit {}\n",
      "INFO flwr 2024-01-23 17:53:54,419 | app.py:228 | app_fit: metrics_distributed {}\n",
      "INFO flwr 2024-01-23 17:53:54,420 | app.py:229 | app_fit: losses_centralized []\n",
      "INFO flwr 2024-01-23 17:53:54,420 | app.py:230 | app_fit: metrics_centralized {}\n"
     ]
    }
   ],
   "source": [
    "# Define strategy\n",
    "strategy = fl.server.strategy.FedAvg(\n",
    "    fraction_fit=1.0,\n",
    "    fraction_evaluate=0.5,\n",
    "    min_fit_clients=1,\n",
    "    min_available_clients=1,\n",
    ")\n",
    "\n",
    "# get result\n",
    "result = fl.simulation.start_simulation(\n",
    "    num_clients=NUM_CLIENTS,\n",
    "    config=fl.server.ServerConfig(num_rounds=num_rounds),\n",
    "    strategy=strategy,\n",
    "    client_fn= lambda i: client_models[int(i)], #client_fn,\n",
    ")"
   ]
  },
  {
   "cell_type": "code",
   "execution_count": 60,
   "metadata": {},
   "outputs": [
    {
     "name": "stdout",
     "output_type": "stream",
     "text": [
      "History (loss, distributed):\n",
      "\tround 1: 0.8918918918918919\n",
      "\tround 2: 0.8918918918918919\n",
      "\tround 3: 0.8378378378378378\n",
      "\tround 4: 0.8378378378378378\n",
      "\tround 5: 0.8421052631578947\n",
      "\n"
     ]
    }
   ],
   "source": [
    "# Global Model FedAvg\n",
    "print(result)"
   ]
  },
  {
   "cell_type": "markdown",
   "metadata": {},
   "source": [
    "### Dynamic epochs"
   ]
  },
  {
   "cell_type": "code",
   "execution_count": 61,
   "metadata": {},
   "outputs": [
    {
     "name": "stderr",
     "output_type": "stream",
     "text": [
      "WARNING flwr 2024-01-23 17:53:54,543 | fedavg.py:117 | \n",
      "Setting `min_available_clients` lower than `min_fit_clients` or\n",
      "`min_evaluate_clients` can cause the server to fail when there are too few clients\n",
      "connected to the server. `min_available_clients` must be set to a value larger\n",
      "than or equal to the values of `min_fit_clients` and `min_evaluate_clients`.\n",
      "\n"
     ]
    },
    {
     "name": "stdout",
     "output_type": "stream",
     "text": [
      "Client 1 Accuracy: 0.7894736842105263\n",
      "Client 2 Accuracy: 0.8947368421052632\n"
     ]
    },
    {
     "name": "stderr",
     "output_type": "stream",
     "text": [
      "INFO flwr 2024-01-23 17:53:55,105 | app.py:178 | Starting Flower simulation, config: ServerConfig(num_rounds=5, round_timeout=None)\n"
     ]
    },
    {
     "name": "stdout",
     "output_type": "stream",
     "text": [
      "Client 3 Accuracy: 0.8888888888888888\n"
     ]
    },
    {
     "name": "stderr",
     "output_type": "stream",
     "text": [
      "2024-01-23 17:53:59,340\tINFO worker.py:1621 -- Started a local Ray instance.\n",
      "INFO flwr 2024-01-23 17:54:01,620 | app.py:213 | Flower VCE: Ray initialized with resources: {'memory': 6045426074.0, 'object_store_memory': 2147483648.0, 'node:__internal_head__': 1.0, 'CPU': 8.0, 'node:127.0.0.1': 1.0}\n",
      "INFO flwr 2024-01-23 17:54:01,621 | app.py:219 | Optimize your simulation with Flower VCE: https://flower.dev/docs/framework/how-to-run-simulations.html\n",
      "INFO flwr 2024-01-23 17:54:01,622 | app.py:227 | No `client_resources` specified. Using minimal resources for clients.\n",
      "INFO flwr 2024-01-23 17:54:01,622 | app.py:242 | Flower VCE: Resources for each Virtual Client: {'num_cpus': 1, 'num_gpus': 0.0}\n",
      "INFO flwr 2024-01-23 17:54:01,648 | app.py:288 | Flower VCE: Creating VirtualClientEngineActorPool with 8 actors\n",
      "INFO flwr 2024-01-23 17:54:01,650 | server.py:89 | Initializing global parameters\n",
      "INFO flwr 2024-01-23 17:54:01,651 | server.py:276 | Requesting initial parameters from one random client\n",
      "\u001b[2m\u001b[33m(raylet)\u001b[0m /Users/marceldielacher/Library/Mobile Documents/com~apple~CloudDocs/Desktop/Studium/FH St.Pölten/Master/FML/FHSTP_FML/venv/lib/python3.9/site-packages/urllib3/__init__.py:34: NotOpenSSLWarning: urllib3 v2 only supports OpenSSL 1.1.1+, currently the 'ssl' module is compiled with 'LibreSSL 2.8.3'. See: https://github.com/urllib3/urllib3/issues/3020\n",
      "\u001b[2m\u001b[33m(raylet)\u001b[0m   warnings.warn(\n",
      "\u001b[2m\u001b[33m(raylet)\u001b[0m /Users/marceldielacher/Library/Mobile Documents/com~apple~CloudDocs/Desktop/Studium/FH St.Pölten/Master/FML/FHSTP_FML/venv/lib/python3.9/site-packages/urllib3/__init__.py:34: NotOpenSSLWarning: urllib3 v2 only supports OpenSSL 1.1.1+, currently the 'ssl' module is compiled with 'LibreSSL 2.8.3'. See: https://github.com/urllib3/urllib3/issues/3020\n",
      "\u001b[2m\u001b[33m(raylet)\u001b[0m   warnings.warn(\n",
      "\u001b[2m\u001b[33m(raylet)\u001b[0m /Users/marceldielacher/Library/Mobile Documents/com~apple~CloudDocs/Desktop/Studium/FH St.Pölten/Master/FML/FHSTP_FML/venv/lib/python3.9/site-packages/urllib3/__init__.py:34: NotOpenSSLWarning: urllib3 v2 only supports OpenSSL 1.1.1+, currently the 'ssl' module is compiled with 'LibreSSL 2.8.3'. See: https://github.com/urllib3/urllib3/issues/3020\n",
      "\u001b[2m\u001b[33m(raylet)\u001b[0m   warnings.warn(\n",
      "\u001b[2m\u001b[33m(raylet)\u001b[0m /Users/marceldielacher/Library/Mobile Documents/com~apple~CloudDocs/Desktop/Studium/FH St.Pölten/Master/FML/FHSTP_FML/venv/lib/python3.9/site-packages/urllib3/__init__.py:34: NotOpenSSLWarning: urllib3 v2 only supports OpenSSL 1.1.1+, currently the 'ssl' module is compiled with 'LibreSSL 2.8.3'. See: https://github.com/urllib3/urllib3/issues/3020\n",
      "\u001b[2m\u001b[33m(raylet)\u001b[0m   warnings.warn(\n",
      "\u001b[2m\u001b[33m(raylet)\u001b[0m /Users/marceldielacher/Library/Mobile Documents/com~apple~CloudDocs/Desktop/Studium/FH St.Pölten/Master/FML/FHSTP_FML/venv/lib/python3.9/site-packages/urllib3/__init__.py:34: NotOpenSSLWarning: urllib3 v2 only supports OpenSSL 1.1.1+, currently the 'ssl' module is compiled with 'LibreSSL 2.8.3'. See: https://github.com/urllib3/urllib3/issues/3020\n",
      "\u001b[2m\u001b[33m(raylet)\u001b[0m   warnings.warn(\n",
      "\u001b[2m\u001b[33m(raylet)\u001b[0m /Users/marceldielacher/Library/Mobile Documents/com~apple~CloudDocs/Desktop/Studium/FH St.Pölten/Master/FML/FHSTP_FML/venv/lib/python3.9/site-packages/urllib3/__init__.py:34: NotOpenSSLWarning: urllib3 v2 only supports OpenSSL 1.1.1+, currently the 'ssl' module is compiled with 'LibreSSL 2.8.3'. See: https://github.com/urllib3/urllib3/issues/3020\n",
      "\u001b[2m\u001b[33m(raylet)\u001b[0m   warnings.warn(\n",
      "\u001b[2m\u001b[33m(raylet)\u001b[0m /Users/marceldielacher/Library/Mobile Documents/com~apple~CloudDocs/Desktop/Studium/FH St.Pölten/Master/FML/FHSTP_FML/venv/lib/python3.9/site-packages/urllib3/__init__.py:34: NotOpenSSLWarning: urllib3 v2 only supports OpenSSL 1.1.1+, currently the 'ssl' module is compiled with 'LibreSSL 2.8.3'. See: https://github.com/urllib3/urllib3/issues/3020\n",
      "\u001b[2m\u001b[33m(raylet)\u001b[0m   warnings.warn(\n",
      "\u001b[2m\u001b[33m(raylet)\u001b[0m /Users/marceldielacher/Library/Mobile Documents/com~apple~CloudDocs/Desktop/Studium/FH St.Pölten/Master/FML/FHSTP_FML/venv/lib/python3.9/site-packages/urllib3/__init__.py:34: NotOpenSSLWarning: urllib3 v2 only supports OpenSSL 1.1.1+, currently the 'ssl' module is compiled with 'LibreSSL 2.8.3'. See: https://github.com/urllib3/urllib3/issues/3020\n",
      "\u001b[2m\u001b[33m(raylet)\u001b[0m   warnings.warn(\n",
      "INFO flwr 2024-01-23 17:54:05,612 | server.py:280 | Received initial parameters from one random client\n",
      "INFO flwr 2024-01-23 17:54:05,613 | server.py:91 | Evaluating initial parameters\n",
      "INFO flwr 2024-01-23 17:54:05,614 | server.py:104 | FL starting\n",
      "DEBUG flwr 2024-01-23 17:54:05,616 | server.py:222 | fit_round 1: strategy sampled 3 clients (out of 3)\n",
      "DEBUG flwr 2024-01-23 17:54:07,110 | server.py:236 | fit_round 1 received 3 results and 0 failures\n",
      "WARNING flwr 2024-01-23 17:54:07,112 | fedavg.py:242 | No fit_metrics_aggregation_fn provided\n",
      "DEBUG flwr 2024-01-23 17:54:07,114 | server.py:173 | evaluate_round 1: strategy sampled 2 clients (out of 3)\n",
      "DEBUG flwr 2024-01-23 17:54:07,194 | server.py:187 | evaluate_round 1 received 2 results and 0 failures\n",
      "WARNING flwr 2024-01-23 17:54:07,195 | fedavg.py:273 | No evaluate_metrics_aggregation_fn provided\n",
      "DEBUG flwr 2024-01-23 17:54:07,196 | server.py:222 | fit_round 2: strategy sampled 3 clients (out of 3)\n",
      "DEBUG flwr 2024-01-23 17:54:07,466 | server.py:236 | fit_round 2 received 3 results and 0 failures\n",
      "DEBUG flwr 2024-01-23 17:54:07,468 | server.py:173 | evaluate_round 2: strategy sampled 2 clients (out of 3)\n",
      "DEBUG flwr 2024-01-23 17:54:07,545 | server.py:187 | evaluate_round 2 received 2 results and 0 failures\n",
      "DEBUG flwr 2024-01-23 17:54:07,546 | server.py:222 | fit_round 3: strategy sampled 3 clients (out of 3)\n",
      "DEBUG flwr 2024-01-23 17:54:07,805 | server.py:236 | fit_round 3 received 3 results and 0 failures\n",
      "DEBUG flwr 2024-01-23 17:54:07,807 | server.py:173 | evaluate_round 3: strategy sampled 2 clients (out of 3)\n",
      "DEBUG flwr 2024-01-23 17:54:07,948 | server.py:187 | evaluate_round 3 received 2 results and 0 failures\n",
      "DEBUG flwr 2024-01-23 17:54:07,949 | server.py:222 | fit_round 4: strategy sampled 3 clients (out of 3)\n",
      "DEBUG flwr 2024-01-23 17:54:08,300 | server.py:236 | fit_round 4 received 3 results and 0 failures\n",
      "DEBUG flwr 2024-01-23 17:54:08,302 | server.py:173 | evaluate_round 4: strategy sampled 2 clients (out of 3)\n",
      "DEBUG flwr 2024-01-23 17:54:08,378 | server.py:187 | evaluate_round 4 received 2 results and 0 failures\n",
      "DEBUG flwr 2024-01-23 17:54:08,378 | server.py:222 | fit_round 5: strategy sampled 3 clients (out of 3)\n",
      "DEBUG flwr 2024-01-23 17:54:08,644 | server.py:236 | fit_round 5 received 3 results and 0 failures\n",
      "DEBUG flwr 2024-01-23 17:54:08,647 | server.py:173 | evaluate_round 5: strategy sampled 2 clients (out of 3)\n",
      "DEBUG flwr 2024-01-23 17:54:08,724 | server.py:187 | evaluate_round 5 received 2 results and 0 failures\n",
      "INFO flwr 2024-01-23 17:54:08,725 | server.py:153 | FL finished in 3.1099785269998392\n",
      "INFO flwr 2024-01-23 17:54:08,726 | app.py:226 | app_fit: losses_distributed [(1, 0.8378378378378378), (2, 0.8918918918918919), (3, 0.8421052631578947), (4, 0.8421052631578947), (5, 0.8421052631578947)]\n",
      "INFO flwr 2024-01-23 17:54:08,727 | app.py:227 | app_fit: metrics_distributed_fit {}\n",
      "INFO flwr 2024-01-23 17:54:08,728 | app.py:228 | app_fit: metrics_distributed {}\n",
      "INFO flwr 2024-01-23 17:54:08,729 | app.py:229 | app_fit: losses_centralized []\n",
      "INFO flwr 2024-01-23 17:54:08,730 | app.py:230 | app_fit: metrics_centralized {}\n"
     ]
    }
   ],
   "source": [
    "client_models = [RandomForestClient(X_train, y_train, X_test, y_test, local_epochs=1) for X_train, y_train, X_test, y_test in zip(x_train_chunks, y_train_chunks, x_test_chunks, y_test_chunks)]\n",
    "\n",
    "# define strategy\n",
    "strategy = fl.server.strategy.FedAvg(\n",
    "    fraction_fit=1.0,\n",
    "    fraction_evaluate=0.5,\n",
    "    min_fit_clients=1,\n",
    "    min_available_clients=1,\n",
    ")\n",
    "\n",
    "client_counter = 0\n",
    "for client in client_models:\n",
    "    client_counter += 1\n",
    "    X_train, y_train, X_test, y_test = client.X_train, client.y_train, client.X_test, client.y_test\n",
    "    client.model.fit(X_train, y_train)\n",
    "    accuracy = client.model.score(X_test, y_test)\n",
    "    print(f\"Client {client_counter} Accuracy: {accuracy}\")\n",
    "\n",
    "# get result\n",
    "result = fl.simulation.start_simulation(\n",
    "    num_clients=NUM_CLIENTS,\n",
    "    config=fl.server.ServerConfig(num_rounds=num_rounds),\n",
    "    strategy=strategy,\n",
    "    client_fn= lambda i: client_models[int(i)], #client_fn,\n",
    ")"
   ]
  },
  {
   "cell_type": "code",
   "execution_count": 62,
   "metadata": {},
   "outputs": [
    {
     "name": "stderr",
     "output_type": "stream",
     "text": [
      "WARNING flwr 2024-01-23 17:54:08,796 | fedavg.py:117 | \n",
      "Setting `min_available_clients` lower than `min_fit_clients` or\n",
      "`min_evaluate_clients` can cause the server to fail when there are too few clients\n",
      "connected to the server. `min_available_clients` must be set to a value larger\n",
      "than or equal to the values of `min_fit_clients` and `min_evaluate_clients`.\n",
      "\n",
      "WARNING flwr 2024-01-23 17:54:08,803 | fedavg.py:117 | \n",
      "Setting `min_available_clients` lower than `min_fit_clients` or\n",
      "`min_evaluate_clients` can cause the server to fail when there are too few clients\n",
      "connected to the server. `min_available_clients` must be set to a value larger\n",
      "than or equal to the values of `min_fit_clients` and `min_evaluate_clients`.\n",
      "\n",
      "INFO flwr 2024-01-23 17:54:09,309 | app.py:178 | Starting Flower simulation, config: ServerConfig(num_rounds=5, round_timeout=None)\n",
      "2024-01-23 17:54:13,636\tINFO worker.py:1621 -- Started a local Ray instance.\n",
      "INFO flwr 2024-01-23 17:54:16,348 | app.py:213 | Flower VCE: Ray initialized with resources: {'CPU': 8.0, 'object_store_memory': 2147483648.0, 'node:127.0.0.1': 1.0, 'node:__internal_head__': 1.0, 'memory': 6046406656.0}\n",
      "INFO flwr 2024-01-23 17:54:16,349 | app.py:219 | Optimize your simulation with Flower VCE: https://flower.dev/docs/framework/how-to-run-simulations.html\n",
      "INFO flwr 2024-01-23 17:54:16,350 | app.py:227 | No `client_resources` specified. Using minimal resources for clients.\n",
      "INFO flwr 2024-01-23 17:54:16,351 | app.py:242 | Flower VCE: Resources for each Virtual Client: {'num_cpus': 1, 'num_gpus': 0.0}\n",
      "INFO flwr 2024-01-23 17:54:16,379 | app.py:288 | Flower VCE: Creating VirtualClientEngineActorPool with 8 actors\n",
      "INFO flwr 2024-01-23 17:54:16,383 | server.py:89 | Initializing global parameters\n",
      "INFO flwr 2024-01-23 17:54:16,387 | server.py:276 | Requesting initial parameters from one random client\n",
      "\u001b[2m\u001b[33m(raylet)\u001b[0m /Users/marceldielacher/Library/Mobile Documents/com~apple~CloudDocs/Desktop/Studium/FH St.Pölten/Master/FML/FHSTP_FML/venv/lib/python3.9/site-packages/urllib3/__init__.py:34: NotOpenSSLWarning: urllib3 v2 only supports OpenSSL 1.1.1+, currently the 'ssl' module is compiled with 'LibreSSL 2.8.3'. See: https://github.com/urllib3/urllib3/issues/3020\n",
      "\u001b[2m\u001b[33m(raylet)\u001b[0m   warnings.warn(\n",
      "\u001b[2m\u001b[33m(raylet)\u001b[0m /Users/marceldielacher/Library/Mobile Documents/com~apple~CloudDocs/Desktop/Studium/FH St.Pölten/Master/FML/FHSTP_FML/venv/lib/python3.9/site-packages/urllib3/__init__.py:34: NotOpenSSLWarning: urllib3 v2 only supports OpenSSL 1.1.1+, currently the 'ssl' module is compiled with 'LibreSSL 2.8.3'. See: https://github.com/urllib3/urllib3/issues/3020\n",
      "\u001b[2m\u001b[33m(raylet)\u001b[0m   warnings.warn(\n",
      "\u001b[2m\u001b[33m(raylet)\u001b[0m /Users/marceldielacher/Library/Mobile Documents/com~apple~CloudDocs/Desktop/Studium/FH St.Pölten/Master/FML/FHSTP_FML/venv/lib/python3.9/site-packages/urllib3/__init__.py:34: NotOpenSSLWarning: urllib3 v2 only supports OpenSSL 1.1.1+, currently the 'ssl' module is compiled with 'LibreSSL 2.8.3'. See: https://github.com/urllib3/urllib3/issues/3020\n",
      "\u001b[2m\u001b[33m(raylet)\u001b[0m   warnings.warn(\n",
      "\u001b[2m\u001b[33m(raylet)\u001b[0m /Users/marceldielacher/Library/Mobile Documents/com~apple~CloudDocs/Desktop/Studium/FH St.Pölten/Master/FML/FHSTP_FML/venv/lib/python3.9/site-packages/urllib3/__init__.py:34: NotOpenSSLWarning: urllib3 v2 only supports OpenSSL 1.1.1+, currently the 'ssl' module is compiled with 'LibreSSL 2.8.3'. See: https://github.com/urllib3/urllib3/issues/3020\n",
      "\u001b[2m\u001b[33m(raylet)\u001b[0m   warnings.warn(\n",
      "\u001b[2m\u001b[33m(raylet)\u001b[0m /Users/marceldielacher/Library/Mobile Documents/com~apple~CloudDocs/Desktop/Studium/FH St.Pölten/Master/FML/FHSTP_FML/venv/lib/python3.9/site-packages/urllib3/__init__.py:34: NotOpenSSLWarning: urllib3 v2 only supports OpenSSL 1.1.1+, currently the 'ssl' module is compiled with 'LibreSSL 2.8.3'. See: https://github.com/urllib3/urllib3/issues/3020\n",
      "\u001b[2m\u001b[33m(raylet)\u001b[0m   warnings.warn(\n",
      "\u001b[2m\u001b[33m(raylet)\u001b[0m /Users/marceldielacher/Library/Mobile Documents/com~apple~CloudDocs/Desktop/Studium/FH St.Pölten/Master/FML/FHSTP_FML/venv/lib/python3.9/site-packages/urllib3/__init__.py:34: NotOpenSSLWarning: urllib3 v2 only supports OpenSSL 1.1.1+, currently the 'ssl' module is compiled with 'LibreSSL 2.8.3'. See: https://github.com/urllib3/urllib3/issues/3020\n",
      "\u001b[2m\u001b[33m(raylet)\u001b[0m   warnings.warn(\n",
      "\u001b[2m\u001b[33m(raylet)\u001b[0m /Users/marceldielacher/Library/Mobile Documents/com~apple~CloudDocs/Desktop/Studium/FH St.Pölten/Master/FML/FHSTP_FML/venv/lib/python3.9/site-packages/urllib3/__init__.py:34: NotOpenSSLWarning: urllib3 v2 only supports OpenSSL 1.1.1+, currently the 'ssl' module is compiled with 'LibreSSL 2.8.3'. See: https://github.com/urllib3/urllib3/issues/3020\n",
      "\u001b[2m\u001b[33m(raylet)\u001b[0m   warnings.warn(\n",
      "\u001b[2m\u001b[33m(raylet)\u001b[0m /Users/marceldielacher/Library/Mobile Documents/com~apple~CloudDocs/Desktop/Studium/FH St.Pölten/Master/FML/FHSTP_FML/venv/lib/python3.9/site-packages/urllib3/__init__.py:34: NotOpenSSLWarning: urllib3 v2 only supports OpenSSL 1.1.1+, currently the 'ssl' module is compiled with 'LibreSSL 2.8.3'. See: https://github.com/urllib3/urllib3/issues/3020\n",
      "\u001b[2m\u001b[33m(raylet)\u001b[0m   warnings.warn(\n",
      "INFO flwr 2024-01-23 17:54:20,678 | server.py:280 | Received initial parameters from one random client\n",
      "INFO flwr 2024-01-23 17:54:20,679 | server.py:91 | Evaluating initial parameters\n",
      "INFO flwr 2024-01-23 17:54:20,680 | server.py:104 | FL starting\n",
      "DEBUG flwr 2024-01-23 17:54:20,681 | server.py:222 | fit_round 1: strategy sampled 3 clients (out of 3)\n",
      "DEBUG flwr 2024-01-23 17:54:22,157 | server.py:236 | fit_round 1 received 3 results and 0 failures\n",
      "WARNING flwr 2024-01-23 17:54:22,160 | fedavg.py:242 | No fit_metrics_aggregation_fn provided\n",
      "DEBUG flwr 2024-01-23 17:54:22,161 | server.py:173 | evaluate_round 1: strategy sampled 2 clients (out of 3)\n",
      "DEBUG flwr 2024-01-23 17:54:22,244 | server.py:187 | evaluate_round 1 received 2 results and 0 failures\n",
      "WARNING flwr 2024-01-23 17:54:22,245 | fedavg.py:273 | No evaluate_metrics_aggregation_fn provided\n",
      "DEBUG flwr 2024-01-23 17:54:22,246 | server.py:222 | fit_round 2: strategy sampled 3 clients (out of 3)\n",
      "DEBUG flwr 2024-01-23 17:54:22,530 | server.py:236 | fit_round 2 received 3 results and 0 failures\n",
      "DEBUG flwr 2024-01-23 17:54:22,533 | server.py:173 | evaluate_round 2: strategy sampled 2 clients (out of 3)\n",
      "DEBUG flwr 2024-01-23 17:54:22,623 | server.py:187 | evaluate_round 2 received 2 results and 0 failures\n",
      "DEBUG flwr 2024-01-23 17:54:22,623 | server.py:222 | fit_round 3: strategy sampled 3 clients (out of 3)\n",
      "DEBUG flwr 2024-01-23 17:54:22,905 | server.py:236 | fit_round 3 received 3 results and 0 failures\n",
      "DEBUG flwr 2024-01-23 17:54:22,907 | server.py:173 | evaluate_round 3: strategy sampled 2 clients (out of 3)\n",
      "DEBUG flwr 2024-01-23 17:54:23,056 | server.py:187 | evaluate_round 3 received 2 results and 0 failures\n",
      "DEBUG flwr 2024-01-23 17:54:23,057 | server.py:222 | fit_round 4: strategy sampled 3 clients (out of 3)\n",
      "DEBUG flwr 2024-01-23 17:54:23,400 | server.py:236 | fit_round 4 received 3 results and 0 failures\n",
      "DEBUG flwr 2024-01-23 17:54:23,402 | server.py:173 | evaluate_round 4: strategy sampled 2 clients (out of 3)\n",
      "DEBUG flwr 2024-01-23 17:54:23,477 | server.py:187 | evaluate_round 4 received 2 results and 0 failures\n",
      "DEBUG flwr 2024-01-23 17:54:23,478 | server.py:222 | fit_round 5: strategy sampled 3 clients (out of 3)\n",
      "\u001b[2m\u001b[33m(raylet)\u001b[0m [2024-01-23 17:54:23,620 E 35462 1450509] (raylet) file_system_monitor.cc:111: /tmp/ray/session_2024-01-23_17-54-10_953778_32562 is over 95% full, available space: 5861031936; capacity: 250790436864. Object creation will fail if spilling is required.\n",
      "DEBUG flwr 2024-01-23 17:54:23,776 | server.py:236 | fit_round 5 received 3 results and 0 failures\n",
      "DEBUG flwr 2024-01-23 17:54:23,778 | server.py:173 | evaluate_round 5: strategy sampled 2 clients (out of 3)\n",
      "DEBUG flwr 2024-01-23 17:54:23,854 | server.py:187 | evaluate_round 5 received 2 results and 0 failures\n",
      "INFO flwr 2024-01-23 17:54:23,855 | server.py:153 | FL finished in 3.1741331460002584\n",
      "INFO flwr 2024-01-23 17:54:23,855 | app.py:226 | app_fit: losses_distributed [(1, 0.8918918918918919), (2, 0.8918918918918919), (3, 0.8918918918918919), (4, 0.8918918918918919), (5, 0.8421052631578947)]\n",
      "INFO flwr 2024-01-23 17:54:23,856 | app.py:227 | app_fit: metrics_distributed_fit {}\n",
      "INFO flwr 2024-01-23 17:54:23,857 | app.py:228 | app_fit: metrics_distributed {}\n",
      "INFO flwr 2024-01-23 17:54:23,858 | app.py:229 | app_fit: losses_centralized []\n",
      "INFO flwr 2024-01-23 17:54:23,859 | app.py:230 | app_fit: metrics_centralized {}\n",
      "WARNING flwr 2024-01-23 17:54:23,862 | fedavg.py:117 | \n",
      "Setting `min_available_clients` lower than `min_fit_clients` or\n",
      "`min_evaluate_clients` can cause the server to fail when there are too few clients\n",
      "connected to the server. `min_available_clients` must be set to a value larger\n",
      "than or equal to the values of `min_fit_clients` and `min_evaluate_clients`.\n",
      "\n",
      "INFO flwr 2024-01-23 17:54:24,404 | app.py:178 | Starting Flower simulation, config: ServerConfig(num_rounds=5, round_timeout=None)\n",
      "2024-01-23 17:54:28,770\tINFO worker.py:1621 -- Started a local Ray instance.\n",
      "INFO flwr 2024-01-23 17:54:31,677 | app.py:213 | Flower VCE: Ray initialized with resources: {'CPU': 8.0, 'node:127.0.0.1': 1.0, 'node:__internal_head__': 1.0, 'object_store_memory': 2147483648.0, 'memory': 6014928487.0}\n",
      "INFO flwr 2024-01-23 17:54:31,678 | app.py:219 | Optimize your simulation with Flower VCE: https://flower.dev/docs/framework/how-to-run-simulations.html\n",
      "INFO flwr 2024-01-23 17:54:31,680 | app.py:227 | No `client_resources` specified. Using minimal resources for clients.\n",
      "INFO flwr 2024-01-23 17:54:31,682 | app.py:242 | Flower VCE: Resources for each Virtual Client: {'num_cpus': 1, 'num_gpus': 0.0}\n",
      "INFO flwr 2024-01-23 17:54:31,723 | app.py:288 | Flower VCE: Creating VirtualClientEngineActorPool with 8 actors\n",
      "INFO flwr 2024-01-23 17:54:31,725 | server.py:89 | Initializing global parameters\n",
      "INFO flwr 2024-01-23 17:54:31,726 | server.py:276 | Requesting initial parameters from one random client\n",
      "\u001b[2m\u001b[33m(raylet)\u001b[0m /Users/marceldielacher/Library/Mobile Documents/com~apple~CloudDocs/Desktop/Studium/FH St.Pölten/Master/FML/FHSTP_FML/venv/lib/python3.9/site-packages/urllib3/__init__.py:34: NotOpenSSLWarning: urllib3 v2 only supports OpenSSL 1.1.1+, currently the 'ssl' module is compiled with 'LibreSSL 2.8.3'. See: https://github.com/urllib3/urllib3/issues/3020\n",
      "\u001b[2m\u001b[33m(raylet)\u001b[0m   warnings.warn(\n",
      "\u001b[2m\u001b[33m(raylet)\u001b[0m /Users/marceldielacher/Library/Mobile Documents/com~apple~CloudDocs/Desktop/Studium/FH St.Pölten/Master/FML/FHSTP_FML/venv/lib/python3.9/site-packages/urllib3/__init__.py:34: NotOpenSSLWarning: urllib3 v2 only supports OpenSSL 1.1.1+, currently the 'ssl' module is compiled with 'LibreSSL 2.8.3'. See: https://github.com/urllib3/urllib3/issues/3020\n",
      "\u001b[2m\u001b[33m(raylet)\u001b[0m   warnings.warn(\n",
      "\u001b[2m\u001b[33m(raylet)\u001b[0m /Users/marceldielacher/Library/Mobile Documents/com~apple~CloudDocs/Desktop/Studium/FH St.Pölten/Master/FML/FHSTP_FML/venv/lib/python3.9/site-packages/urllib3/__init__.py:34: NotOpenSSLWarning: urllib3 v2 only supports OpenSSL 1.1.1+, currently the 'ssl' module is compiled with 'LibreSSL 2.8.3'. See: https://github.com/urllib3/urllib3/issues/3020\n",
      "\u001b[2m\u001b[33m(raylet)\u001b[0m   warnings.warn(\n",
      "\u001b[2m\u001b[33m(raylet)\u001b[0m /Users/marceldielacher/Library/Mobile Documents/com~apple~CloudDocs/Desktop/Studium/FH St.Pölten/Master/FML/FHSTP_FML/venv/lib/python3.9/site-packages/urllib3/__init__.py:34: NotOpenSSLWarning: urllib3 v2 only supports OpenSSL 1.1.1+, currently the 'ssl' module is compiled with 'LibreSSL 2.8.3'. See: https://github.com/urllib3/urllib3/issues/3020\n",
      "\u001b[2m\u001b[33m(raylet)\u001b[0m   warnings.warn(\n",
      "\u001b[2m\u001b[33m(raylet)\u001b[0m /Users/marceldielacher/Library/Mobile Documents/com~apple~CloudDocs/Desktop/Studium/FH St.Pölten/Master/FML/FHSTP_FML/venv/lib/python3.9/site-packages/urllib3/__init__.py:34: NotOpenSSLWarning: urllib3 v2 only supports OpenSSL 1.1.1+, currently the 'ssl' module is compiled with 'LibreSSL 2.8.3'. See: https://github.com/urllib3/urllib3/issues/3020\n",
      "\u001b[2m\u001b[33m(raylet)\u001b[0m   warnings.warn(\n",
      "\u001b[2m\u001b[33m(raylet)\u001b[0m /Users/marceldielacher/Library/Mobile Documents/com~apple~CloudDocs/Desktop/Studium/FH St.Pölten/Master/FML/FHSTP_FML/venv/lib/python3.9/site-packages/urllib3/__init__.py:34: NotOpenSSLWarning: urllib3 v2 only supports OpenSSL 1.1.1+, currently the 'ssl' module is compiled with 'LibreSSL 2.8.3'. See: https://github.com/urllib3/urllib3/issues/3020\n",
      "\u001b[2m\u001b[33m(raylet)\u001b[0m   warnings.warn(\n",
      "\u001b[2m\u001b[33m(raylet)\u001b[0m /Users/marceldielacher/Library/Mobile Documents/com~apple~CloudDocs/Desktop/Studium/FH St.Pölten/Master/FML/FHSTP_FML/venv/lib/python3.9/site-packages/urllib3/__init__.py:34: NotOpenSSLWarning: urllib3 v2 only supports OpenSSL 1.1.1+, currently the 'ssl' module is compiled with 'LibreSSL 2.8.3'. See: https://github.com/urllib3/urllib3/issues/3020\n",
      "\u001b[2m\u001b[33m(raylet)\u001b[0m   warnings.warn(\n",
      "\u001b[2m\u001b[33m(raylet)\u001b[0m /Users/marceldielacher/Library/Mobile Documents/com~apple~CloudDocs/Desktop/Studium/FH St.Pölten/Master/FML/FHSTP_FML/venv/lib/python3.9/site-packages/urllib3/__init__.py:34: NotOpenSSLWarning: urllib3 v2 only supports OpenSSL 1.1.1+, currently the 'ssl' module is compiled with 'LibreSSL 2.8.3'. See: https://github.com/urllib3/urllib3/issues/3020\n",
      "\u001b[2m\u001b[33m(raylet)\u001b[0m   warnings.warn(\n",
      "INFO flwr 2024-01-23 17:54:35,891 | server.py:280 | Received initial parameters from one random client\n",
      "INFO flwr 2024-01-23 17:54:35,891 | server.py:91 | Evaluating initial parameters\n",
      "INFO flwr 2024-01-23 17:54:35,892 | server.py:104 | FL starting\n",
      "DEBUG flwr 2024-01-23 17:54:35,893 | server.py:222 | fit_round 1: strategy sampled 3 clients (out of 3)\n",
      "DEBUG flwr 2024-01-23 17:54:37,352 | server.py:236 | fit_round 1 received 3 results and 0 failures\n",
      "WARNING flwr 2024-01-23 17:54:37,355 | fedavg.py:242 | No fit_metrics_aggregation_fn provided\n",
      "DEBUG flwr 2024-01-23 17:54:37,356 | server.py:173 | evaluate_round 1: strategy sampled 2 clients (out of 3)\n",
      "DEBUG flwr 2024-01-23 17:54:37,437 | server.py:187 | evaluate_round 1 received 2 results and 0 failures\n",
      "WARNING flwr 2024-01-23 17:54:37,439 | fedavg.py:273 | No evaluate_metrics_aggregation_fn provided\n",
      "DEBUG flwr 2024-01-23 17:54:37,440 | server.py:222 | fit_round 2: strategy sampled 3 clients (out of 3)\n",
      "DEBUG flwr 2024-01-23 17:54:37,710 | server.py:236 | fit_round 2 received 3 results and 0 failures\n",
      "DEBUG flwr 2024-01-23 17:54:37,712 | server.py:173 | evaluate_round 2: strategy sampled 2 clients (out of 3)\n",
      "DEBUG flwr 2024-01-23 17:54:37,789 | server.py:187 | evaluate_round 2 received 2 results and 0 failures\n",
      "DEBUG flwr 2024-01-23 17:54:37,790 | server.py:222 | fit_round 3: strategy sampled 3 clients (out of 3)\n",
      "DEBUG flwr 2024-01-23 17:54:38,069 | server.py:236 | fit_round 3 received 3 results and 0 failures\n",
      "DEBUG flwr 2024-01-23 17:54:38,071 | server.py:173 | evaluate_round 3: strategy sampled 2 clients (out of 3)\n",
      "DEBUG flwr 2024-01-23 17:54:38,211 | server.py:187 | evaluate_round 3 received 2 results and 0 failures\n",
      "DEBUG flwr 2024-01-23 17:54:38,212 | server.py:222 | fit_round 4: strategy sampled 3 clients (out of 3)\n",
      "DEBUG flwr 2024-01-23 17:54:38,590 | server.py:236 | fit_round 4 received 3 results and 0 failures\n",
      "DEBUG flwr 2024-01-23 17:54:38,593 | server.py:173 | evaluate_round 4: strategy sampled 2 clients (out of 3)\n",
      "DEBUG flwr 2024-01-23 17:54:38,676 | server.py:187 | evaluate_round 4 received 2 results and 0 failures\n",
      "DEBUG flwr 2024-01-23 17:54:38,677 | server.py:222 | fit_round 5: strategy sampled 3 clients (out of 3)\n",
      "\u001b[2m\u001b[33m(raylet)\u001b[0m [2024-01-23 17:54:38,747 E 35509 1451448] (raylet) file_system_monitor.cc:111: /tmp/ray/session_2024-01-23_17-54-26_045440_32562 is over 95% full, available space: 5854228480; capacity: 250790436864. Object creation will fail if spilling is required.\n",
      "DEBUG flwr 2024-01-23 17:54:39,058 | server.py:236 | fit_round 5 received 3 results and 0 failures\n",
      "DEBUG flwr 2024-01-23 17:54:39,060 | server.py:173 | evaluate_round 5: strategy sampled 2 clients (out of 3)\n",
      "DEBUG flwr 2024-01-23 17:54:39,156 | server.py:187 | evaluate_round 5 received 2 results and 0 failures\n",
      "INFO flwr 2024-01-23 17:54:39,157 | server.py:153 | FL finished in 3.264259872000366\n",
      "INFO flwr 2024-01-23 17:54:39,158 | app.py:226 | app_fit: losses_distributed [(1, 0.8421052631578947), (2, 0.8918918918918919), (3, 0.8918918918918919), (4, 0.8918918918918919), (5, 0.8378378378378378)]\n",
      "INFO flwr 2024-01-23 17:54:39,159 | app.py:227 | app_fit: metrics_distributed_fit {}\n",
      "INFO flwr 2024-01-23 17:54:39,159 | app.py:228 | app_fit: metrics_distributed {}\n",
      "INFO flwr 2024-01-23 17:54:39,160 | app.py:229 | app_fit: losses_centralized []\n",
      "INFO flwr 2024-01-23 17:54:39,161 | app.py:230 | app_fit: metrics_centralized {}\n",
      "WARNING flwr 2024-01-23 17:54:39,165 | fedavg.py:117 | \n",
      "Setting `min_available_clients` lower than `min_fit_clients` or\n",
      "`min_evaluate_clients` can cause the server to fail when there are too few clients\n",
      "connected to the server. `min_available_clients` must be set to a value larger\n",
      "than or equal to the values of `min_fit_clients` and `min_evaluate_clients`.\n",
      "\n",
      "INFO flwr 2024-01-23 17:54:39,726 | app.py:178 | Starting Flower simulation, config: ServerConfig(num_rounds=5, round_timeout=None)\n",
      "2024-01-23 17:54:45,057\tINFO worker.py:1621 -- Started a local Ray instance.\n",
      "INFO flwr 2024-01-23 17:54:47,873 | app.py:213 | Flower VCE: Ray initialized with resources: {'memory': 6040497357.0, 'node:127.0.0.1': 1.0, 'CPU': 8.0, 'object_store_memory': 2147483648.0, 'node:__internal_head__': 1.0}\n",
      "INFO flwr 2024-01-23 17:54:47,874 | app.py:219 | Optimize your simulation with Flower VCE: https://flower.dev/docs/framework/how-to-run-simulations.html\n",
      "INFO flwr 2024-01-23 17:54:47,875 | app.py:227 | No `client_resources` specified. Using minimal resources for clients.\n",
      "INFO flwr 2024-01-23 17:54:47,876 | app.py:242 | Flower VCE: Resources for each Virtual Client: {'num_cpus': 1, 'num_gpus': 0.0}\n",
      "INFO flwr 2024-01-23 17:54:47,906 | app.py:288 | Flower VCE: Creating VirtualClientEngineActorPool with 8 actors\n",
      "INFO flwr 2024-01-23 17:54:47,908 | server.py:89 | Initializing global parameters\n",
      "INFO flwr 2024-01-23 17:54:47,909 | server.py:276 | Requesting initial parameters from one random client\n",
      "\u001b[2m\u001b[33m(raylet)\u001b[0m /Users/marceldielacher/Library/Mobile Documents/com~apple~CloudDocs/Desktop/Studium/FH St.Pölten/Master/FML/FHSTP_FML/venv/lib/python3.9/site-packages/urllib3/__init__.py:34: NotOpenSSLWarning: urllib3 v2 only supports OpenSSL 1.1.1+, currently the 'ssl' module is compiled with 'LibreSSL 2.8.3'. See: https://github.com/urllib3/urllib3/issues/3020\n",
      "\u001b[2m\u001b[33m(raylet)\u001b[0m   warnings.warn(\n",
      "\u001b[2m\u001b[33m(raylet)\u001b[0m /Users/marceldielacher/Library/Mobile Documents/com~apple~CloudDocs/Desktop/Studium/FH St.Pölten/Master/FML/FHSTP_FML/venv/lib/python3.9/site-packages/urllib3/__init__.py:34: NotOpenSSLWarning: urllib3 v2 only supports OpenSSL 1.1.1+, currently the 'ssl' module is compiled with 'LibreSSL 2.8.3'. See: https://github.com/urllib3/urllib3/issues/3020\n",
      "\u001b[2m\u001b[33m(raylet)\u001b[0m   warnings.warn(\n",
      "\u001b[2m\u001b[33m(raylet)\u001b[0m /Users/marceldielacher/Library/Mobile Documents/com~apple~CloudDocs/Desktop/Studium/FH St.Pölten/Master/FML/FHSTP_FML/venv/lib/python3.9/site-packages/urllib3/__init__.py:34: NotOpenSSLWarning: urllib3 v2 only supports OpenSSL 1.1.1+, currently the 'ssl' module is compiled with 'LibreSSL 2.8.3'. See: https://github.com/urllib3/urllib3/issues/3020\n",
      "\u001b[2m\u001b[33m(raylet)\u001b[0m   warnings.warn(\n",
      "\u001b[2m\u001b[33m(raylet)\u001b[0m /Users/marceldielacher/Library/Mobile Documents/com~apple~CloudDocs/Desktop/Studium/FH St.Pölten/Master/FML/FHSTP_FML/venv/lib/python3.9/site-packages/urllib3/__init__.py:34: NotOpenSSLWarning: urllib3 v2 only supports OpenSSL 1.1.1+, currently the 'ssl' module is compiled with 'LibreSSL 2.8.3'. See: https://github.com/urllib3/urllib3/issues/3020\n",
      "\u001b[2m\u001b[33m(raylet)\u001b[0m   warnings.warn(\n",
      "\u001b[2m\u001b[33m(raylet)\u001b[0m /Users/marceldielacher/Library/Mobile Documents/com~apple~CloudDocs/Desktop/Studium/FH St.Pölten/Master/FML/FHSTP_FML/venv/lib/python3.9/site-packages/urllib3/__init__.py:34: NotOpenSSLWarning: urllib3 v2 only supports OpenSSL 1.1.1+, currently the 'ssl' module is compiled with 'LibreSSL 2.8.3'. See: https://github.com/urllib3/urllib3/issues/3020\n",
      "\u001b[2m\u001b[33m(raylet)\u001b[0m   warnings.warn(\n",
      "\u001b[2m\u001b[33m(raylet)\u001b[0m /Users/marceldielacher/Library/Mobile Documents/com~apple~CloudDocs/Desktop/Studium/FH St.Pölten/Master/FML/FHSTP_FML/venv/lib/python3.9/site-packages/urllib3/__init__.py:34: NotOpenSSLWarning: urllib3 v2 only supports OpenSSL 1.1.1+, currently the 'ssl' module is compiled with 'LibreSSL 2.8.3'. See: https://github.com/urllib3/urllib3/issues/3020\n",
      "\u001b[2m\u001b[33m(raylet)\u001b[0m   warnings.warn(\n",
      "\u001b[2m\u001b[33m(raylet)\u001b[0m /Users/marceldielacher/Library/Mobile Documents/com~apple~CloudDocs/Desktop/Studium/FH St.Pölten/Master/FML/FHSTP_FML/venv/lib/python3.9/site-packages/urllib3/__init__.py:34: NotOpenSSLWarning: urllib3 v2 only supports OpenSSL 1.1.1+, currently the 'ssl' module is compiled with 'LibreSSL 2.8.3'. See: https://github.com/urllib3/urllib3/issues/3020\n",
      "\u001b[2m\u001b[33m(raylet)\u001b[0m   warnings.warn(\n",
      "\u001b[2m\u001b[33m(raylet)\u001b[0m /Users/marceldielacher/Library/Mobile Documents/com~apple~CloudDocs/Desktop/Studium/FH St.Pölten/Master/FML/FHSTP_FML/venv/lib/python3.9/site-packages/urllib3/__init__.py:34: NotOpenSSLWarning: urllib3 v2 only supports OpenSSL 1.1.1+, currently the 'ssl' module is compiled with 'LibreSSL 2.8.3'. See: https://github.com/urllib3/urllib3/issues/3020\n",
      "\u001b[2m\u001b[33m(raylet)\u001b[0m   warnings.warn(\n",
      "INFO flwr 2024-01-23 17:54:52,517 | server.py:280 | Received initial parameters from one random client\n",
      "INFO flwr 2024-01-23 17:54:52,518 | server.py:91 | Evaluating initial parameters\n",
      "INFO flwr 2024-01-23 17:54:52,519 | server.py:104 | FL starting\n",
      "DEBUG flwr 2024-01-23 17:54:52,520 | server.py:222 | fit_round 1: strategy sampled 3 clients (out of 3)\n",
      "\u001b[2m\u001b[33m(raylet)\u001b[0m [2024-01-23 17:54:54,002 E 35557 1452395] (raylet) file_system_monitor.cc:111: /tmp/ray/session_2024-01-23_17-54-41_300848_32562 is over 95% full, available space: 5837369344; capacity: 250790436864. Object creation will fail if spilling is required.\n",
      "DEBUG flwr 2024-01-23 17:54:54,096 | server.py:236 | fit_round 1 received 3 results and 0 failures\n",
      "WARNING flwr 2024-01-23 17:54:54,099 | fedavg.py:242 | No fit_metrics_aggregation_fn provided\n",
      "DEBUG flwr 2024-01-23 17:54:54,100 | server.py:173 | evaluate_round 1: strategy sampled 2 clients (out of 3)\n",
      "DEBUG flwr 2024-01-23 17:54:54,213 | server.py:187 | evaluate_round 1 received 2 results and 0 failures\n",
      "WARNING flwr 2024-01-23 17:54:54,214 | fedavg.py:273 | No evaluate_metrics_aggregation_fn provided\n",
      "DEBUG flwr 2024-01-23 17:54:54,215 | server.py:222 | fit_round 2: strategy sampled 3 clients (out of 3)\n",
      "DEBUG flwr 2024-01-23 17:54:54,559 | server.py:236 | fit_round 2 received 3 results and 0 failures\n",
      "DEBUG flwr 2024-01-23 17:54:54,565 | server.py:173 | evaluate_round 2: strategy sampled 2 clients (out of 3)\n",
      "DEBUG flwr 2024-01-23 17:54:54,681 | server.py:187 | evaluate_round 2 received 2 results and 0 failures\n",
      "DEBUG flwr 2024-01-23 17:54:54,682 | server.py:222 | fit_round 3: strategy sampled 3 clients (out of 3)\n",
      "DEBUG flwr 2024-01-23 17:54:54,991 | server.py:236 | fit_round 3 received 3 results and 0 failures\n",
      "DEBUG flwr 2024-01-23 17:54:54,993 | server.py:173 | evaluate_round 3: strategy sampled 2 clients (out of 3)\n",
      "DEBUG flwr 2024-01-23 17:54:55,136 | server.py:187 | evaluate_round 3 received 2 results and 0 failures\n",
      "DEBUG flwr 2024-01-23 17:54:55,137 | server.py:222 | fit_round 4: strategy sampled 3 clients (out of 3)\n",
      "DEBUG flwr 2024-01-23 17:54:55,503 | server.py:236 | fit_round 4 received 3 results and 0 failures\n",
      "DEBUG flwr 2024-01-23 17:54:55,505 | server.py:173 | evaluate_round 4: strategy sampled 2 clients (out of 3)\n",
      "DEBUG flwr 2024-01-23 17:54:55,580 | server.py:187 | evaluate_round 4 received 2 results and 0 failures\n",
      "DEBUG flwr 2024-01-23 17:54:55,581 | server.py:222 | fit_round 5: strategy sampled 3 clients (out of 3)\n",
      "DEBUG flwr 2024-01-23 17:54:55,938 | server.py:236 | fit_round 5 received 3 results and 0 failures\n",
      "DEBUG flwr 2024-01-23 17:54:55,940 | server.py:173 | evaluate_round 5: strategy sampled 2 clients (out of 3)\n",
      "DEBUG flwr 2024-01-23 17:54:56,014 | server.py:187 | evaluate_round 5 received 2 results and 0 failures\n",
      "INFO flwr 2024-01-23 17:54:56,015 | server.py:153 | FL finished in 3.495231967000109\n",
      "INFO flwr 2024-01-23 17:54:56,016 | app.py:226 | app_fit: losses_distributed [(1, 0.8918918918918919), (2, 0.8378378378378378), (3, 0.8421052631578947), (4, 0.8378378378378378), (5, 0.8421052631578947)]\n",
      "INFO flwr 2024-01-23 17:54:56,017 | app.py:227 | app_fit: metrics_distributed_fit {}\n",
      "INFO flwr 2024-01-23 17:54:56,019 | app.py:228 | app_fit: metrics_distributed {}\n",
      "INFO flwr 2024-01-23 17:54:56,020 | app.py:229 | app_fit: losses_centralized []\n",
      "INFO flwr 2024-01-23 17:54:56,021 | app.py:230 | app_fit: metrics_centralized {}\n"
     ]
    }
   ],
   "source": [
    "results = []\n",
    "\n",
    "strategy = fl.server.strategy.FedAvg(\n",
    "    fraction_fit=1.0,\n",
    "    fraction_evaluate=0.5,\n",
    "    min_fit_clients=1,\n",
    "    min_available_clients=1,\n",
    ")\n",
    "\n",
    "for local_epochs in [1,3,5]:\n",
    "\n",
    "    client_models = [RandomForestClient(X_train, y_train, X_test, y_test, local_epochs=local_epochs) for X_train, y_train, X_test, y_test in zip(x_train_chunks, y_train_chunks, x_test_chunks, y_test_chunks)]\n",
    "\n",
    "    strategy = fl.server.strategy.FedAvg(\n",
    "        fraction_fit=1.0,\n",
    "        fraction_evaluate=0.5,\n",
    "        min_fit_clients=1,\n",
    "        min_available_clients=1,\n",
    "    )\n",
    "\n",
    "    client_counter = 0\n",
    "    for client in client_models:\n",
    "        client_counter += 1\n",
    "        X_train, y_train, X_test, y_test = client.X_train, client.y_train, client.X_test, client.y_test\n",
    "        \n",
    "        # Trainiere das Modell\n",
    "        client.model.fit(X_train, y_train)\n",
    "\n",
    "    # flower simulation setup\n",
    "    result = fl.simulation.start_simulation(\n",
    "        num_clients=NUM_CLIENTS,\n",
    "        config=fl.server.ServerConfig(num_rounds=num_rounds),\n",
    "        strategy=strategy,\n",
    "        client_fn= lambda i: client_models[int(i)], #client_fn,\n",
    "    )\n",
    "    # Ergebnisse speichern\n",
    "    results.append((local_epochs, result))"
   ]
  },
  {
   "cell_type": "code",
   "execution_count": 63,
   "metadata": {},
   "outputs": [
    {
     "name": "stdout",
     "output_type": "stream",
     "text": [
      "Ergebnisse für 1 lokale Epochen: History (loss, distributed):\n",
      "\tround 1: 0.8918918918918919\n",
      "\tround 2: 0.8918918918918919\n",
      "\tround 3: 0.8918918918918919\n",
      "\tround 4: 0.8918918918918919\n",
      "\tround 5: 0.8421052631578947\n",
      "\n",
      "Ergebnisse für 3 lokale Epochen: History (loss, distributed):\n",
      "\tround 1: 0.8421052631578947\n",
      "\tround 2: 0.8918918918918919\n",
      "\tround 3: 0.8918918918918919\n",
      "\tround 4: 0.8918918918918919\n",
      "\tround 5: 0.8378378378378378\n",
      "\n",
      "Ergebnisse für 5 lokale Epochen: History (loss, distributed):\n",
      "\tround 1: 0.8918918918918919\n",
      "\tround 2: 0.8378378378378378\n",
      "\tround 3: 0.8421052631578947\n",
      "\tround 4: 0.8378378378378378\n",
      "\tround 5: 0.8421052631578947\n",
      "\n"
     ]
    }
   ],
   "source": [
    "# Ergebnisse ausgeben\n",
    "for local_epochs, result in results:\n",
    "    #print(result)\n",
    "    print(f\"Ergebnisse für {local_epochs} lokale Epochen: {result}\")"
   ]
  },
  {
   "cell_type": "code",
   "execution_count": 64,
   "metadata": {},
   "outputs": [
    {
     "data": {
      "text/plain": [
       "[0.8918918918918919,\n",
       " 0.8918918918918919,\n",
       " 0.8918918918918919,\n",
       " 0.8918918918918919,\n",
       " 0.8421052631578947,\n",
       " 0.8421052631578947,\n",
       " 0.8918918918918919,\n",
       " 0.8918918918918919,\n",
       " 0.8918918918918919,\n",
       " 0.8378378378378378,\n",
       " 0.8918918918918919,\n",
       " 0.8378378378378378,\n",
       " 0.8421052631578947,\n",
       " 0.8378378378378378,\n",
       " 0.8421052631578947]"
      ]
     },
     "execution_count": 64,
     "metadata": {},
     "output_type": "execute_result"
    }
   ],
   "source": [
    "import re\n",
    "\n",
    "result_conv = str(results).replace(\"\\n\\tround\",\"\").replace(\"History (loss, distributed): \", \"\").replace(\"\\n\", \"\")\n",
    "result_conv = ', '.join(re.findall(r'\\b\\d+\\.\\d+\\b', result_conv))\n",
    "result_conv = list(map(float, result_conv.split(',')))\n",
    "result_conv\n"
   ]
  },
  {
   "cell_type": "code",
   "execution_count": 65,
   "metadata": {},
   "outputs": [
    {
     "name": "stdout",
     "output_type": "stream",
     "text": [
      "Ergebnisse für 1 lokale Epochen: [0.8918918918918919, 0.8918918918918919, 0.8918918918918919, 0.8918918918918919, 0.8421052631578947]\n",
      "Ergebnisse für 3 lokale Epochen: [0.8421052631578947, 0.8918918918918919, 0.8918918918918919, 0.8918918918918919, 0.8378378378378378]\n",
      "Ergebnisse für 5 lokale Epochen: [0.8918918918918919, 0.8378378378378378, 0.8421052631578947, 0.8378378378378378, 0.8421052631578947]\n"
     ]
    }
   ],
   "source": [
    "local_epochs_values = [1, 3, 5]\n",
    "values_per_epoch = 5\n",
    "epochs_per_run = 5\n",
    "\n",
    "# Split the result_conv list into three parts based on the number of local epochs\n",
    "split_results = [result_conv[i:i + values_per_epoch] for i in range(0, len(result_conv), epochs_per_run)]\n",
    "\n",
    "# Combine the local epochs with the corresponding loss values\n",
    "final_results = list(zip(local_epochs_values, split_results))\n",
    "\n",
    "# print results\n",
    "for local_epochs, loss_values in final_results:\n",
    "    print(f\"Ergebnisse für {local_epochs} lokale Epochen: {loss_values}\")\n"
   ]
  },
  {
   "cell_type": "code",
   "execution_count": 70,
   "metadata": {},
   "outputs": [
    {
     "data": {
      "image/png": "[encoded data removed]",
      "text/plain": [
       "<Figure size 640x480 with 1 Axes>"
      ]
     },
     "metadata": {},
     "output_type": "display_data"
    }
   ],
   "source": [
    "import matplotlib.pyplot as plt\n",
    "import numpy as np\n",
    "\n",
    "# data\n",
    "epochs = [1, 3, 5]\n",
    "rounds = list(range(1, 6))\n",
    "\n",
    "# bar width\n",
    "barWidth = 0.25\n",
    "\n",
    "# Set the position of the bars on the x-axis\n",
    "r1 = np.arange(len(rounds))\n",
    "r2 = [x + barWidth for x in r1]\n",
    "r3 = [x + barWidth for x in r2]\n",
    "\n",
    "# Create the bars\n",
    "plt.bar(r1, loss_values[0], color='blue', width=barWidth, edgecolor='grey', label=f'Local Epochs: {epochs[0]}')\n",
    "plt.bar(r2, loss_values[1], color='red', width=barWidth, edgecolor='grey', label=f'Local Epochs: {epochs[1]}')\n",
    "plt.bar(r3, loss_values[2], color='green', width=barWidth, edgecolor='grey', label=f'Local Epochs: {epochs[2]}')\n",
    "\n",
    "# Add labelling\n",
    "plt.xlabel('Rounds', fontweight='bold')\n",
    "plt.ylabel('Loss')\n",
    "plt.xticks([r + barWidth for r in range(len(rounds))], rounds)\n",
    "\n",
    "# Create legend & show diagram\n",
    "plt.legend()\n",
    "plt.title('Loss per Local Epochs and Rounds')\n",
    "plt.show()\n"
   ]
  },
  {
   "cell_type": "markdown",
   "metadata": {},
   "source": [
    "## Working with biased datasets"
   ]
  },
  {
   "cell_type": "code",
   "execution_count": 36,
   "metadata": {},
   "outputs": [],
   "source": [
    "# Evaluate the influence of different data distribution in the nodes\n",
    "\n",
    "# filter the data for the different smoking status\n",
    "smokers = data[data['SMOKING'] == 1]\n",
    "non_smokers = data[data['SMOKING'] == 2]\n",
    "\n",
    "# pick a large fraction of smokers and non-smokers for different clients\n",
    "smoker_subset = smokers.sample(frac=0.9)\n",
    "nonsmoker_subset = non_smokers.sample(frac=0.9)\n",
    "\n",
    "# combine the remaining smokers and non-smokers into one dataset\n",
    "remaining_smokers = smokers.drop(smoker_subset.index)\n",
    "remaining_nonsmokers = non_smokers.drop(nonsmoker_subset.index)\n",
    "\n",
    "# create final datasets for the clients\n",
    "client1_data = pd.concat([smoker_subset, remaining_nonsmokers])\n",
    "client2_data = pd.concat([nonsmoker_subset, remaining_smokers])"
   ]
  },
  {
   "cell_type": "code",
   "execution_count": 37,
   "metadata": {},
   "outputs": [
    {
     "name": "stdout",
     "output_type": "stream",
     "text": [
      "SMOKING\n",
      "1    113\n",
      "2     15\n",
      "Name: count, dtype: int64\n",
      "SMOKING\n",
      "2    135\n",
      "1     13\n",
      "Name: count, dtype: int64\n"
     ]
    }
   ],
   "source": [
    "# check if client1_data has the right amount of smokers and non-smokers\n",
    "print(client1_data['SMOKING'].value_counts())\n",
    "print(client2_data['SMOKING'].value_counts())"
   ]
  },
  {
   "cell_type": "markdown",
   "metadata": {},
   "source": [
    "value_counts shows that the two client datasets are strongly biased"
   ]
  },
  {
   "cell_type": "code",
   "execution_count": 38,
   "metadata": {},
   "outputs": [
    {
     "name": "stdout",
     "output_type": "stream",
     "text": [
      "Shape of client1 training data : (102, 16), (102,)\n",
      "Shape of client1 testing data : (26, 16), (26,)\n",
      "Shape of client2 training data : (118, 16), (118,)\n",
      "Shape of client2 testing data : (30, 16), (30,)\n"
     ]
    }
   ],
   "source": [
    "# This code preprocesses data for two clients \n",
    "\n",
    "# For client 1:\n",
    "x1 = client1_data.drop(\"LUNG_CANCER\", axis = 1) # Extracting features, excluding the target variable \"LUNG_CANCER\"\n",
    "y1 = client1_data[\"LUNG_CANCER\"] # Extracting the target variable \"LUNG_CANCER\"\n",
    "\n",
    "# For client 2:\n",
    "x2 = client2_data.drop(\"LUNG_CANCER\", axis = 1) # Extracting features, excluding the target variable \"LUNG_CANCER\"\n",
    "y2 = client2_data[\"LUNG_CANCER\"] # Extracting the target variable \"LUNG_CANCER\"\n",
    "\n",
    "# Standardizing features using StandardScaler:\n",
    "scaler = StandardScaler()\n",
    "x1 = scaler.fit_transform(x1) # Scaling features for client 1\n",
    "# Splitting the data into training and testing sets for client 1:\n",
    "x1_train, x1_test, y1_train, y1_test = train_test_split(x1,y1, test_size=0.2, random_state=random_state)\n",
    "\n",
    "x2 = scaler.fit_transform(x2) # Scaling features for client 2\n",
    "# Splitting the data into training and testing sets for client 2:\n",
    "x2_train, x2_test, y2_train, y2_test = train_test_split(x2,y2, test_size=0.2, random_state=random_state)\n",
    "\n",
    "# Print statements\n",
    "\n",
    "print(f\"Shape of client1 training data : {x1_train.shape}, {y1_train.shape}\")\n",
    "print(f\"Shape of client1 testing data : {x1_test.shape}, {y1_test.shape}\")\n",
    "\n",
    "print(f\"Shape of client2 training data : {x2_train.shape}, {y2_train.shape}\")\n",
    "print(f\"Shape of client2 testing data : {x2_test.shape}, {y2_test.shape}\")\n"
   ]
  },
  {
   "cell_type": "code",
   "execution_count": 39,
   "metadata": {},
   "outputs": [],
   "source": [
    "local_epochs = 5\n",
    "# Rest des Codes bleibt unverändert\n",
    "\n",
    "# Define and initialize RandomForest models for two clients with training and testing data\n",
    "client1_model = RandomForestClient(x1_train, y1_train, x1_test, y1_test, local_epochs=local_epochs)\n",
    "client2_model = RandomForestClient(x2_train, y2_train, x2_test, y2_test, local_epochs=local_epochs)\n",
    "\n",
    "# client_models combines the two clients\n",
    "biased_client_models = [client1_model, client2_model]\n",
    "\n",
    "# Adaptation of the client_fn for the simulation\n",
    "def client_fn(cid: str) -> RandomForestClient:\n",
    "    if cid == \"0\":\n",
    "        return client1_model\n",
    "    elif cid == \"1\":\n",
    "        return client2_model\n",
    "    else:\n",
    "        raise ValueError(\"Ungültige Client-ID\")"
   ]
  },
  {
   "cell_type": "code",
   "execution_count": 41,
   "metadata": {},
   "outputs": [
    {
     "name": "stdout",
     "output_type": "stream",
     "text": [
      "Client 1 Accuracy: 0.9230769230769231\n",
      "Client 2 Accuracy: 0.8666666666666667\n"
     ]
    },
    {
     "data": {
      "image/png": "[encoded data removed]",
      "text/plain": [
       "<Figure size 640x480 with 1 Axes>"
      ]
     },
     "metadata": {},
     "output_type": "display_data"
    }
   ],
   "source": [
    "client_counter = 0\n",
    "client_list = []\n",
    "accuracy_list= []\n",
    "# train clients\n",
    "for client in biased_client_models:\n",
    "    client_counter += 1\n",
    "    X_train, y_train, X_test, y_test = client.X_train, client.y_train, client.X_test, client.y_test\n",
    "    client.model.fit(X_train, y_train)\n",
    "    accuracy = client.model.score(X_test, y_test)\n",
    "\n",
    "    # print statements\n",
    "    print(f\"Client {client_counter} Accuracy: {accuracy}\")\n",
    "    client_list.append(client_counter)\n",
    "    accuracy_list.append(accuracy)\n",
    "\n",
    "# VIZ:\n",
    "plt.bar(client_list, accuracy_list)\n",
    "\n",
    "# Add axis title and plt title\n",
    "plt.xlabel('Client')\n",
    "plt.ylabel('Accuracy')\n",
    "plt.title('Accuracy of each Client')\n",
    "\n",
    "# show plt\n",
    "for i, acc in enumerate(accuracy_list):\n",
    "    plt.text(client_list[i], acc, f'{acc:.2f}', ha='center', va='bottom')\n",
    "\n",
    "plt.show()\n"
   ]
  },
  {
   "cell_type": "code",
   "execution_count": 42,
   "metadata": {},
   "outputs": [
    {
     "name": "stdout",
     "output_type": "stream",
     "text": [
      "{'bootstrap': True, 'ccp_alpha': 0.0, 'class_weight': None, 'criterion': 'gini', 'max_depth': 10, 'max_features': 'sqrt', 'max_leaf_nodes': None, 'max_samples': None, 'min_impurity_decrease': 0.0, 'min_samples_leaf': 1, 'min_samples_split': 2, 'min_weight_fraction_leaf': 0.0, 'monotonic_cst': None, 'n_estimators': 100, 'n_jobs': None, 'oob_score': False, 'random_state': 42, 'verbose': 0, 'warm_start': False}\n"
     ]
    },
    {
     "data": {
      "text/plain": [
       "[100, 10, 2, 1]"
      ]
     },
     "execution_count": 42,
     "metadata": {},
     "output_type": "execute_result"
    }
   ],
   "source": [
    "forest = biased_client_models[0]\n",
    "print(forest.model.get_params())\n",
    "forest.get_parameters({})"
   ]
  },
  {
   "cell_type": "code",
   "execution_count": 43,
   "metadata": {},
   "outputs": [
    {
     "name": "stderr",
     "output_type": "stream",
     "text": [
      "INFO flwr 2024-01-23 17:47:41,258 | app.py:178 | Starting Flower simulation, config: ServerConfig(num_rounds=5, round_timeout=None)\n",
      "2024-01-23 17:47:47,085\tINFO worker.py:1621 -- Started a local Ray instance.\n",
      "INFO flwr 2024-01-23 17:47:49,478 | app.py:213 | Flower VCE: Ray initialized with resources: {'memory': 5957236327.0, 'node:127.0.0.1': 1.0, 'CPU': 8.0, 'object_store_memory': 2147483648.0, 'node:__internal_head__': 1.0}\n",
      "INFO flwr 2024-01-23 17:47:49,479 | app.py:219 | Optimize your simulation with Flower VCE: https://flower.dev/docs/framework/how-to-run-simulations.html\n",
      "INFO flwr 2024-01-23 17:47:49,480 | app.py:227 | No `client_resources` specified. Using minimal resources for clients.\n",
      "INFO flwr 2024-01-23 17:47:49,481 | app.py:242 | Flower VCE: Resources for each Virtual Client: {'num_cpus': 1, 'num_gpus': 0.0}\n",
      "\u001b[2m\u001b[33m(raylet)\u001b[0m /Users/marceldielacher/Library/Mobile Documents/com~apple~CloudDocs/Desktop/Studium/FH St.Pölten/Master/FML/FHSTP_FML/venv/lib/python3.9/site-packages/urllib3/__init__.py:34: NotOpenSSLWarning: urllib3 v2 only supports OpenSSL 1.1.1+, currently the 'ssl' module is compiled with 'LibreSSL 2.8.3'. See: https://github.com/urllib3/urllib3/issues/3020\n",
      "\u001b[2m\u001b[33m(raylet)\u001b[0m   warnings.warn(\n",
      "\u001b[2m\u001b[33m(raylet)\u001b[0m /Users/marceldielacher/Library/Mobile Documents/com~apple~CloudDocs/Desktop/Studium/FH St.Pölten/Master/FML/FHSTP_FML/venv/lib/python3.9/site-packages/urllib3/__init__.py:34: NotOpenSSLWarning: urllib3 v2 only supports OpenSSL 1.1.1+, currently the 'ssl' module is compiled with 'LibreSSL 2.8.3'. See: https://github.com/urllib3/urllib3/issues/3020\n",
      "\u001b[2m\u001b[33m(raylet)\u001b[0m   warnings.warn(\n",
      "INFO flwr 2024-01-23 17:47:49,516 | app.py:288 | Flower VCE: Creating VirtualClientEngineActorPool with 8 actors\n",
      "INFO flwr 2024-01-23 17:47:49,518 | server.py:89 | Initializing global parameters\n",
      "INFO flwr 2024-01-23 17:47:49,521 | server.py:276 | Requesting initial parameters from one random client\n",
      "\u001b[2m\u001b[33m(raylet)\u001b[0m /Users/marceldielacher/Library/Mobile Documents/com~apple~CloudDocs/Desktop/Studium/FH St.Pölten/Master/FML/FHSTP_FML/venv/lib/python3.9/site-packages/urllib3/__init__.py:34: NotOpenSSLWarning: urllib3 v2 only supports OpenSSL 1.1.1+, currently the 'ssl' module is compiled with 'LibreSSL 2.8.3'. See: https://github.com/urllib3/urllib3/issues/3020\n",
      "\u001b[2m\u001b[33m(raylet)\u001b[0m   warnings.warn(\n",
      "\u001b[2m\u001b[33m(raylet)\u001b[0m /Users/marceldielacher/Library/Mobile Documents/com~apple~CloudDocs/Desktop/Studium/FH St.Pölten/Master/FML/FHSTP_FML/venv/lib/python3.9/site-packages/urllib3/__init__.py:34: NotOpenSSLWarning: urllib3 v2 only supports OpenSSL 1.1.1+, currently the 'ssl' module is compiled with 'LibreSSL 2.8.3'. See: https://github.com/urllib3/urllib3/issues/3020\n",
      "\u001b[2m\u001b[33m(raylet)\u001b[0m   warnings.warn(\n",
      "\u001b[2m\u001b[33m(raylet)\u001b[0m /Users/marceldielacher/Library/Mobile Documents/com~apple~CloudDocs/Desktop/Studium/FH St.Pölten/Master/FML/FHSTP_FML/venv/lib/python3.9/site-packages/urllib3/__init__.py:34: NotOpenSSLWarning: urllib3 v2 only supports OpenSSL 1.1.1+, currently the 'ssl' module is compiled with 'LibreSSL 2.8.3'. See: https://github.com/urllib3/urllib3/issues/3020\n",
      "\u001b[2m\u001b[33m(raylet)\u001b[0m   warnings.warn(\n",
      "\u001b[2m\u001b[33m(raylet)\u001b[0m /Users/marceldielacher/Library/Mobile Documents/com~apple~CloudDocs/Desktop/Studium/FH St.Pölten/Master/FML/FHSTP_FML/venv/lib/python3.9/site-packages/urllib3/__init__.py:34: NotOpenSSLWarning: urllib3 v2 only supports OpenSSL 1.1.1+, currently the 'ssl' module is compiled with 'LibreSSL 2.8.3'. See: https://github.com/urllib3/urllib3/issues/3020\n",
      "\u001b[2m\u001b[33m(raylet)\u001b[0m   warnings.warn(\n",
      "\u001b[2m\u001b[33m(raylet)\u001b[0m /Users/marceldielacher/Library/Mobile Documents/com~apple~CloudDocs/Desktop/Studium/FH St.Pölten/Master/FML/FHSTP_FML/venv/lib/python3.9/site-packages/urllib3/__init__.py:34: NotOpenSSLWarning: urllib3 v2 only supports OpenSSL 1.1.1+, currently the 'ssl' module is compiled with 'LibreSSL 2.8.3'. See: https://github.com/urllib3/urllib3/issues/3020\n",
      "\u001b[2m\u001b[33m(raylet)\u001b[0m   warnings.warn(\n",
      "\u001b[2m\u001b[33m(raylet)\u001b[0m /Users/marceldielacher/Library/Mobile Documents/com~apple~CloudDocs/Desktop/Studium/FH St.Pölten/Master/FML/FHSTP_FML/venv/lib/python3.9/site-packages/urllib3/__init__.py:34: NotOpenSSLWarning: urllib3 v2 only supports OpenSSL 1.1.1+, currently the 'ssl' module is compiled with 'LibreSSL 2.8.3'. See: https://github.com/urllib3/urllib3/issues/3020\n",
      "\u001b[2m\u001b[33m(raylet)\u001b[0m   warnings.warn(\n",
      "\u001b[2m\u001b[33m(raylet)\u001b[0m /Users/marceldielacher/Library/Mobile Documents/com~apple~CloudDocs/Desktop/Studium/FH St.Pölten/Master/FML/FHSTP_FML/venv/lib/python3.9/site-packages/urllib3/__init__.py:34: NotOpenSSLWarning: urllib3 v2 only supports OpenSSL 1.1.1+, currently the 'ssl' module is compiled with 'LibreSSL 2.8.3'. See: https://github.com/urllib3/urllib3/issues/3020\n",
      "\u001b[2m\u001b[33m(raylet)\u001b[0m   warnings.warn(\n",
      "\u001b[2m\u001b[33m(raylet)\u001b[0m /Users/marceldielacher/Library/Mobile Documents/com~apple~CloudDocs/Desktop/Studium/FH St.Pölten/Master/FML/FHSTP_FML/venv/lib/python3.9/site-packages/urllib3/__init__.py:34: NotOpenSSLWarning: urllib3 v2 only supports OpenSSL 1.1.1+, currently the 'ssl' module is compiled with 'LibreSSL 2.8.3'. See: https://github.com/urllib3/urllib3/issues/3020\n",
      "\u001b[2m\u001b[33m(raylet)\u001b[0m   warnings.warn(\n",
      "INFO flwr 2024-01-23 17:47:53,547 | server.py:280 | Received initial parameters from one random client\n",
      "INFO flwr 2024-01-23 17:47:53,548 | server.py:91 | Evaluating initial parameters\n",
      "INFO flwr 2024-01-23 17:47:53,549 | server.py:104 | FL starting\n",
      "DEBUG flwr 2024-01-23 17:47:53,550 | server.py:222 | fit_round 1: strategy sampled 2 clients (out of 2)\n",
      "DEBUG flwr 2024-01-23 17:47:54,981 | server.py:236 | fit_round 1 received 2 results and 0 failures\n",
      "WARNING flwr 2024-01-23 17:47:54,983 | fedavg.py:242 | No fit_metrics_aggregation_fn provided\n",
      "DEBUG flwr 2024-01-23 17:47:54,984 | server.py:173 | evaluate_round 1: strategy sampled 2 clients (out of 2)\n",
      "DEBUG flwr 2024-01-23 17:47:55,053 | server.py:187 | evaluate_round 1 received 2 results and 0 failures\n",
      "WARNING flwr 2024-01-23 17:47:55,054 | fedavg.py:273 | No evaluate_metrics_aggregation_fn provided\n",
      "DEBUG flwr 2024-01-23 17:47:55,055 | server.py:222 | fit_round 2: strategy sampled 2 clients (out of 2)\n",
      "DEBUG flwr 2024-01-23 17:47:55,278 | server.py:236 | fit_round 2 received 2 results and 0 failures\n",
      "DEBUG flwr 2024-01-23 17:47:55,280 | server.py:173 | evaluate_round 2: strategy sampled 2 clients (out of 2)\n",
      "DEBUG flwr 2024-01-23 17:47:55,344 | server.py:187 | evaluate_round 2 received 2 results and 0 failures\n",
      "DEBUG flwr 2024-01-23 17:47:55,345 | server.py:222 | fit_round 3: strategy sampled 2 clients (out of 2)\n",
      "DEBUG flwr 2024-01-23 17:47:55,575 | server.py:236 | fit_round 3 received 2 results and 0 failures\n",
      "DEBUG flwr 2024-01-23 17:47:55,578 | server.py:173 | evaluate_round 3: strategy sampled 2 clients (out of 2)\n",
      "DEBUG flwr 2024-01-23 17:47:55,652 | server.py:187 | evaluate_round 3 received 2 results and 0 failures\n",
      "DEBUG flwr 2024-01-23 17:47:55,653 | server.py:222 | fit_round 4: strategy sampled 2 clients (out of 2)\n",
      "DEBUG flwr 2024-01-23 17:47:55,999 | server.py:236 | fit_round 4 received 2 results and 0 failures\n",
      "DEBUG flwr 2024-01-23 17:47:56,001 | server.py:173 | evaluate_round 4: strategy sampled 2 clients (out of 2)\n",
      "DEBUG flwr 2024-01-23 17:47:56,077 | server.py:187 | evaluate_round 4 received 2 results and 0 failures\n",
      "DEBUG flwr 2024-01-23 17:47:56,078 | server.py:222 | fit_round 5: strategy sampled 2 clients (out of 2)\n",
      "\u001b[2m\u001b[33m(raylet)\u001b[0m [2024-01-23 17:47:56,045 E 34638 1442701] (raylet) file_system_monitor.cc:111: /tmp/ray/session_2024-01-23_17-47-43_115153_34166 is over 95% full, available space: 5627457536; capacity: 250790436864. Object creation will fail if spilling is required.\n",
      "DEBUG flwr 2024-01-23 17:47:56,350 | server.py:236 | fit_round 5 received 2 results and 0 failures\n",
      "DEBUG flwr 2024-01-23 17:47:56,352 | server.py:173 | evaluate_round 5: strategy sampled 2 clients (out of 2)\n",
      "DEBUG flwr 2024-01-23 17:47:56,479 | server.py:187 | evaluate_round 5 received 2 results and 0 failures\n",
      "INFO flwr 2024-01-23 17:47:56,480 | server.py:153 | FL finished in 2.9304790339999727\n",
      "INFO flwr 2024-01-23 17:47:56,481 | app.py:226 | app_fit: losses_distributed [(1, 0.8928571428571429), (2, 0.8928571428571429), (3, 0.8928571428571429), (4, 0.8928571428571429), (5, 0.8928571428571429)]\n",
      "INFO flwr 2024-01-23 17:47:56,482 | app.py:227 | app_fit: metrics_distributed_fit {}\n",
      "INFO flwr 2024-01-23 17:47:56,482 | app.py:228 | app_fit: metrics_distributed {}\n",
      "INFO flwr 2024-01-23 17:47:56,483 | app.py:229 | app_fit: losses_centralized []\n",
      "INFO flwr 2024-01-23 17:47:56,485 | app.py:230 | app_fit: metrics_centralized {}\n"
     ]
    }
   ],
   "source": [
    "# flower simulation setup\n",
    "biased_result = fl.simulation.start_simulation(\n",
    "    num_clients=2,\n",
    "    config=fl.server.ServerConfig(num_rounds=5),\n",
    "    strategy=strategy,\n",
    "    client_fn= lambda i: biased_client_models[int(i)], #client_fn\n",
    ")"
   ]
  },
  {
   "cell_type": "code",
   "execution_count": 44,
   "metadata": {},
   "outputs": [
    {
     "name": "stdout",
     "output_type": "stream",
     "text": [
      "History (loss, distributed):\n",
      "\tround 1: 0.8928571428571429\n",
      "\tround 2: 0.8928571428571429\n",
      "\tround 3: 0.8928571428571429\n",
      "\tround 4: 0.8928571428571429\n",
      "\tround 5: 0.8928571428571429\n",
      "\n"
     ]
    }
   ],
   "source": [
    "print(biased_result)"
   ]
  }
 ],
 "metadata": {
  "kernelspec": {
   "display_name": "Python 3.9.6 ('venv': venv)",
   "language": "python",
   "name": "python3"
  },
  "language_info": {
   "codemirror_mode": {
    "name": "ipython",
    "version": 3
   },
   "file_extension": ".py",
   "mimetype": "text/x-python",
   "name": "python",
   "nbconvert_exporter": "python",
   "pygments_lexer": "ipython3",
   "version": "3.9.6"
  },
  "orig_nbformat": 4,
  "vscode": {
   "interpreter": {
    "hash": "b67225186701176d63f31892b142f892e9d99d98ee3c8377add80c87c7a35978"
   }
  }
 },
 "nbformat": 4,
 "nbformat_minor": 2
}
