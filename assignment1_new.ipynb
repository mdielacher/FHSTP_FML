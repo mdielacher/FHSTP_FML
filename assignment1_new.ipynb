{
 "cells": [
  {
   "cell_type": "markdown",
   "metadata": {},
   "source": [
    "# Assignment 1"
   ]
  },
  {
   "cell_type": "markdown",
   "metadata": {},
   "source": [
    "**Group 5:** Marwin Prenner & Marcel Dielacher"
   ]
  },
  {
   "cell_type": "markdown",
   "metadata": {},
   "source": [
    "## Introduction"
   ]
  },
  {
   "cell_type": "markdown",
   "metadata": {},
   "source": [
    "This Jupyter Notebook explores two different approaches (centralized learning & federated learning) for training machine learning models on survey data related to lung cancer. The dataset comprises responses from individuals participating in a survey related to lung cancer.\n"
   ]
  },
  {
   "cell_type": "markdown",
   "metadata": {},
   "source": [
    "## Imports\n",
    "\n",
    "In this section, we'll import the necessary libraries and modules for our analysis. You can run the cell below to ensure all dependencies are installed."
   ]
  },
  {
   "cell_type": "markdown",
   "metadata": {},
   "source": [
    "### Install all important libraries"
   ]
  },
  {
   "cell_type": "code",
   "execution_count": 1,
   "metadata": {},
   "outputs": [],
   "source": [
    "# Libraries\n",
    "import numpy as np\n",
    "import pandas as pd\n",
    "import matplotlib.pyplot as plt\n",
    "import seaborn as sns\n",
    "import flwr as fl\n",
    "import ray.util\n",
    "import torch\n",
    "\n",
    "# Typing\n",
    "from typing import List\n",
    "\n",
    "# Preprocessing\n",
    "from sklearn.preprocessing import LabelEncoder\n",
    "from sklearn.preprocessing import StandardScaler\n",
    "from sklearn.model_selection import train_test_split\n",
    "\n",
    "# Algorithm\n",
    "from sklearn.linear_model import LogisticRegression\n",
    "from sklearn.svm import SVC\n",
    "from sklearn.ensemble import RandomForestClassifier\n",
    "\n",
    "# Metrics\n",
    "from sklearn.metrics import accuracy_score, confusion_matrix, classification_report, mean_squared_error, roc_curve, auc\n"
   ]
  },
  {
   "cell_type": "code",
   "execution_count": 2,
   "metadata": {},
   "outputs": [],
   "source": [
    "data = pd.read_csv(\"survey_lung_cancer.csv\") # import data from csv"
   ]
  },
  {
   "cell_type": "markdown",
   "metadata": {},
   "source": [
    "## Data Understanding:"
   ]
  },
  {
   "cell_type": "markdown",
   "metadata": {},
   "source": [
    "In the realm of data science, the process of exploring and comprehending the dataset is pivotal for successful analysis and modeling. The \"Data Understanding\" phase serves as a foundational step in the overall data science lifecycle. This section focuses on gaining insights into the structure, content, and quality of the dataset, laying the groundwork for subsequent stages such as data preparation and modeling."
   ]
  },
  {
   "cell_type": "markdown",
   "metadata": {},
   "source": [
    "### Basic Information:"
   ]
  },
  {
   "cell_type": "code",
   "execution_count": 3,
   "metadata": {},
   "outputs": [
    {
     "data": {
      "text/html": [
       "<div>\n",
       "<style scoped>\n",
       "    .dataframe tbody tr th:only-of-type {\n",
       "        vertical-align: middle;\n",
       "    }\n",
       "\n",
       "    .dataframe tbody tr th {\n",
       "        vertical-align: top;\n",
       "    }\n",
       "\n",
       "    .dataframe thead th {\n",
       "        text-align: right;\n",
       "    }\n",
       "</style>\n",
       "<table border=\"1\" class=\"dataframe\">\n",
       "  <thead>\n",
       "    <tr style=\"text-align: right;\">\n",
       "      <th></th>\n",
       "      <th>GENDER</th>\n",
       "      <th>AGE</th>\n",
       "      <th>SMOKING</th>\n",
       "      <th>YELLOW_FINGERS</th>\n",
       "      <th>ANXIETY</th>\n",
       "      <th>PEER_PRESSURE</th>\n",
       "      <th>CHRONIC DISEASE</th>\n",
       "      <th>FATIGUE</th>\n",
       "      <th>ALLERGY</th>\n",
       "      <th>WHEEZING</th>\n",
       "      <th>ALCOHOL CONSUMING</th>\n",
       "      <th>COUGHING</th>\n",
       "      <th>SHORTNESS OF BREATH</th>\n",
       "      <th>SWALLOWING DIFFICULTY</th>\n",
       "      <th>CHEST PAIN</th>\n",
       "      <th>LUNG_CANCER</th>\n",
       "    </tr>\n",
       "  </thead>\n",
       "  <tbody>\n",
       "    <tr>\n",
       "      <th>0</th>\n",
       "      <td>M</td>\n",
       "      <td>69</td>\n",
       "      <td>1</td>\n",
       "      <td>2</td>\n",
       "      <td>2</td>\n",
       "      <td>1</td>\n",
       "      <td>1</td>\n",
       "      <td>2</td>\n",
       "      <td>1</td>\n",
       "      <td>2</td>\n",
       "      <td>2</td>\n",
       "      <td>2</td>\n",
       "      <td>2</td>\n",
       "      <td>2</td>\n",
       "      <td>2</td>\n",
       "      <td>YES</td>\n",
       "    </tr>\n",
       "    <tr>\n",
       "      <th>1</th>\n",
       "      <td>M</td>\n",
       "      <td>74</td>\n",
       "      <td>2</td>\n",
       "      <td>1</td>\n",
       "      <td>1</td>\n",
       "      <td>1</td>\n",
       "      <td>2</td>\n",
       "      <td>2</td>\n",
       "      <td>2</td>\n",
       "      <td>1</td>\n",
       "      <td>1</td>\n",
       "      <td>1</td>\n",
       "      <td>2</td>\n",
       "      <td>2</td>\n",
       "      <td>2</td>\n",
       "      <td>YES</td>\n",
       "    </tr>\n",
       "    <tr>\n",
       "      <th>2</th>\n",
       "      <td>F</td>\n",
       "      <td>59</td>\n",
       "      <td>1</td>\n",
       "      <td>1</td>\n",
       "      <td>1</td>\n",
       "      <td>2</td>\n",
       "      <td>1</td>\n",
       "      <td>2</td>\n",
       "      <td>1</td>\n",
       "      <td>2</td>\n",
       "      <td>1</td>\n",
       "      <td>2</td>\n",
       "      <td>2</td>\n",
       "      <td>1</td>\n",
       "      <td>2</td>\n",
       "      <td>NO</td>\n",
       "    </tr>\n",
       "    <tr>\n",
       "      <th>3</th>\n",
       "      <td>M</td>\n",
       "      <td>63</td>\n",
       "      <td>2</td>\n",
       "      <td>2</td>\n",
       "      <td>2</td>\n",
       "      <td>1</td>\n",
       "      <td>1</td>\n",
       "      <td>1</td>\n",
       "      <td>1</td>\n",
       "      <td>1</td>\n",
       "      <td>2</td>\n",
       "      <td>1</td>\n",
       "      <td>1</td>\n",
       "      <td>2</td>\n",
       "      <td>2</td>\n",
       "      <td>NO</td>\n",
       "    </tr>\n",
       "    <tr>\n",
       "      <th>4</th>\n",
       "      <td>F</td>\n",
       "      <td>63</td>\n",
       "      <td>1</td>\n",
       "      <td>2</td>\n",
       "      <td>1</td>\n",
       "      <td>1</td>\n",
       "      <td>1</td>\n",
       "      <td>1</td>\n",
       "      <td>1</td>\n",
       "      <td>2</td>\n",
       "      <td>1</td>\n",
       "      <td>2</td>\n",
       "      <td>2</td>\n",
       "      <td>1</td>\n",
       "      <td>1</td>\n",
       "      <td>NO</td>\n",
       "    </tr>\n",
       "  </tbody>\n",
       "</table>\n",
       "</div>"
      ],
      "text/plain": [
       "  GENDER  AGE  SMOKING  YELLOW_FINGERS  ANXIETY  PEER_PRESSURE  \\\n",
       "0      M   69        1               2        2              1   \n",
       "1      M   74        2               1        1              1   \n",
       "2      F   59        1               1        1              2   \n",
       "3      M   63        2               2        2              1   \n",
       "4      F   63        1               2        1              1   \n",
       "\n",
       "   CHRONIC DISEASE  FATIGUE   ALLERGY   WHEEZING  ALCOHOL CONSUMING  COUGHING  \\\n",
       "0                1         2         1         2                  2         2   \n",
       "1                2         2         2         1                  1         1   \n",
       "2                1         2         1         2                  1         2   \n",
       "3                1         1         1         1                  2         1   \n",
       "4                1         1         1         2                  1         2   \n",
       "\n",
       "   SHORTNESS OF BREATH  SWALLOWING DIFFICULTY  CHEST PAIN LUNG_CANCER  \n",
       "0                    2                      2           2         YES  \n",
       "1                    2                      2           2         YES  \n",
       "2                    2                      1           2          NO  \n",
       "3                    1                      2           2          NO  \n",
       "4                    2                      1           1          NO  "
      ]
     },
     "execution_count": 3,
     "metadata": {},
     "output_type": "execute_result"
    }
   ],
   "source": [
    "# Preview\n",
    "data.head(5)"
   ]
  },
  {
   "cell_type": "code",
   "execution_count": 4,
   "metadata": {},
   "outputs": [
    {
     "name": "stdout",
     "output_type": "stream",
     "text": [
      "Informations About The Dataset :\n",
      "<class 'pandas.core.frame.DataFrame'>\n",
      "RangeIndex: 309 entries, 0 to 308\n",
      "Data columns (total 16 columns):\n",
      " #   Column                 Non-Null Count  Dtype \n",
      "---  ------                 --------------  ----- \n",
      " 0   GENDER                 309 non-null    object\n",
      " 1   AGE                    309 non-null    int64 \n",
      " 2   SMOKING                309 non-null    int64 \n",
      " 3   YELLOW_FINGERS         309 non-null    int64 \n",
      " 4   ANXIETY                309 non-null    int64 \n",
      " 5   PEER_PRESSURE          309 non-null    int64 \n",
      " 6   CHRONIC DISEASE        309 non-null    int64 \n",
      " 7   FATIGUE                309 non-null    int64 \n",
      " 8   ALLERGY                309 non-null    int64 \n",
      " 9   WHEEZING               309 non-null    int64 \n",
      " 10  ALCOHOL CONSUMING      309 non-null    int64 \n",
      " 11  COUGHING               309 non-null    int64 \n",
      " 12  SHORTNESS OF BREATH    309 non-null    int64 \n",
      " 13  SWALLOWING DIFFICULTY  309 non-null    int64 \n",
      " 14  CHEST PAIN             309 non-null    int64 \n",
      " 15  LUNG_CANCER            309 non-null    object\n",
      "dtypes: int64(14), object(2)\n",
      "memory usage: 38.8+ KB\n",
      "None\n"
     ]
    }
   ],
   "source": [
    "print(f\"Informations About The Dataset :\")\n",
    "print(data.info())"
   ]
  },
  {
   "cell_type": "code",
   "execution_count": 5,
   "metadata": {},
   "outputs": [
    {
     "name": "stdout",
     "output_type": "stream",
     "text": [
      "Summary of This Dataset :\n"
     ]
    },
    {
     "data": {
      "text/html": [
       "<div>\n",
       "<style scoped>\n",
       "    .dataframe tbody tr th:only-of-type {\n",
       "        vertical-align: middle;\n",
       "    }\n",
       "\n",
       "    .dataframe tbody tr th {\n",
       "        vertical-align: top;\n",
       "    }\n",
       "\n",
       "    .dataframe thead th {\n",
       "        text-align: right;\n",
       "    }\n",
       "</style>\n",
       "<table border=\"1\" class=\"dataframe\">\n",
       "  <thead>\n",
       "    <tr style=\"text-align: right;\">\n",
       "      <th></th>\n",
       "      <th>AGE</th>\n",
       "      <th>SMOKING</th>\n",
       "      <th>YELLOW_FINGERS</th>\n",
       "      <th>ANXIETY</th>\n",
       "      <th>PEER_PRESSURE</th>\n",
       "      <th>CHRONIC DISEASE</th>\n",
       "      <th>FATIGUE</th>\n",
       "      <th>ALLERGY</th>\n",
       "      <th>WHEEZING</th>\n",
       "      <th>ALCOHOL CONSUMING</th>\n",
       "      <th>COUGHING</th>\n",
       "      <th>SHORTNESS OF BREATH</th>\n",
       "      <th>SWALLOWING DIFFICULTY</th>\n",
       "      <th>CHEST PAIN</th>\n",
       "    </tr>\n",
       "  </thead>\n",
       "  <tbody>\n",
       "    <tr>\n",
       "      <th>count</th>\n",
       "      <td>309.000000</td>\n",
       "      <td>309.000000</td>\n",
       "      <td>309.000000</td>\n",
       "      <td>309.000000</td>\n",
       "      <td>309.000000</td>\n",
       "      <td>309.000000</td>\n",
       "      <td>309.000000</td>\n",
       "      <td>309.000000</td>\n",
       "      <td>309.000000</td>\n",
       "      <td>309.000000</td>\n",
       "      <td>309.000000</td>\n",
       "      <td>309.000000</td>\n",
       "      <td>309.000000</td>\n",
       "      <td>309.000000</td>\n",
       "    </tr>\n",
       "    <tr>\n",
       "      <th>mean</th>\n",
       "      <td>62.673139</td>\n",
       "      <td>1.563107</td>\n",
       "      <td>1.569579</td>\n",
       "      <td>1.498382</td>\n",
       "      <td>1.501618</td>\n",
       "      <td>1.504854</td>\n",
       "      <td>1.673139</td>\n",
       "      <td>1.556634</td>\n",
       "      <td>1.556634</td>\n",
       "      <td>1.556634</td>\n",
       "      <td>1.579288</td>\n",
       "      <td>1.640777</td>\n",
       "      <td>1.469256</td>\n",
       "      <td>1.556634</td>\n",
       "    </tr>\n",
       "    <tr>\n",
       "      <th>std</th>\n",
       "      <td>8.210301</td>\n",
       "      <td>0.496806</td>\n",
       "      <td>0.495938</td>\n",
       "      <td>0.500808</td>\n",
       "      <td>0.500808</td>\n",
       "      <td>0.500787</td>\n",
       "      <td>0.469827</td>\n",
       "      <td>0.497588</td>\n",
       "      <td>0.497588</td>\n",
       "      <td>0.497588</td>\n",
       "      <td>0.494474</td>\n",
       "      <td>0.480551</td>\n",
       "      <td>0.499863</td>\n",
       "      <td>0.497588</td>\n",
       "    </tr>\n",
       "    <tr>\n",
       "      <th>min</th>\n",
       "      <td>21.000000</td>\n",
       "      <td>1.000000</td>\n",
       "      <td>1.000000</td>\n",
       "      <td>1.000000</td>\n",
       "      <td>1.000000</td>\n",
       "      <td>1.000000</td>\n",
       "      <td>1.000000</td>\n",
       "      <td>1.000000</td>\n",
       "      <td>1.000000</td>\n",
       "      <td>1.000000</td>\n",
       "      <td>1.000000</td>\n",
       "      <td>1.000000</td>\n",
       "      <td>1.000000</td>\n",
       "      <td>1.000000</td>\n",
       "    </tr>\n",
       "    <tr>\n",
       "      <th>25%</th>\n",
       "      <td>57.000000</td>\n",
       "      <td>1.000000</td>\n",
       "      <td>1.000000</td>\n",
       "      <td>1.000000</td>\n",
       "      <td>1.000000</td>\n",
       "      <td>1.000000</td>\n",
       "      <td>1.000000</td>\n",
       "      <td>1.000000</td>\n",
       "      <td>1.000000</td>\n",
       "      <td>1.000000</td>\n",
       "      <td>1.000000</td>\n",
       "      <td>1.000000</td>\n",
       "      <td>1.000000</td>\n",
       "      <td>1.000000</td>\n",
       "    </tr>\n",
       "    <tr>\n",
       "      <th>50%</th>\n",
       "      <td>62.000000</td>\n",
       "      <td>2.000000</td>\n",
       "      <td>2.000000</td>\n",
       "      <td>1.000000</td>\n",
       "      <td>2.000000</td>\n",
       "      <td>2.000000</td>\n",
       "      <td>2.000000</td>\n",
       "      <td>2.000000</td>\n",
       "      <td>2.000000</td>\n",
       "      <td>2.000000</td>\n",
       "      <td>2.000000</td>\n",
       "      <td>2.000000</td>\n",
       "      <td>1.000000</td>\n",
       "      <td>2.000000</td>\n",
       "    </tr>\n",
       "    <tr>\n",
       "      <th>75%</th>\n",
       "      <td>69.000000</td>\n",
       "      <td>2.000000</td>\n",
       "      <td>2.000000</td>\n",
       "      <td>2.000000</td>\n",
       "      <td>2.000000</td>\n",
       "      <td>2.000000</td>\n",
       "      <td>2.000000</td>\n",
       "      <td>2.000000</td>\n",
       "      <td>2.000000</td>\n",
       "      <td>2.000000</td>\n",
       "      <td>2.000000</td>\n",
       "      <td>2.000000</td>\n",
       "      <td>2.000000</td>\n",
       "      <td>2.000000</td>\n",
       "    </tr>\n",
       "    <tr>\n",
       "      <th>max</th>\n",
       "      <td>87.000000</td>\n",
       "      <td>2.000000</td>\n",
       "      <td>2.000000</td>\n",
       "      <td>2.000000</td>\n",
       "      <td>2.000000</td>\n",
       "      <td>2.000000</td>\n",
       "      <td>2.000000</td>\n",
       "      <td>2.000000</td>\n",
       "      <td>2.000000</td>\n",
       "      <td>2.000000</td>\n",
       "      <td>2.000000</td>\n",
       "      <td>2.000000</td>\n",
       "      <td>2.000000</td>\n",
       "      <td>2.000000</td>\n",
       "    </tr>\n",
       "  </tbody>\n",
       "</table>\n",
       "</div>"
      ],
      "text/plain": [
       "              AGE     SMOKING  YELLOW_FINGERS     ANXIETY  PEER_PRESSURE  \\\n",
       "count  309.000000  309.000000      309.000000  309.000000     309.000000   \n",
       "mean    62.673139    1.563107        1.569579    1.498382       1.501618   \n",
       "std      8.210301    0.496806        0.495938    0.500808       0.500808   \n",
       "min     21.000000    1.000000        1.000000    1.000000       1.000000   \n",
       "25%     57.000000    1.000000        1.000000    1.000000       1.000000   \n",
       "50%     62.000000    2.000000        2.000000    1.000000       2.000000   \n",
       "75%     69.000000    2.000000        2.000000    2.000000       2.000000   \n",
       "max     87.000000    2.000000        2.000000    2.000000       2.000000   \n",
       "\n",
       "       CHRONIC DISEASE    FATIGUE     ALLERGY     WHEEZING  ALCOHOL CONSUMING  \\\n",
       "count       309.000000  309.000000  309.000000  309.000000         309.000000   \n",
       "mean          1.504854    1.673139    1.556634    1.556634           1.556634   \n",
       "std           0.500787    0.469827    0.497588    0.497588           0.497588   \n",
       "min           1.000000    1.000000    1.000000    1.000000           1.000000   \n",
       "25%           1.000000    1.000000    1.000000    1.000000           1.000000   \n",
       "50%           2.000000    2.000000    2.000000    2.000000           2.000000   \n",
       "75%           2.000000    2.000000    2.000000    2.000000           2.000000   \n",
       "max           2.000000    2.000000    2.000000    2.000000           2.000000   \n",
       "\n",
       "         COUGHING  SHORTNESS OF BREATH  SWALLOWING DIFFICULTY  CHEST PAIN  \n",
       "count  309.000000           309.000000             309.000000  309.000000  \n",
       "mean     1.579288             1.640777               1.469256    1.556634  \n",
       "std      0.494474             0.480551               0.499863    0.497588  \n",
       "min      1.000000             1.000000               1.000000    1.000000  \n",
       "25%      1.000000             1.000000               1.000000    1.000000  \n",
       "50%      2.000000             2.000000               1.000000    2.000000  \n",
       "75%      2.000000             2.000000               2.000000    2.000000  \n",
       "max      2.000000             2.000000               2.000000    2.000000  "
      ]
     },
     "execution_count": 5,
     "metadata": {},
     "output_type": "execute_result"
    }
   ],
   "source": [
    "print(f\"Summary of This Dataset :\")\n",
    "data.describe()"
   ]
  },
  {
   "cell_type": "code",
   "execution_count": 6,
   "metadata": {},
   "outputs": [
    {
     "name": "stdout",
     "output_type": "stream",
     "text": [
      "This dataset have 33 duplicates. Valid data: 276\n"
     ]
    }
   ],
   "source": [
    "print(f\"This dataset have {data[data.duplicated()].shape[0]} duplicates. Valid data: {len(data) - data[data.duplicated()].shape[0]}\")\n",
    "data.drop_duplicates(keep='first',inplace=True) # drop duplicates and save it"
   ]
  },
  {
   "cell_type": "markdown",
   "metadata": {},
   "source": [
    "### Data Preperation:"
   ]
  },
  {
   "cell_type": "markdown",
   "metadata": {},
   "source": [
    "Data preparation is a crucial step in the data analysis process. It involves cleaning, transforming, and organizing raw data into a format suitable for analysis. Effective data preparation ensures that the data used for analysis is accurate, complete, and relevant, leading to more meaningful insights."
   ]
  },
  {
   "cell_type": "code",
   "execution_count": 7,
   "metadata": {},
   "outputs": [],
   "source": [
    "LabelEncoder = LabelEncoder() # initializes a LabelEncoder object.\n",
    "\n",
    "data[\"GENDER\"] = data[\"GENDER\"].replace({\"M\" : \"Male\" , \"F\" : \"Female\"}) # rename\n",
    "data[\"LUNG_CANCER\"] = LabelEncoder.fit_transform(data[\"LUNG_CANCER\"]) # transform LUNG_Cancer\n",
    "data = pd.get_dummies(data, columns= [\"GENDER\"]) # encodes the \"GENDER\" column in the DataFrame using pandas get_dummies function.\n"
   ]
  },
  {
   "cell_type": "code",
   "execution_count": 8,
   "metadata": {},
   "outputs": [
    {
     "data": {
      "text/html": [
       "<div>\n",
       "<style scoped>\n",
       "    .dataframe tbody tr th:only-of-type {\n",
       "        vertical-align: middle;\n",
       "    }\n",
       "\n",
       "    .dataframe tbody tr th {\n",
       "        vertical-align: top;\n",
       "    }\n",
       "\n",
       "    .dataframe thead th {\n",
       "        text-align: right;\n",
       "    }\n",
       "</style>\n",
       "<table border=\"1\" class=\"dataframe\">\n",
       "  <thead>\n",
       "    <tr style=\"text-align: right;\">\n",
       "      <th></th>\n",
       "      <th>AGE</th>\n",
       "      <th>SMOKING</th>\n",
       "      <th>YELLOW_FINGERS</th>\n",
       "      <th>ANXIETY</th>\n",
       "      <th>PEER_PRESSURE</th>\n",
       "      <th>CHRONIC DISEASE</th>\n",
       "      <th>FATIGUE</th>\n",
       "      <th>ALLERGY</th>\n",
       "      <th>WHEEZING</th>\n",
       "      <th>ALCOHOL CONSUMING</th>\n",
       "      <th>COUGHING</th>\n",
       "      <th>SHORTNESS OF BREATH</th>\n",
       "      <th>SWALLOWING DIFFICULTY</th>\n",
       "      <th>CHEST PAIN</th>\n",
       "      <th>LUNG_CANCER</th>\n",
       "      <th>GENDER_Female</th>\n",
       "      <th>GENDER_Male</th>\n",
       "    </tr>\n",
       "  </thead>\n",
       "  <tbody>\n",
       "    <tr>\n",
       "      <th>0</th>\n",
       "      <td>69</td>\n",
       "      <td>1</td>\n",
       "      <td>2</td>\n",
       "      <td>2</td>\n",
       "      <td>1</td>\n",
       "      <td>1</td>\n",
       "      <td>2</td>\n",
       "      <td>1</td>\n",
       "      <td>2</td>\n",
       "      <td>2</td>\n",
       "      <td>2</td>\n",
       "      <td>2</td>\n",
       "      <td>2</td>\n",
       "      <td>2</td>\n",
       "      <td>1</td>\n",
       "      <td>False</td>\n",
       "      <td>True</td>\n",
       "    </tr>\n",
       "    <tr>\n",
       "      <th>1</th>\n",
       "      <td>74</td>\n",
       "      <td>2</td>\n",
       "      <td>1</td>\n",
       "      <td>1</td>\n",
       "      <td>1</td>\n",
       "      <td>2</td>\n",
       "      <td>2</td>\n",
       "      <td>2</td>\n",
       "      <td>1</td>\n",
       "      <td>1</td>\n",
       "      <td>1</td>\n",
       "      <td>2</td>\n",
       "      <td>2</td>\n",
       "      <td>2</td>\n",
       "      <td>1</td>\n",
       "      <td>False</td>\n",
       "      <td>True</td>\n",
       "    </tr>\n",
       "    <tr>\n",
       "      <th>2</th>\n",
       "      <td>59</td>\n",
       "      <td>1</td>\n",
       "      <td>1</td>\n",
       "      <td>1</td>\n",
       "      <td>2</td>\n",
       "      <td>1</td>\n",
       "      <td>2</td>\n",
       "      <td>1</td>\n",
       "      <td>2</td>\n",
       "      <td>1</td>\n",
       "      <td>2</td>\n",
       "      <td>2</td>\n",
       "      <td>1</td>\n",
       "      <td>2</td>\n",
       "      <td>0</td>\n",
       "      <td>True</td>\n",
       "      <td>False</td>\n",
       "    </tr>\n",
       "    <tr>\n",
       "      <th>3</th>\n",
       "      <td>63</td>\n",
       "      <td>2</td>\n",
       "      <td>2</td>\n",
       "      <td>2</td>\n",
       "      <td>1</td>\n",
       "      <td>1</td>\n",
       "      <td>1</td>\n",
       "      <td>1</td>\n",
       "      <td>1</td>\n",
       "      <td>2</td>\n",
       "      <td>1</td>\n",
       "      <td>1</td>\n",
       "      <td>2</td>\n",
       "      <td>2</td>\n",
       "      <td>0</td>\n",
       "      <td>False</td>\n",
       "      <td>True</td>\n",
       "    </tr>\n",
       "    <tr>\n",
       "      <th>4</th>\n",
       "      <td>63</td>\n",
       "      <td>1</td>\n",
       "      <td>2</td>\n",
       "      <td>1</td>\n",
       "      <td>1</td>\n",
       "      <td>1</td>\n",
       "      <td>1</td>\n",
       "      <td>1</td>\n",
       "      <td>2</td>\n",
       "      <td>1</td>\n",
       "      <td>2</td>\n",
       "      <td>2</td>\n",
       "      <td>1</td>\n",
       "      <td>1</td>\n",
       "      <td>0</td>\n",
       "      <td>True</td>\n",
       "      <td>False</td>\n",
       "    </tr>\n",
       "  </tbody>\n",
       "</table>\n",
       "</div>"
      ],
      "text/plain": [
       "   AGE  SMOKING  YELLOW_FINGERS  ANXIETY  PEER_PRESSURE  CHRONIC DISEASE  \\\n",
       "0   69        1               2        2              1                1   \n",
       "1   74        2               1        1              1                2   \n",
       "2   59        1               1        1              2                1   \n",
       "3   63        2               2        2              1                1   \n",
       "4   63        1               2        1              1                1   \n",
       "\n",
       "   FATIGUE   ALLERGY   WHEEZING  ALCOHOL CONSUMING  COUGHING  \\\n",
       "0         2         1         2                  2         2   \n",
       "1         2         2         1                  1         1   \n",
       "2         2         1         2                  1         2   \n",
       "3         1         1         1                  2         1   \n",
       "4         1         1         2                  1         2   \n",
       "\n",
       "   SHORTNESS OF BREATH  SWALLOWING DIFFICULTY  CHEST PAIN  LUNG_CANCER  \\\n",
       "0                    2                      2           2            1   \n",
       "1                    2                      2           2            1   \n",
       "2                    2                      1           2            0   \n",
       "3                    1                      2           2            0   \n",
       "4                    2                      1           1            0   \n",
       "\n",
       "   GENDER_Female  GENDER_Male  \n",
       "0          False         True  \n",
       "1          False         True  \n",
       "2           True        False  \n",
       "3          False         True  \n",
       "4           True        False  "
      ]
     },
     "execution_count": 8,
     "metadata": {},
     "output_type": "execute_result"
    }
   ],
   "source": [
    "# Preview\n",
    "data.head()"
   ]
  },
  {
   "cell_type": "code",
   "execution_count": 9,
   "metadata": {},
   "outputs": [
    {
     "name": "stdout",
     "output_type": "stream",
     "text": [
      "Shape of training data : (220, 16), (220,)\n",
      "Shape of testing data : (56, 16), (56,)\n"
     ]
    }
   ],
   "source": [
    "random_state = 42 # Set random seed for reproducibility\n",
    "max_depth = 10 # Set the maximum depth for the decision tree\n",
    "\n",
    "x = data.drop(\"LUNG_CANCER\", axis = 1) # Extract features (independent variables) by excluding the \"LUNG_CANCER\" column\n",
    "y = data[\"LUNG_CANCER\"] # Extract the target variable \"LUNG_CANCER\"\n",
    "\n",
    "scaler = StandardScaler() # Initialize StandardScaler\n",
    "x = scaler.fit_transform(x) # Transform the features using StandardScaler\n",
    "x_train, x_test, y_train, y_test = train_test_split(x,y, test_size=0.2, random_state=random_state) # Split the data into training and testing sets\n",
    "\n",
    "# Print shape\n",
    "print(f\"Shape of training data : {x_train.shape}, {y_train.shape}\")\n",
    "print(f\"Shape of testing data : {x_test.shape}, {y_test.shape}\")"
   ]
  },
  {
   "cell_type": "markdown",
   "metadata": {},
   "source": [
    "### Plots:"
   ]
  },
  {
   "cell_type": "code",
   "execution_count": 10,
   "metadata": {},
   "outputs": [
    {
     "data": {
      "image/png": "[encoded data removed]",
      "text/plain": [
       "<Figure size 800x600 with 1 Axes>"
      ]
     },
     "metadata": {},
     "output_type": "display_data"
    }
   ],
   "source": [
    "# bar plot showing the correlation between smoking and lung cancer\n",
    "data['Smoking_Status'] = data['SMOKING'].map({1: 'Smoker', 2: 'Non-Smoker'}) # mapping\n",
    "data['Lung_Cancer_Status'] = data['LUNG_CANCER'].map({0: 'No Lung Cancer', 1: 'Lung Cancer'}) # mapping\n",
    "\n",
    "plt.figure(figsize=(8, 6))\n",
    "sns.countplot(x='Smoking_Status', hue='Lung_Cancer_Status', data=data)\n",
    "plt.title('Amount of smokers and non-smokers with and without lung cancer')\n",
    "plt.xlabel('Smoking Status')\n",
    "plt.ylabel('Count')\n",
    "plt.legend(title='Lung Cancer Status')\n",
    "plt.show()"
   ]
  },
  {
   "cell_type": "markdown",
   "metadata": {},
   "source": [
    "the above plot shows a curious result: the dataset encompasses more non-smokers that have lung cancer, than smokers with lung cancer"
   ]
  },
  {
   "cell_type": "markdown",
   "metadata": {},
   "source": [
    "## Centralized Training"
   ]
  },
  {
   "cell_type": "markdown",
   "metadata": {},
   "source": [
    "In the realm of machine learning, centralized learning refers to a training paradigm where a single, centralized entity or server is responsible for collecting, storing, and processing all the data for model training. This approach stands in contrast to decentralized or federated learning, where data is distributed across multiple devices or locations."
   ]
  },
  {
   "cell_type": "markdown",
   "metadata": {},
   "source": [
    "### Logistic Regression:"
   ]
  },
  {
   "cell_type": "markdown",
   "metadata": {},
   "source": [
    "Logistic Regression is a statistical method used for binary classification, predicting the probability of an observation belonging to one of two classes. It is widely employed in machine learning when the dependent variable is categorical and represents two outcomes, typically coded as 0 and 1.\n"
   ]
  },
  {
   "cell_type": "code",
   "execution_count": 11,
   "metadata": {},
   "outputs": [
    {
     "name": "stdout",
     "output_type": "stream",
     "text": [
      "Confusion Matrix : \n",
      "[[ 8  4]\n",
      " [ 0 44]]\n",
      "\n",
      "Classification Report : \n",
      "              precision    recall  f1-score   support\n",
      "\n",
      "           0       1.00      0.67      0.80        12\n",
      "           1       0.92      1.00      0.96        44\n",
      "\n",
      "    accuracy                           0.93        56\n",
      "   macro avg       0.96      0.83      0.88        56\n",
      "weighted avg       0.93      0.93      0.92        56\n",
      "\n",
      "\n",
      "Logistic Regression is Accuracy 92.86 %\n"
     ]
    }
   ],
   "source": [
    "lr = LogisticRegression() # Import the Logistic Regression model from scikit-learn\n",
    "lr.fit(x_train, y_train) # Train the Logistic Regression model on the training data\n",
    "lr_pred = lr.predict(x_test) # Make predictions on the test data using the trained model\n",
    "\n",
    "# Print statements\n",
    "print(f\"Confusion Matrix : \\n{confusion_matrix(y_test, lr_pred)}\\n\")\n",
    "print(f\"Classification Report : \\n{classification_report(y_test, lr_pred)}\\n\")\n",
    "print(f\"Logistic Regression is Accuracy {round(accuracy_score(y_test, lr_pred)*100, ndigits = 2)} %\")"
   ]
  },
  {
   "cell_type": "markdown",
   "metadata": {},
   "source": [
    "### Random Forest:"
   ]
  },
  {
   "cell_type": "markdown",
   "metadata": {},
   "source": [
    "Random Forest is an ensemble learning algorithm widely used in machine learning for both classification and regression tasks. It operates by constructing a multitude of decision trees during training and outputs the mode (for classification) or the mean (for regression) of the individual trees for predictions.\n",
    "\n",
    "#### How Random Forest Works\n",
    "\n",
    "1. **Bootstrap Sampling (Bagging):** Random Forest starts by creating multiple random subsets of the original dataset through a process called bootstrap sampling. This involves randomly selecting samples with replacement, resulting in diverse subsets for each tree.\n",
    "\n",
    "2. **Feature Randomization:** For each tree, a random subset of features is considered at each split. This helps to introduce diversity among the trees and prevents the dominance of one particular feature.\n",
    "\n",
    "3. **Building Decision Trees:** Decision trees are constructed using the bootstrapped datasets and random subsets of features. Each tree in the forest is grown deep, often without pruning, to capture complex relationships in the data.\n",
    "\n",
    "4. **Voting (Classification) or Averaging (Regression):** During prediction, the Random Forest aggregates the outputs of all individual trees. For classification tasks, the mode (most frequent class) is taken as the final prediction. For regression tasks, the mean of all predictions is considered.\n",
    "\n",
    "#### Advantages of Random Forest\n",
    "\n",
    "- **Robust to Overfitting:** The ensemble nature of Random Forest helps mitigate overfitting, as the aggregation of multiple trees tends to generalize well to unseen data.\n",
    "  \n",
    "- **High Accuracy:** Random Forest often provides high accuracy in both classification and regression tasks due to the combination of diverse decision trees.\n",
    "\n",
    "- **Feature Importance:** The algorithm provides a measure of feature importance, helping in identifying the most relevant features in the dataset.\n",
    "\n",
    "- **Handles Missing Values:** Random Forest can effectively handle missing values in the dataset without a need for imputation.\n",
    "\n",
    "#### Use Cases\n",
    "\n",
    "Random Forest is suitable for a wide range of applications, including but not limited to:\n",
    "\n",
    "- Classification tasks in areas such as finance, healthcare, and image recognition.\n",
    "- Regression tasks for predicting numerical values, like stock prices or housing prices.\n",
    "- Identifying important features in datasets.\n",
    "\n",
    "#### Conclusion\n",
    "\n",
    "Random Forest is a powerful and versatile machine learning algorithm that leverages the strength of multiple decision trees to provide robust and accurate predictions. Its ability to handle various types of data and avoid overfitting makes it a popular choice in the machine learning community.\n"
   ]
  },
  {
   "cell_type": "code",
   "execution_count": 12,
   "metadata": {},
   "outputs": [
    {
     "name": "stdout",
     "output_type": "stream",
     "text": [
      "Confusion Matrix: \n",
      "[[ 6  6]\n",
      " [ 0 44]]\n",
      "\n",
      "Report:\n",
      "              precision    recall  f1-score   support\n",
      "\n",
      "           0       1.00      0.50      0.67        12\n",
      "           1       0.88      1.00      0.94        44\n",
      "\n",
      "    accuracy                           0.89        56\n",
      "   macro avg       0.94      0.75      0.80        56\n",
      "weighted avg       0.91      0.89      0.88        56\n",
      "\n",
      "Random Forest Classifier Accuracy is 89.29 %\n"
     ]
    }
   ],
   "source": [
    "rfc = RandomForestClassifier(max_depth=max_depth, random_state = random_state) # Instantiate a Random Forest Classifier with specified parameters (max_depth and random_state)\n",
    "rfc.fit(x_train, y_train) # Train the Random Forest Classifier on the training data\n",
    "rfc_pred = rfc.predict(x_test) # Use the trained model to make predictions on the test data\n",
    "\n",
    "# Print statements\n",
    "print(f\"Confusion Matrix: \\n{confusion_matrix(y_test, rfc_pred)}\\n\")\n",
    "print(f\"Report:\\n{classification_report(y_test, rfc_pred)}\")\n",
    "print(f\"Random Forest Classifier Accuracy is {round(accuracy_score(y_test, rfc_pred)*100, ndigits = 2)} %\")"
   ]
  },
  {
   "cell_type": "code",
   "execution_count": 13,
   "metadata": {},
   "outputs": [
    {
     "data": {
      "image/png": "[encoded data removed]",
      "text/plain": [
       "<Figure size 640x480 with 1 Axes>"
      ]
     },
     "metadata": {},
     "output_type": "display_data"
    }
   ],
   "source": [
    "# create ROC curve\n",
    "y_probs = rfc.predict_proba(x_test)[:, 1]\n",
    "fpr, tpr, thresholds = roc_curve(y_test, y_probs)\n",
    "\n",
    "# Calculate AUC (Area Under Curve)\n",
    "roc_auc = auc(fpr, tpr)\n",
    "\n",
    "# Plot ROC-Kurve\n",
    "plt.figure()\n",
    "plt.plot(fpr, tpr, color='darkorange', lw=2, label='ROC curve (area = %0.2f)' % roc_auc)\n",
    "plt.plot([0, 1], [0, 1], color='navy', lw=2, linestyle='--')\n",
    "plt.xlim([0.0, 1.0])\n",
    "plt.ylim([0.0, 1.05])\n",
    "plt.xlabel('False Positive Rate')\n",
    "plt.ylabel('True Positive Rate')\n",
    "plt.title('Receiver Operating Characteristic')\n",
    "plt.legend(loc=\"lower right\")\n",
    "plt.show()"
   ]
  },
  {
   "cell_type": "code",
   "execution_count": 14,
   "metadata": {},
   "outputs": [],
   "source": [
    "# Drop data\n",
    "data.drop(\"LUNG_CANCER\", axis=1).columns\n",
    "data = data.drop(\"Smoking_Status\", axis=1)\n",
    "data = data.drop(\"Lung_Cancer_Status\", axis=1)"
   ]
  },
  {
   "cell_type": "code",
   "execution_count": 15,
   "metadata": {},
   "outputs": [
    {
     "name": "stdout",
     "output_type": "stream",
     "text": [
      "                  Feature  Importance\n",
      "0                     AGE    0.226893\n",
      "7                ALLERGY     0.077366\n",
      "2          YELLOW_FINGERS    0.072726\n",
      "9       ALCOHOL CONSUMING    0.072202\n",
      "4           PEER_PRESSURE    0.067687\n",
      "5         CHRONIC DISEASE    0.066555\n",
      "6                FATIGUE     0.057678\n",
      "10               COUGHING    0.048710\n",
      "12  SWALLOWING DIFFICULTY    0.046567\n",
      "8                WHEEZING    0.044450\n",
      "13             CHEST PAIN    0.043529\n",
      "3                 ANXIETY    0.042386\n",
      "11    SHORTNESS OF BREATH    0.036251\n",
      "14          GENDER_Female    0.034021\n",
      "1                 SMOKING    0.033342\n",
      "15            GENDER_Male    0.029636\n"
     ]
    },
    {
     "data": {
      "image/png": "[encoded data removed]",
      "text/plain": [
       "<Figure size 1000x600 with 1 Axes>"
      ]
     },
     "metadata": {},
     "output_type": "display_data"
    }
   ],
   "source": [
    "feature_importance_df = pd.DataFrame({'Feature': data.drop(\"LUNG_CANCER\", axis=1).columns, 'Importance': rfc.feature_importances_})\n",
    " \n",
    "feature_importance_df = feature_importance_df.sort_values(by='Importance', ascending=False)\n",
    "print(feature_importance_df)\n",
    " \n",
    "# sort by importance\n",
    "feature_importances = feature_importance_df.sort_values(by='Importance', ascending=False)\n",
    " \n",
    "# bar plot\n",
    "plt.figure(figsize=(10, 6))\n",
    "bars = plt.barh(feature_importances['Feature'], feature_importances['Importance'])\n",
    "\n",
    "# Achsentitel und Diagrammtitel hinzufügen\n",
    "plt.xlabel('Importance')\n",
    "plt.ylabel('Feature')\n",
    "plt.title('Feature Importance in Random Forest Model')\n",
    "\n",
    "# Werte über den Balken platzieren\n",
    "for bar, importance in zip(bars, feature_importances['Importance']):\n",
    "    plt.text(bar.get_width() + 0.01, bar.get_y() + bar.get_height()/2, f'{importance:.4f}', va='center')\n",
    "\n",
    "plt.gca().invert_yaxis()\n",
    "plt.show()"
   ]
  },
  {
   "cell_type": "markdown",
   "metadata": {},
   "source": [
    "### SVM:"
   ]
  },
  {
   "cell_type": "markdown",
   "metadata": {},
   "source": [
    "Support Vector Machines (SVM) are a powerful class of supervised learning algorithms used for classification and regression tasks. SVMs are particularly effective in high-dimensional spaces and are widely used in machine learning and data analysis.\n",
    "\n",
    "#### Overview\n",
    "\n",
    "At its core, an SVM works by finding the optimal hyperplane that separates data points into different classes. The hyperplane is chosen such that it maximally separates the instances of different classes while maintaining a margin of separation. The instances that lie on the edges of the margin are called support vectors, hence the name of the algorithm.\n",
    "\n",
    "####  Key Concepts\n",
    "\n",
    "1. **Hyperplane:** In a two-dimensional space, a hyperplane is a simple line, while in higher dimensions, it becomes a hyperplane. SVM aims to find the hyperplane that best separates data points of different classes.\n",
    "\n",
    "2. **Margin:** The margin is the distance between the hyperplane and the nearest data point from either class. SVM seeks to maximize this margin, providing robustness to the model.\n",
    "\n",
    "3. **Support Vectors:** Support vectors are the data points that lie on the edges of the margin. These instances play a crucial role in determining the optimal hyperplane and are essential for the SVM algorithm.\n",
    "\n",
    "####  Types of SVM\n",
    "\n",
    "1. **Linear SVM:** This is suitable for linearly separable data, where a straight line can effectively divide the classes.\n",
    "\n",
    "2. **Non-linear SVM (Kernel SVM):** When the data is not linearly separable, SVM can use a kernel function to map the input features into a higher-dimensional space, making it possible to find a hyperplane that separates the classes.\n",
    "\n",
    "####  Advantages\n",
    "\n",
    "- Effective in high-dimensional spaces.\n",
    "- Robust to overfitting, especially in high-dimensi\n"
   ]
  },
  {
   "cell_type": "code",
   "execution_count": 16,
   "metadata": {},
   "outputs": [
    {
     "name": "stdout",
     "output_type": "stream",
     "text": [
      "Confusion Matrix: \n",
      "[[ 9  3]\n",
      " [ 0 44]]\n",
      "\n",
      "Classification Report: \n",
      "              precision    recall  f1-score   support\n",
      "\n",
      "           0       1.00      0.75      0.86        12\n",
      "           1       0.94      1.00      0.97        44\n",
      "\n",
      "    accuracy                           0.95        56\n",
      "   macro avg       0.97      0.88      0.91        56\n",
      "weighted avg       0.95      0.95      0.94        56\n",
      "\n",
      "\n",
      "Support Vector Machine Accuracy is 94.64 %\n"
     ]
    }
   ],
   "source": [
    "svm = SVC(C = 100, gamma = 0.002) # # SVM (Support Vector Machine) classifier with specified hyperparameters\n",
    "svm.fit(x_train, y_train) # Training the SVM model using the training data\n",
    "svm_pred = svm.predict(x_test) # Making predictions on the test data using the trained SVM model\n",
    "\n",
    "# print statements\n",
    "print(f\"Confusion Matrix: \\n{confusion_matrix(y_test, svm_pred)}\\n\")\n",
    "print(f\"Classification Report: \\n{classification_report(y_test, svm_pred)}\\n\")\n",
    "print(f\"Support Vector Machine Accuracy is {round(accuracy_score(y_test, svm_pred)*100, ndigits = 2)} %\")"
   ]
  },
  {
   "cell_type": "markdown",
   "metadata": {},
   "source": [
    "### Evaluation:"
   ]
  },
  {
   "cell_type": "markdown",
   "metadata": {},
   "source": [
    "Text Text"
   ]
  },
  {
   "cell_type": "markdown",
   "metadata": {},
   "source": [
    "## Federated Learning with Flower"
   ]
  },
  {
   "cell_type": "markdown",
   "metadata": {},
   "source": [
    "#### What is Federated Learning?\n",
    "Federated Learning is a decentralized machine learning approach that allows model training across multiple devices or edge nodes without the need to transfer raw data to a central server. In this paradigm, models are trained locally on individual devices using their respective data, and only the model updates are transmitted to a central server, where they are aggregated to improve the global model.\n",
    "\n",
    "##### How Federated Learning Works\n",
    "\n",
    "The Federated Learning process typically involves the following steps:\n",
    "\n",
    "1. **Initialization:**\n",
    "   - A global model is initialized on a central server.\n",
    "\n",
    "2. **Local Training:**\n",
    "   - The global model is sent to participating devices.\n",
    "   - Each device trains the model using its local data, making updates based on its specific context.\n",
    "\n",
    "3. **Model Updates:**\n",
    "   - Only the model updates, not the raw data, are sent back to the central server.\n",
    "\n",
    "4. **Aggregation:**\n",
    "   - The central server aggregates the received updates from all participating devices to improve the global model.\n",
    "\n",
    "5. **Iteration:**\n",
    "   - Steps 2-4 are repeated iteratively to refine the global model collaboratively.\n",
    "\n",
    "##### Advantages of Federated Learning\n",
    "\n",
    "- **Privacy Preservation:**\n",
    "  - Federated Learning helps address privacy concerns by keeping data localized. Raw data never leaves individual devices, reducing the risk of sensitive information exposure.\n",
    "\n",
    "- **Edge Computing:**\n",
    "  - It leverages edge devices for local model training, making it suitable for scenarios with resource-constrained or bandwidth-limited devices.\n",
    "\n",
    "- **Decentralized Training:**\n",
    "  - Enables training on diverse datasets, reflecting variations in local environments and user behaviors.\n",
    "\n",
    "- **Reduced Communication Overhead:**\n",
    "  - Transmitting only model updates instead of raw data minimizes communication overhead, making it efficient for devices with limited network capabilities.\n",
    "\n",
    "##### Challenges and Considerations\n",
    "\n",
    "- **Heterogeneity:**\n",
    "  - Devices may have diverse data distributions and capabilities, requiring careful consideration in model aggregation.\n",
    "\n",
    "- **Security Concerns:**\n",
    "  - Federated Learning introduces new security challenges, such as the potential for model inversion attacks. Robust security measures must be implemented.\n",
    "\n",
    "- **Communication Delays:**\n",
    "  - Depending on the network conditions, communication delays between devices and the central server may impact the efficiency of the training process.\n",
    "\n",
    "##### Conclusion\n",
    "\n",
    "Federated Learning offers a privacy-preserving and collaborative approach to machine learning, making it well-suited for scenarios where data privacy is a priority or where edge devices play a crucial role in the learning process.\n",
    "\n",
    "#### What is Flower?\n",
    "\n",
    "Flower is a Python library designed to facilitate federated learning, a machine learning paradigm where the model is trained across decentralized devices or servers holding local data samples. The goal is to enable collaborative model training without sharing raw data.\n",
    "\n",
    "##### Features\n",
    "\n",
    "Flower offers several key features for federated learning:\n",
    "\n",
    "1. **Decentralized Training**\n",
    "\n",
    "Flower provides tools for training machine learning models across multiple devices or servers in a decentralized manner. Each device holds its local dataset, and model updates are aggregated without exchanging raw data.\n",
    "\n",
    "2. **Privacy-Preserving**\n",
    "\n",
    "By design, federated learning aims to preserve the privacy of local data. Flower ensures that the raw data never leaves the local device, as only model updates are shared during the training process.\n",
    "\n",
    "3. **Scalability**\n",
    "\n",
    "The library is designed to scale efficiently, making it suitable for federated learning scenarios involving a large number of devices or servers. This scalability is essential for applications with diverse and extensive datasets.\n",
    "\n",
    "4. **Compatibility with PyTorch and TensorFlow**\n",
    "\n",
    "Flower is compatible with popular deep learning frameworks like PyTorch and TensorFlow, making it accessible to a broad audience. This allows practitioners to leverage familiar tools while adopting federated learning techniques.\n"
   ]
  },
  {
   "cell_type": "markdown",
   "metadata": {},
   "source": [
    "### Training preperation"
   ]
  },
  {
   "cell_type": "code",
   "execution_count": 17,
   "metadata": {},
   "outputs": [],
   "source": [
    "###################################################################################### \n",
    "#                                                                                    #\n",
    "#                                   ! ATTENTION !                                    #\n",
    "#        When you change this values PLEASE restart this Notebook again !!!!         #\n",
    "#                                                                                    #\n",
    "######################################################################################\n",
    "\n",
    "NUM_CLIENTS = 3\n",
    "num_rounds = 5"
   ]
  },
  {
   "cell_type": "code",
   "execution_count": 18,
   "metadata": {},
   "outputs": [
    {
     "name": "stdout",
     "output_type": "stream",
     "text": [
      "Client 1: (74, 16), (74,), (19, 16), (19,)\n",
      "Client 2: (73, 16), (73,), (19, 16), (19,)\n",
      "Client 3: (73, 16), (73,), (18, 16), (18,)\n"
     ]
    }
   ],
   "source": [
    "# This function splits the given training and testing data into chunks for a specified number of clients in a federated learning scenario.\n",
    "\n",
    "def split_data_for_clients(x_train, y_train, x_test, y_test, num_clients):\n",
    "    # Calculate the size of each chunk for training and testing data\n",
    "    chunk_size_train = len(x_train) // num_clients\n",
    "    chunk_size_test = len(x_test) // num_clients\n",
    "\n",
    "    # Calculate the remainder for both training and testing data\n",
    "    remainder_train = len(x_train) % num_clients\n",
    "    remainder_test = len(x_test) % num_clients\n",
    "\n",
    "    # Initialize empty lists to store the chunks of data for each client\n",
    "    x_train_chunks, y_train_chunks, x_test_chunks, y_test_chunks = [], [], [], []\n",
    "\n",
    "    # Loop through each client to create data chunks\n",
    "    for i in range(num_clients):\n",
    "        # Calculate the start and end indices for the training data chunk\n",
    "        start_train = i * chunk_size_train\n",
    "        end_train = start_train + chunk_size_train + (1 if i < remainder_train else 0)\n",
    "\n",
    "        # Calculate the start and end indices for the testing data chunk\n",
    "        start_test = i * chunk_size_test\n",
    "        end_test = start_test + chunk_size_test + (1 if i < remainder_test else 0)\n",
    "\n",
    "        # Append the corresponding chunks to the lists\n",
    "        x_train_chunks.append(x_train[start_train:end_train])\n",
    "        y_train_chunks.append(y_train[start_train:end_train])\n",
    "        x_test_chunks.append(x_test[start_test:end_test])\n",
    "        y_test_chunks.append(y_test[start_test:end_test])\n",
    "\n",
    "    # Return the lists containing the data chunks for each client\n",
    "    return x_train_chunks, y_train_chunks, x_test_chunks, y_test_chunks\n",
    "\n",
    "x_train_chunks, y_train_chunks, x_test_chunks, y_test_chunks = split_data_for_clients(\n",
    "    x_train, y_train, x_test, y_test, NUM_CLIENTS\n",
    ")\n",
    "\n",
    "# print shape of each chunk\n",
    "for i in range(len(x_train_chunks)):\n",
    "    print(f\"Client {i+1}: {x_train_chunks[i].shape}, {y_train_chunks[i].shape}, {x_test_chunks[i].shape}, {y_test_chunks[i].shape}\")"
   ]
  },
  {
   "cell_type": "markdown",
   "metadata": {},
   "source": [
    "### Random Forest"
   ]
  },
  {
   "cell_type": "markdown",
   "metadata": {},
   "source": [
    "#### Functions"
   ]
  },
  {
   "cell_type": "code",
   "execution_count": 19,
   "metadata": {},
   "outputs": [],
   "source": [
    "def set_params(model: RandomForestClassifier, params: List[np.ndarray]) -> RandomForestClassifier:\n",
    "    model.n_estimators = int(params[0]) # The number of trees in the forest.\n",
    "    model.max_depth = int(params[1]) # The maximum depth of the trees. \n",
    "    model.min_samples_split = int(params[2]) # The minimum number of samples required to split an internal node.\n",
    "    model.min_samples_leaf = int(params[3]) # The minimum number of samples required to be at a leaf node.\n",
    "    return model"
   ]
  },
  {
   "cell_type": "code",
   "execution_count": 20,
   "metadata": {},
   "outputs": [],
   "source": [
    "def get_params(model: RandomForestClassifier) -> List[np.ndarray]:\n",
    "    params = [\n",
    "        model.n_estimators, # The number of trees in the forest.\n",
    "        model.max_depth, # The maximum depth of the trees. \n",
    "        model.min_samples_split, # The minimum number of samples required to split an internal node.\n",
    "        model.min_samples_leaf, # The minimum number of samples required to be at a leaf node.\n",
    "    ]\n",
    "    return params"
   ]
  },
  {
   "cell_type": "markdown",
   "metadata": {},
   "source": [
    "#### Script"
   ]
  },
  {
   "cell_type": "code",
   "execution_count": 21,
   "metadata": {},
   "outputs": [],
   "source": [
    "# Define a client for Federated Learning using the NumPyClient class from the fl library.\n",
    "class RandomForestClient(fl.client.NumPyClient):\n",
    "    # Constructor to initialize the client with training and testing data, local_epochs, and model parameters.\n",
    "    def __init__(self, X_train, y_train, X_test, y_test, local_epochs): \n",
    "        self.model = RandomForestClassifier(max_depth=max_depth, random_state = random_state) # Create a RandomForestClassifier model with specified parameters.\n",
    "        \n",
    "        # Store training and testing data along with local_epochs.\n",
    "        self.X_train, self.y_train = X_train, y_train\n",
    "        self.X_test, self.y_test = X_test, y_test\n",
    "        self.local_epochs = local_epochs\n",
    "\n",
    "    # Method to get the model parameters.\n",
    "    def get_parameters(self, config):\n",
    "        return get_params(self.model)\n",
    "\n",
    "    # Method to fit the model on the local training data for a specified number of local_epochs.\n",
    "    def fit(self, parameters, config):\n",
    "        set_params(self.model, parameters)\n",
    "        for _ in range(self.local_epochs):\n",
    "            self.model.fit(self.X_train, self.y_train)\n",
    "            return self.get_parameters(config), len(self.X_train), {}\n",
    "\n",
    "    # Method to evaluate the model on the local testing data and return accuracy.\n",
    "    def evaluate(self, parameters, config):\n",
    "        set_params(self.model, parameters)\n",
    "        accuracy = self.model.score(self.X_test, self.y_test)\n",
    "        return accuracy, len(self.X_test), {}\n",
    "\n",
    "client_data = list(zip(x_train_chunks, y_train_chunks, x_test_chunks, y_test_chunks))\n",
    "\n",
    "# Create a list of RandomForestClient objects\n",
    "client_models = [\n",
    "    RandomForestClient(X_train, y_train, X_test, y_test, local_epochs=1) \n",
    "    for X_train, y_train, X_test, y_test \n",
    "    in zip(x_train_chunks, y_train_chunks, x_test_chunks, y_test_chunks)\n",
    "    ]"
   ]
  },
  {
   "cell_type": "code",
   "execution_count": 22,
   "metadata": {},
   "outputs": [
    {
     "name": "stdout",
     "output_type": "stream",
     "text": [
      "Client 1 Accuracy: 0.7894736842105263\n",
      "Client 2 Accuracy: 0.8947368421052632\n",
      "Client 3 Accuracy: 0.8888888888888888\n"
     ]
    },
    {
     "data": {
      "image/png": "[encoded data removed]",
      "text/plain": [
       "<Figure size 640x480 with 1 Axes>"
      ]
     },
     "metadata": {},
     "output_type": "display_data"
    }
   ],
   "source": [
    "client_counter = 0\n",
    "client_list = []\n",
    "accuracy_list = []\n",
    "\n",
    "\n",
    "for client in client_models:\n",
    "    client_counter += 1\n",
    "    X_train, y_train, X_test, y_test = client.X_train, client.y_train, client.X_test, client.y_test # get data\n",
    "    client.model.fit(X_train, y_train) # train model\n",
    "    accuracy = client.model.score(X_test, y_test) # scores\n",
    "    \n",
    "    # print statements\n",
    "    print(f\"Client {client_counter} Accuracy: {accuracy}\")\n",
    "    client_list.append(client_counter)\n",
    "    accuracy_list.append(accuracy)\n",
    "\n",
    "# VIZ:\n",
    "plt.bar(client_list, accuracy_list)\n",
    "plt.xlabel('Client')\n",
    "plt.ylabel('Accuracy')\n",
    "plt.title('Accuracy of each Client')\n",
    "\n",
    "# Labels \n",
    "for i, acc in enumerate(accuracy_list):\n",
    "    plt.text(client_list[i], acc, f'{acc:.2f}', ha='center', va='bottom')\n",
    "\n",
    "plt.show() # show plot"
   ]
  },
  {
   "cell_type": "code",
   "execution_count": 23,
   "metadata": {},
   "outputs": [],
   "source": [
    "def client_fn(cid: str) -> RandomForestClient:\n",
    "    X_train, y_train, X_test, y_test = client_data[int(cid)]\n",
    "    return RandomForestClient(X_train, y_train, X_test, y_test)"
   ]
  },
  {
   "cell_type": "code",
   "execution_count": 24,
   "metadata": {},
   "outputs": [
    {
     "name": "stdout",
     "output_type": "stream",
     "text": [
      "{'bootstrap': True, 'ccp_alpha': 0.0, 'class_weight': None, 'criterion': 'gini', 'max_depth': 10, 'max_features': 'sqrt', 'max_leaf_nodes': None, 'max_samples': None, 'min_impurity_decrease': 0.0, 'min_samples_leaf': 1, 'min_samples_split': 2, 'min_weight_fraction_leaf': 0.0, 'n_estimators': 100, 'n_jobs': None, 'oob_score': False, 'random_state': 42, 'verbose': 0, 'warm_start': False}\n"
     ]
    },
    {
     "data": {
      "text/plain": [
       "[100, 10, 2, 1]"
      ]
     },
     "execution_count": 24,
     "metadata": {},
     "output_type": "execute_result"
    }
   ],
   "source": [
    "forest = client_models[0] # Assuming 'client_models' is a list of models, and we are selecting the first one\n",
    "print(forest.model.get_params()) # Retrieving and printing the parameters of the model\n",
    "forest.get_parameters({}) # Requesting and potentially retrieving additional parameters of the model"
   ]
  },
  {
   "cell_type": "code",
   "execution_count": 25,
   "metadata": {},
   "outputs": [
    {
     "name": "stderr",
     "output_type": "stream",
     "text": [
      "WARNING flwr 2024-01-24 09:21:12,754 | fedavg.py:117 | \n",
      "Setting `min_available_clients` lower than `min_fit_clients` or\n",
      "`min_evaluate_clients` can cause the server to fail when there are too few clients\n",
      "connected to the server. `min_available_clients` must be set to a value larger\n",
      "than or equal to the values of `min_fit_clients` and `min_evaluate_clients`.\n",
      "\n",
      "INFO flwr 2024-01-24 09:21:12,758 | app.py:178 | Starting Flower simulation, config: ServerConfig(num_rounds=5, round_timeout=None)\n",
      "2024-01-24 09:21:18,038\tINFO worker.py:1621 -- Started a local Ray instance.\n",
      "INFO flwr 2024-01-24 09:21:22,518 | app.py:213 | Flower VCE: Ray initialized with resources: {'node:__internal_head__': 1.0, 'object_store_memory': 1001738649.0, 'memory': 2003477300.0, 'node:127.0.0.1': 1.0, 'CPU': 16.0}\n",
      "INFO flwr 2024-01-24 09:21:22,519 | app.py:219 | Optimize your simulation with Flower VCE: https://flower.dev/docs/framework/how-to-run-simulations.html\n",
      "INFO flwr 2024-01-24 09:21:22,519 | app.py:227 | No `client_resources` specified. Using minimal resources for clients.\n",
      "INFO flwr 2024-01-24 09:21:22,520 | app.py:242 | Flower VCE: Resources for each Virtual Client: {'num_cpus': 1, 'num_gpus': 0.0}\n",
      "INFO flwr 2024-01-24 09:21:22,546 | app.py:288 | Flower VCE: Creating VirtualClientEngineActorPool with 16 actors\n",
      "INFO flwr 2024-01-24 09:21:22,547 | server.py:89 | Initializing global parameters\n",
      "INFO flwr 2024-01-24 09:21:22,548 | server.py:276 | Requesting initial parameters from one random client\n",
      "INFO flwr 2024-01-24 09:21:29,613 | server.py:280 | Received initial parameters from one random client\n",
      "INFO flwr 2024-01-24 09:21:29,614 | server.py:91 | Evaluating initial parameters\n",
      "INFO flwr 2024-01-24 09:21:29,614 | server.py:104 | FL starting\n",
      "DEBUG flwr 2024-01-24 09:21:29,616 | server.py:222 | fit_round 1: strategy sampled 3 clients (out of 3)\n",
      "DEBUG flwr 2024-01-24 09:21:31,709 | server.py:236 | fit_round 1 received 3 results and 0 failures\n",
      "WARNING flwr 2024-01-24 09:21:31,711 | fedavg.py:242 | No fit_metrics_aggregation_fn provided\n",
      "DEBUG flwr 2024-01-24 09:21:31,713 | server.py:173 | evaluate_round 1: strategy sampled 2 clients (out of 3)\n",
      "DEBUG flwr 2024-01-24 09:21:31,805 | server.py:187 | evaluate_round 1 received 2 results and 0 failures\n",
      "WARNING flwr 2024-01-24 09:21:31,806 | fedavg.py:273 | No evaluate_metrics_aggregation_fn provided\n",
      "DEBUG flwr 2024-01-24 09:21:31,806 | server.py:222 | fit_round 2: strategy sampled 3 clients (out of 3)\n",
      "DEBUG flwr 2024-01-24 09:21:32,034 | server.py:236 | fit_round 2 received 3 results and 0 failures\n",
      "DEBUG flwr 2024-01-24 09:21:32,036 | server.py:173 | evaluate_round 2: strategy sampled 2 clients (out of 3)\n",
      "DEBUG flwr 2024-01-24 09:21:32,110 | server.py:187 | evaluate_round 2 received 2 results and 0 failures\n",
      "DEBUG flwr 2024-01-24 09:21:32,111 | server.py:222 | fit_round 3: strategy sampled 3 clients (out of 3)\n",
      "DEBUG flwr 2024-01-24 09:21:32,348 | server.py:236 | fit_round 3 received 3 results and 0 failures\n",
      "DEBUG flwr 2024-01-24 09:21:32,352 | server.py:173 | evaluate_round 3: strategy sampled 2 clients (out of 3)\n",
      "DEBUG flwr 2024-01-24 09:21:32,420 | server.py:187 | evaluate_round 3 received 2 results and 0 failures\n",
      "DEBUG flwr 2024-01-24 09:21:32,423 | server.py:222 | fit_round 4: strategy sampled 3 clients (out of 3)\n",
      "DEBUG flwr 2024-01-24 09:21:32,638 | server.py:236 | fit_round 4 received 3 results and 0 failures\n",
      "DEBUG flwr 2024-01-24 09:21:32,641 | server.py:173 | evaluate_round 4: strategy sampled 2 clients (out of 3)\n",
      "DEBUG flwr 2024-01-24 09:21:32,722 | server.py:187 | evaluate_round 4 received 2 results and 0 failures\n",
      "DEBUG flwr 2024-01-24 09:21:32,723 | server.py:222 | fit_round 5: strategy sampled 3 clients (out of 3)\n",
      "DEBUG flwr 2024-01-24 09:21:32,935 | server.py:236 | fit_round 5 received 3 results and 0 failures\n",
      "DEBUG flwr 2024-01-24 09:21:32,936 | server.py:173 | evaluate_round 5: strategy sampled 2 clients (out of 3)\n",
      "DEBUG flwr 2024-01-24 09:21:33,005 | server.py:187 | evaluate_round 5 received 2 results and 0 failures\n",
      "INFO flwr 2024-01-24 09:21:33,007 | server.py:153 | FL finished in 3.390776200016262\n",
      "INFO flwr 2024-01-24 09:21:33,007 | app.py:226 | app_fit: losses_distributed [(1, 0.8421052631578947), (2, 0.8421052631578947), (3, 0.8378378378378378), (4, 0.8378378378378378), (5, 0.8918918918918919)]\n",
      "INFO flwr 2024-01-24 09:21:33,008 | app.py:227 | app_fit: metrics_distributed_fit {}\n",
      "INFO flwr 2024-01-24 09:21:33,009 | app.py:228 | app_fit: metrics_distributed {}\n",
      "INFO flwr 2024-01-24 09:21:33,010 | app.py:229 | app_fit: losses_centralized []\n",
      "INFO flwr 2024-01-24 09:21:33,011 | app.py:230 | app_fit: metrics_centralized {}\n"
     ]
    }
   ],
   "source": [
    "# Define strategy\n",
    "strategy = fl.server.strategy.FedAvg(\n",
    "    fraction_fit=1.0,\n",
    "    fraction_evaluate=0.5,\n",
    "    min_fit_clients=1,\n",
    "    min_available_clients=1,\n",
    ")\n",
    "\n",
    "# get result\n",
    "result = fl.simulation.start_simulation(\n",
    "    num_clients=NUM_CLIENTS,\n",
    "    config=fl.server.ServerConfig(num_rounds=num_rounds),\n",
    "    strategy=strategy,\n",
    "    client_fn= lambda i: client_models[int(i)], #client_fn,\n",
    ")"
   ]
  },
  {
   "cell_type": "code",
   "execution_count": 26,
   "metadata": {},
   "outputs": [
    {
     "name": "stdout",
     "output_type": "stream",
     "text": [
      "History (loss, distributed):\n",
      "\tround 1: 0.8421052631578947\n",
      "\tround 2: 0.8421052631578947\n",
      "\tround 3: 0.8378378378378378\n",
      "\tround 4: 0.8378378378378378\n",
      "\tround 5: 0.8918918918918919\n",
      "\n"
     ]
    }
   ],
   "source": [
    "# Global Model FedAvg\n",
    "print(result)"
   ]
  },
  {
   "cell_type": "markdown",
   "metadata": {},
   "source": [
    "### Dynamic epochs"
   ]
  },
  {
   "cell_type": "code",
   "execution_count": 27,
   "metadata": {},
   "outputs": [
    {
     "name": "stderr",
     "output_type": "stream",
     "text": [
      "WARNING flwr 2024-01-24 09:21:33,052 | fedavg.py:117 | \n",
      "Setting `min_available_clients` lower than `min_fit_clients` or\n",
      "`min_evaluate_clients` can cause the server to fail when there are too few clients\n",
      "connected to the server. `min_available_clients` must be set to a value larger\n",
      "than or equal to the values of `min_fit_clients` and `min_evaluate_clients`.\n",
      "\n"
     ]
    },
    {
     "name": "stdout",
     "output_type": "stream",
     "text": [
      "Client 1 Accuracy: 0.7894736842105263\n"
     ]
    },
    {
     "name": "stdout",
     "output_type": "stream",
     "text": [
      "Client 2 Accuracy: 0.8947368421052632\n"
     ]
    },
    {
     "name": "stderr",
     "output_type": "stream",
     "text": [
      "INFO flwr 2024-01-24 09:21:33,497 | app.py:178 | Starting Flower simulation, config: ServerConfig(num_rounds=5, round_timeout=None)\n"
     ]
    },
    {
     "name": "stdout",
     "output_type": "stream",
     "text": [
      "Client 3 Accuracy: 0.8888888888888888\n"
     ]
    },
    {
     "name": "stderr",
     "output_type": "stream",
     "text": [
      "2024-01-24 09:21:40,626\tINFO worker.py:1621 -- Started a local Ray instance.\n",
      "INFO flwr 2024-01-24 09:21:44,846 | app.py:213 | Flower VCE: Ray initialized with resources: {'memory': 2451573966.0, 'object_store_memory': 1225786982.0, 'node:127.0.0.1': 1.0, 'CPU': 16.0, 'node:__internal_head__': 1.0}\n",
      "INFO flwr 2024-01-24 09:21:44,846 | app.py:219 | Optimize your simulation with Flower VCE: https://flower.dev/docs/framework/how-to-run-simulations.html\n",
      "INFO flwr 2024-01-24 09:21:44,847 | app.py:227 | No `client_resources` specified. Using minimal resources for clients.\n",
      "INFO flwr 2024-01-24 09:21:44,848 | app.py:242 | Flower VCE: Resources for each Virtual Client: {'num_cpus': 1, 'num_gpus': 0.0}\n",
      "INFO flwr 2024-01-24 09:21:44,874 | app.py:288 | Flower VCE: Creating VirtualClientEngineActorPool with 16 actors\n",
      "INFO flwr 2024-01-24 09:21:44,876 | server.py:89 | Initializing global parameters\n",
      "INFO flwr 2024-01-24 09:21:44,877 | server.py:276 | Requesting initial parameters from one random client\n",
      "INFO flwr 2024-01-24 09:21:53,066 | server.py:280 | Received initial parameters from one random client\n",
      "INFO flwr 2024-01-24 09:21:53,067 | server.py:91 | Evaluating initial parameters\n",
      "INFO flwr 2024-01-24 09:21:53,069 | server.py:104 | FL starting\n",
      "DEBUG flwr 2024-01-24 09:21:53,069 | server.py:222 | fit_round 1: strategy sampled 3 clients (out of 3)\n",
      "DEBUG flwr 2024-01-24 09:21:55,277 | server.py:236 | fit_round 1 received 3 results and 0 failures\n",
      "WARNING flwr 2024-01-24 09:21:55,280 | fedavg.py:242 | No fit_metrics_aggregation_fn provided\n",
      "DEBUG flwr 2024-01-24 09:21:55,281 | server.py:173 | evaluate_round 1: strategy sampled 2 clients (out of 3)\n",
      "DEBUG flwr 2024-01-24 09:21:55,351 | server.py:187 | evaluate_round 1 received 2 results and 0 failures\n",
      "WARNING flwr 2024-01-24 09:21:55,352 | fedavg.py:273 | No evaluate_metrics_aggregation_fn provided\n",
      "DEBUG flwr 2024-01-24 09:21:55,352 | server.py:222 | fit_round 2: strategy sampled 3 clients (out of 3)\n",
      "DEBUG flwr 2024-01-24 09:21:55,575 | server.py:236 | fit_round 2 received 3 results and 0 failures\n",
      "DEBUG flwr 2024-01-24 09:21:55,577 | server.py:173 | evaluate_round 2: strategy sampled 2 clients (out of 3)\n",
      "DEBUG flwr 2024-01-24 09:21:55,650 | server.py:187 | evaluate_round 2 received 2 results and 0 failures\n",
      "DEBUG flwr 2024-01-24 09:21:55,651 | server.py:222 | fit_round 3: strategy sampled 3 clients (out of 3)\n",
      "DEBUG flwr 2024-01-24 09:21:55,855 | server.py:236 | fit_round 3 received 3 results and 0 failures\n",
      "DEBUG flwr 2024-01-24 09:21:55,857 | server.py:173 | evaluate_round 3: strategy sampled 2 clients (out of 3)\n",
      "DEBUG flwr 2024-01-24 09:21:55,921 | server.py:187 | evaluate_round 3 received 2 results and 0 failures\n",
      "DEBUG flwr 2024-01-24 09:21:55,923 | server.py:222 | fit_round 4: strategy sampled 3 clients (out of 3)\n",
      "DEBUG flwr 2024-01-24 09:21:56,130 | server.py:236 | fit_round 4 received 3 results and 0 failures\n",
      "DEBUG flwr 2024-01-24 09:21:56,132 | server.py:173 | evaluate_round 4: strategy sampled 2 clients (out of 3)\n",
      "DEBUG flwr 2024-01-24 09:21:56,201 | server.py:187 | evaluate_round 4 received 2 results and 0 failures\n",
      "DEBUG flwr 2024-01-24 09:21:56,202 | server.py:222 | fit_round 5: strategy sampled 3 clients (out of 3)\n",
      "DEBUG flwr 2024-01-24 09:21:56,409 | server.py:236 | fit_round 5 received 3 results and 0 failures\n",
      "DEBUG flwr 2024-01-24 09:21:56,411 | server.py:173 | evaluate_round 5: strategy sampled 2 clients (out of 3)\n",
      "DEBUG flwr 2024-01-24 09:21:56,473 | server.py:187 | evaluate_round 5 received 2 results and 0 failures\n",
      "INFO flwr 2024-01-24 09:21:56,474 | server.py:153 | FL finished in 3.4042142999824136\n",
      "INFO flwr 2024-01-24 09:21:56,474 | app.py:226 | app_fit: losses_distributed [(1, 0.8378378378378378), (2, 0.8378378378378378), (3, 0.8918918918918919), (4, 0.8378378378378378), (5, 0.8378378378378378)]\n",
      "INFO flwr 2024-01-24 09:21:56,476 | app.py:227 | app_fit: metrics_distributed_fit {}\n",
      "INFO flwr 2024-01-24 09:21:56,477 | app.py:228 | app_fit: metrics_distributed {}\n",
      "INFO flwr 2024-01-24 09:21:56,477 | app.py:229 | app_fit: losses_centralized []\n",
      "INFO flwr 2024-01-24 09:21:56,478 | app.py:230 | app_fit: metrics_centralized {}\n"
     ]
    }
   ],
   "source": [
    "client_models = [RandomForestClient(X_train, y_train, X_test, y_test, local_epochs=1) for X_train, y_train, X_test, y_test in zip(x_train_chunks, y_train_chunks, x_test_chunks, y_test_chunks)]\n",
    "\n",
    "# define strategy\n",
    "strategy = fl.server.strategy.FedAvg(\n",
    "    fraction_fit=1.0,\n",
    "    fraction_evaluate=0.5,\n",
    "    min_fit_clients=1,\n",
    "    min_available_clients=1,\n",
    ")\n",
    "\n",
    "client_counter = 0\n",
    "for client in client_models:\n",
    "    client_counter += 1\n",
    "    X_train, y_train, X_test, y_test = client.X_train, client.y_train, client.X_test, client.y_test\n",
    "    client.model.fit(X_train, y_train)\n",
    "    accuracy = client.model.score(X_test, y_test)\n",
    "    print(f\"Client {client_counter} Accuracy: {accuracy}\")\n",
    "\n",
    "# get result\n",
    "result = fl.simulation.start_simulation(\n",
    "    num_clients=NUM_CLIENTS,\n",
    "    config=fl.server.ServerConfig(num_rounds=num_rounds),\n",
    "    strategy=strategy,\n",
    "    client_fn= lambda i: client_models[int(i)], #client_fn,\n",
    ")"
   ]
  },
  {
   "cell_type": "code",
   "execution_count": 38,
   "metadata": {},
   "outputs": [
    {
     "name": "stderr",
     "output_type": "stream",
     "text": [
      "WARNING flwr 2024-01-24 09:47:17,102 | fedavg.py:117 | \n",
      "Setting `min_available_clients` lower than `min_fit_clients` or\n",
      "`min_evaluate_clients` can cause the server to fail when there are too few clients\n",
      "connected to the server. `min_available_clients` must be set to a value larger\n",
      "than or equal to the values of `min_fit_clients` and `min_evaluate_clients`.\n",
      "\n",
      "WARNING flwr 2024-01-24 09:47:17,105 | fedavg.py:117 | \n",
      "Setting `min_available_clients` lower than `min_fit_clients` or\n",
      "`min_evaluate_clients` can cause the server to fail when there are too few clients\n",
      "connected to the server. `min_available_clients` must be set to a value larger\n",
      "than or equal to the values of `min_fit_clients` and `min_evaluate_clients`.\n",
      "\n",
      "INFO flwr 2024-01-24 09:47:17,425 | app.py:178 | Starting Flower simulation, config: ServerConfig(num_rounds=5, round_timeout=None)\n",
      "2024-01-24 09:47:23,994\tINFO worker.py:1621 -- Started a local Ray instance.\n",
      "INFO flwr 2024-01-24 09:47:27,591 | app.py:213 | Flower VCE: Ray initialized with resources: {'memory': 2648255694.0, 'object_store_memory': 1324127846.0, 'node:127.0.0.1': 1.0, 'CPU': 16.0, 'node:__internal_head__': 1.0}\n",
      "INFO flwr 2024-01-24 09:47:27,601 | app.py:219 | Optimize your simulation with Flower VCE: https://flower.dev/docs/framework/how-to-run-simulations.html\n",
      "INFO flwr 2024-01-24 09:47:27,601 | app.py:227 | No `client_resources` specified. Using minimal resources for clients.\n",
      "INFO flwr 2024-01-24 09:47:27,601 | app.py:242 | Flower VCE: Resources for each Virtual Client: {'num_cpus': 1, 'num_gpus': 0.0}\n",
      "INFO flwr 2024-01-24 09:47:27,627 | app.py:288 | Flower VCE: Creating VirtualClientEngineActorPool with 16 actors\n",
      "INFO flwr 2024-01-24 09:47:27,628 | server.py:89 | Initializing global parameters\n",
      "INFO flwr 2024-01-24 09:47:27,630 | server.py:276 | Requesting initial parameters from one random client\n",
      "INFO flwr 2024-01-24 09:47:34,396 | server.py:280 | Received initial parameters from one random client\n",
      "INFO flwr 2024-01-24 09:47:34,396 | server.py:91 | Evaluating initial parameters\n",
      "INFO flwr 2024-01-24 09:47:34,396 | server.py:104 | FL starting\n",
      "DEBUG flwr 2024-01-24 09:47:34,403 | server.py:222 | fit_round 1: strategy sampled 3 clients (out of 3)\n",
      "DEBUG flwr 2024-01-24 09:47:36,283 | server.py:236 | fit_round 1 received 3 results and 0 failures\n",
      "WARNING flwr 2024-01-24 09:47:36,284 | fedavg.py:242 | No fit_metrics_aggregation_fn provided\n",
      "DEBUG flwr 2024-01-24 09:47:36,284 | server.py:173 | evaluate_round 1: strategy sampled 2 clients (out of 3)\n",
      "DEBUG flwr 2024-01-24 09:47:36,348 | server.py:187 | evaluate_round 1 received 2 results and 0 failures\n",
      "WARNING flwr 2024-01-24 09:47:36,349 | fedavg.py:273 | No evaluate_metrics_aggregation_fn provided\n",
      "DEBUG flwr 2024-01-24 09:47:36,350 | server.py:222 | fit_round 2: strategy sampled 3 clients (out of 3)\n",
      "DEBUG flwr 2024-01-24 09:47:36,530 | server.py:236 | fit_round 2 received 3 results and 0 failures\n",
      "DEBUG flwr 2024-01-24 09:47:36,530 | server.py:173 | evaluate_round 2: strategy sampled 2 clients (out of 3)\n",
      "DEBUG flwr 2024-01-24 09:47:36,593 | server.py:187 | evaluate_round 2 received 2 results and 0 failures\n",
      "DEBUG flwr 2024-01-24 09:47:36,593 | server.py:222 | fit_round 3: strategy sampled 3 clients (out of 3)\n",
      "DEBUG flwr 2024-01-24 09:47:36,785 | server.py:236 | fit_round 3 received 3 results and 0 failures\n",
      "DEBUG flwr 2024-01-24 09:47:36,791 | server.py:173 | evaluate_round 3: strategy sampled 2 clients (out of 3)\n",
      "DEBUG flwr 2024-01-24 09:47:36,856 | server.py:187 | evaluate_round 3 received 2 results and 0 failures\n",
      "DEBUG flwr 2024-01-24 09:47:36,860 | server.py:222 | fit_round 4: strategy sampled 3 clients (out of 3)\n",
      "DEBUG flwr 2024-01-24 09:47:37,061 | server.py:236 | fit_round 4 received 3 results and 0 failures\n",
      "DEBUG flwr 2024-01-24 09:47:37,063 | server.py:173 | evaluate_round 4: strategy sampled 2 clients (out of 3)\n",
      "DEBUG flwr 2024-01-24 09:47:37,123 | server.py:187 | evaluate_round 4 received 2 results and 0 failures\n",
      "DEBUG flwr 2024-01-24 09:47:37,123 | server.py:222 | fit_round 5: strategy sampled 3 clients (out of 3)\n",
      "DEBUG flwr 2024-01-24 09:47:37,308 | server.py:236 | fit_round 5 received 3 results and 0 failures\n",
      "DEBUG flwr 2024-01-24 09:47:37,309 | server.py:173 | evaluate_round 5: strategy sampled 2 clients (out of 3)\n",
      "DEBUG flwr 2024-01-24 09:47:37,370 | server.py:187 | evaluate_round 5 received 2 results and 0 failures\n",
      "INFO flwr 2024-01-24 09:47:37,371 | server.py:153 | FL finished in 2.968265400006203\n",
      "INFO flwr 2024-01-24 09:47:37,372 | app.py:226 | app_fit: losses_distributed [(1, 0.8378378378378378), (2, 0.8421052631578947), (3, 0.8378378378378378), (4, 0.8378378378378378), (5, 0.8421052631578947)]\n",
      "INFO flwr 2024-01-24 09:47:37,372 | app.py:227 | app_fit: metrics_distributed_fit {}\n",
      "INFO flwr 2024-01-24 09:47:37,372 | app.py:228 | app_fit: metrics_distributed {}\n",
      "INFO flwr 2024-01-24 09:47:37,372 | app.py:229 | app_fit: losses_centralized []\n",
      "INFO flwr 2024-01-24 09:47:37,372 | app.py:230 | app_fit: metrics_centralized {}\n",
      "WARNING flwr 2024-01-24 09:47:37,377 | fedavg.py:117 | \n",
      "Setting `min_available_clients` lower than `min_fit_clients` or\n",
      "`min_evaluate_clients` can cause the server to fail when there are too few clients\n",
      "connected to the server. `min_available_clients` must be set to a value larger\n",
      "than or equal to the values of `min_fit_clients` and `min_evaluate_clients`.\n",
      "\n",
      "INFO flwr 2024-01-24 09:47:37,710 | app.py:178 | Starting Flower simulation, config: ServerConfig(num_rounds=5, round_timeout=None)\n",
      "2024-01-24 09:47:45,363\tINFO worker.py:1621 -- Started a local Ray instance.\n",
      "INFO flwr 2024-01-24 09:47:48,980 | app.py:213 | Flower VCE: Ray initialized with resources: {'memory': 2627508635.0, 'object_store_memory': 1313754316.0, 'node:127.0.0.1': 1.0, 'CPU': 16.0, 'node:__internal_head__': 1.0}\n",
      "INFO flwr 2024-01-24 09:47:48,980 | app.py:219 | Optimize your simulation with Flower VCE: https://flower.dev/docs/framework/how-to-run-simulations.html\n",
      "INFO flwr 2024-01-24 09:47:48,980 | app.py:227 | No `client_resources` specified. Using minimal resources for clients.\n",
      "INFO flwr 2024-01-24 09:47:48,984 | app.py:242 | Flower VCE: Resources for each Virtual Client: {'num_cpus': 1, 'num_gpus': 0.0}\n",
      "INFO flwr 2024-01-24 09:47:49,008 | app.py:288 | Flower VCE: Creating VirtualClientEngineActorPool with 16 actors\n",
      "INFO flwr 2024-01-24 09:47:49,011 | server.py:89 | Initializing global parameters\n",
      "INFO flwr 2024-01-24 09:47:49,012 | server.py:276 | Requesting initial parameters from one random client\n",
      "INFO flwr 2024-01-24 09:47:55,613 | server.py:280 | Received initial parameters from one random client\n",
      "INFO flwr 2024-01-24 09:47:55,615 | server.py:91 | Evaluating initial parameters\n",
      "INFO flwr 2024-01-24 09:47:55,615 | server.py:104 | FL starting\n",
      "DEBUG flwr 2024-01-24 09:47:55,615 | server.py:222 | fit_round 1: strategy sampled 3 clients (out of 3)\n",
      "DEBUG flwr 2024-01-24 09:47:57,443 | server.py:236 | fit_round 1 received 3 results and 0 failures\n",
      "WARNING flwr 2024-01-24 09:47:57,443 | fedavg.py:242 | No fit_metrics_aggregation_fn provided\n",
      "DEBUG flwr 2024-01-24 09:47:57,443 | server.py:173 | evaluate_round 1: strategy sampled 2 clients (out of 3)\n",
      "DEBUG flwr 2024-01-24 09:47:57,507 | server.py:187 | evaluate_round 1 received 2 results and 0 failures\n",
      "WARNING flwr 2024-01-24 09:47:57,507 | fedavg.py:273 | No evaluate_metrics_aggregation_fn provided\n",
      "DEBUG flwr 2024-01-24 09:47:57,508 | server.py:222 | fit_round 2: strategy sampled 3 clients (out of 3)\n",
      "DEBUG flwr 2024-01-24 09:47:57,692 | server.py:236 | fit_round 2 received 3 results and 0 failures\n",
      "DEBUG flwr 2024-01-24 09:47:57,694 | server.py:173 | evaluate_round 2: strategy sampled 2 clients (out of 3)\n",
      "DEBUG flwr 2024-01-24 09:47:57,756 | server.py:187 | evaluate_round 2 received 2 results and 0 failures\n",
      "DEBUG flwr 2024-01-24 09:47:57,757 | server.py:222 | fit_round 3: strategy sampled 3 clients (out of 3)\n",
      "DEBUG flwr 2024-01-24 09:47:57,946 | server.py:236 | fit_round 3 received 3 results and 0 failures\n",
      "DEBUG flwr 2024-01-24 09:47:57,949 | server.py:173 | evaluate_round 3: strategy sampled 2 clients (out of 3)\n",
      "DEBUG flwr 2024-01-24 09:47:58,010 | server.py:187 | evaluate_round 3 received 2 results and 0 failures\n",
      "DEBUG flwr 2024-01-24 09:47:58,013 | server.py:222 | fit_round 4: strategy sampled 3 clients (out of 3)\n",
      "DEBUG flwr 2024-01-24 09:47:58,196 | server.py:236 | fit_round 4 received 3 results and 0 failures\n",
      "DEBUG flwr 2024-01-24 09:47:58,198 | server.py:173 | evaluate_round 4: strategy sampled 2 clients (out of 3)\n",
      "DEBUG flwr 2024-01-24 09:47:58,258 | server.py:187 | evaluate_round 4 received 2 results and 0 failures\n",
      "DEBUG flwr 2024-01-24 09:47:58,258 | server.py:222 | fit_round 5: strategy sampled 3 clients (out of 3)\n",
      "DEBUG flwr 2024-01-24 09:47:58,458 | server.py:236 | fit_round 5 received 3 results and 0 failures\n",
      "DEBUG flwr 2024-01-24 09:47:58,461 | server.py:173 | evaluate_round 5: strategy sampled 2 clients (out of 3)\n",
      "DEBUG flwr 2024-01-24 09:47:58,526 | server.py:187 | evaluate_round 5 received 2 results and 0 failures\n",
      "INFO flwr 2024-01-24 09:47:58,527 | server.py:153 | FL finished in 2.9104299999889918\n",
      "INFO flwr 2024-01-24 09:47:58,528 | app.py:226 | app_fit: losses_distributed [(1, 0.8421052631578947), (2, 0.8378378378378378), (3, 0.8918918918918919), (4, 0.8378378378378378), (5, 0.8918918918918919)]\n",
      "INFO flwr 2024-01-24 09:47:58,529 | app.py:227 | app_fit: metrics_distributed_fit {}\n",
      "INFO flwr 2024-01-24 09:47:58,529 | app.py:228 | app_fit: metrics_distributed {}\n",
      "INFO flwr 2024-01-24 09:47:58,531 | app.py:229 | app_fit: losses_centralized []\n",
      "INFO flwr 2024-01-24 09:47:58,531 | app.py:230 | app_fit: metrics_centralized {}\n",
      "WARNING flwr 2024-01-24 09:47:58,537 | fedavg.py:117 | \n",
      "Setting `min_available_clients` lower than `min_fit_clients` or\n",
      "`min_evaluate_clients` can cause the server to fail when there are too few clients\n",
      "connected to the server. `min_available_clients` must be set to a value larger\n",
      "than or equal to the values of `min_fit_clients` and `min_evaluate_clients`.\n",
      "\n",
      "INFO flwr 2024-01-24 09:47:58,866 | app.py:178 | Starting Flower simulation, config: ServerConfig(num_rounds=5, round_timeout=None)\n",
      "2024-01-24 09:48:06,098\tINFO worker.py:1621 -- Started a local Ray instance.\n",
      "INFO flwr 2024-01-24 09:48:09,600 | app.py:213 | Flower VCE: Ray initialized with resources: {'memory': 2611185255.0, 'object_store_memory': 1305592627.0, 'node:127.0.0.1': 1.0, 'CPU': 16.0, 'node:__internal_head__': 1.0}\n",
      "INFO flwr 2024-01-24 09:48:09,600 | app.py:219 | Optimize your simulation with Flower VCE: https://flower.dev/docs/framework/how-to-run-simulations.html\n",
      "INFO flwr 2024-01-24 09:48:09,600 | app.py:227 | No `client_resources` specified. Using minimal resources for clients.\n",
      "INFO flwr 2024-01-24 09:48:09,603 | app.py:242 | Flower VCE: Resources for each Virtual Client: {'num_cpus': 1, 'num_gpus': 0.0}\n",
      "INFO flwr 2024-01-24 09:48:09,624 | app.py:288 | Flower VCE: Creating VirtualClientEngineActorPool with 16 actors\n",
      "INFO flwr 2024-01-24 09:48:09,624 | server.py:89 | Initializing global parameters\n",
      "INFO flwr 2024-01-24 09:48:09,624 | server.py:276 | Requesting initial parameters from one random client\n",
      "INFO flwr 2024-01-24 09:48:16,045 | server.py:280 | Received initial parameters from one random client\n",
      "INFO flwr 2024-01-24 09:48:16,045 | server.py:91 | Evaluating initial parameters\n",
      "INFO flwr 2024-01-24 09:48:16,045 | server.py:104 | FL starting\n",
      "DEBUG flwr 2024-01-24 09:48:16,045 | server.py:222 | fit_round 1: strategy sampled 3 clients (out of 3)\n",
      "DEBUG flwr 2024-01-24 09:48:17,907 | server.py:236 | fit_round 1 received 3 results and 0 failures\n",
      "WARNING flwr 2024-01-24 09:48:17,913 | fedavg.py:242 | No fit_metrics_aggregation_fn provided\n",
      "DEBUG flwr 2024-01-24 09:48:17,913 | server.py:173 | evaluate_round 1: strategy sampled 2 clients (out of 3)\n",
      "DEBUG flwr 2024-01-24 09:48:17,973 | server.py:187 | evaluate_round 1 received 2 results and 0 failures\n",
      "WARNING flwr 2024-01-24 09:48:17,973 | fedavg.py:273 | No evaluate_metrics_aggregation_fn provided\n",
      "DEBUG flwr 2024-01-24 09:48:17,973 | server.py:222 | fit_round 2: strategy sampled 3 clients (out of 3)\n",
      "DEBUG flwr 2024-01-24 09:48:18,156 | server.py:236 | fit_round 2 received 3 results and 0 failures\n",
      "DEBUG flwr 2024-01-24 09:48:18,158 | server.py:173 | evaluate_round 2: strategy sampled 2 clients (out of 3)\n",
      "DEBUG flwr 2024-01-24 09:48:18,216 | server.py:187 | evaluate_round 2 received 2 results and 0 failures\n",
      "DEBUG flwr 2024-01-24 09:48:18,216 | server.py:222 | fit_round 3: strategy sampled 3 clients (out of 3)\n",
      "DEBUG flwr 2024-01-24 09:48:18,398 | server.py:236 | fit_round 3 received 3 results and 0 failures\n",
      "DEBUG flwr 2024-01-24 09:48:18,404 | server.py:173 | evaluate_round 3: strategy sampled 2 clients (out of 3)\n",
      "DEBUG flwr 2024-01-24 09:48:18,461 | server.py:187 | evaluate_round 3 received 2 results and 0 failures\n",
      "DEBUG flwr 2024-01-24 09:48:18,461 | server.py:222 | fit_round 4: strategy sampled 3 clients (out of 3)\n",
      "DEBUG flwr 2024-01-24 09:48:18,653 | server.py:236 | fit_round 4 received 3 results and 0 failures\n",
      "DEBUG flwr 2024-01-24 09:48:18,655 | server.py:173 | evaluate_round 4: strategy sampled 2 clients (out of 3)\n",
      "DEBUG flwr 2024-01-24 09:48:18,718 | server.py:187 | evaluate_round 4 received 2 results and 0 failures\n",
      "DEBUG flwr 2024-01-24 09:48:18,721 | server.py:222 | fit_round 5: strategy sampled 3 clients (out of 3)\n",
      "DEBUG flwr 2024-01-24 09:48:18,904 | server.py:236 | fit_round 5 received 3 results and 0 failures\n",
      "DEBUG flwr 2024-01-24 09:48:18,906 | server.py:173 | evaluate_round 5: strategy sampled 2 clients (out of 3)\n",
      "DEBUG flwr 2024-01-24 09:48:18,963 | server.py:187 | evaluate_round 5 received 2 results and 0 failures\n",
      "INFO flwr 2024-01-24 09:48:18,963 | server.py:153 | FL finished in 2.9175769000139553\n",
      "INFO flwr 2024-01-24 09:48:18,963 | app.py:226 | app_fit: losses_distributed [(1, 0.8378378378378378), (2, 0.8918918918918919), (3, 0.8918918918918919), (4, 0.8918918918918919), (5, 0.8421052631578947)]\n",
      "INFO flwr 2024-01-24 09:48:18,963 | app.py:227 | app_fit: metrics_distributed_fit {}\n",
      "INFO flwr 2024-01-24 09:48:18,963 | app.py:228 | app_fit: metrics_distributed {}\n",
      "INFO flwr 2024-01-24 09:48:18,971 | app.py:229 | app_fit: losses_centralized []\n",
      "INFO flwr 2024-01-24 09:48:18,973 | app.py:230 | app_fit: metrics_centralized {}\n"
     ]
    }
   ],
   "source": [
    "results = []\n",
    "\n",
    "strategy = fl.server.strategy.FedAvg(\n",
    "    fraction_fit=1.0,\n",
    "    fraction_evaluate=0.5,\n",
    "    min_fit_clients=1,\n",
    "    min_available_clients=1,\n",
    ")\n",
    "\n",
    "for local_epochs in [1,3,5]:\n",
    "\n",
    "    client_models = [RandomForestClient(X_train, y_train, X_test, y_test, local_epochs=local_epochs) for X_train, y_train, X_test, y_test in zip(x_train_chunks, y_train_chunks, x_test_chunks, y_test_chunks)]\n",
    "\n",
    "    strategy = fl.server.strategy.FedAvg(\n",
    "        fraction_fit=1.0,\n",
    "        fraction_evaluate=0.5,\n",
    "        min_fit_clients=1,\n",
    "        min_available_clients=1,\n",
    "    )\n",
    "\n",
    "    client_counter = 0\n",
    "    for client in client_models:\n",
    "        client_counter += 1\n",
    "        X_train, y_train, X_test, y_test = client.X_train, client.y_train, client.X_test, client.y_test\n",
    "        \n",
    "        # Trainiere das Modell\n",
    "        client.model.fit(X_train, y_train)\n",
    "\n",
    "    # flower simulation setup\n",
    "    result = fl.simulation.start_simulation(\n",
    "        num_clients=NUM_CLIENTS,\n",
    "        config=fl.server.ServerConfig(num_rounds=num_rounds),\n",
    "        strategy=strategy,\n",
    "        client_fn= lambda i: client_models[int(i)], #client_fn,\n",
    "    )\n",
    "    # Ergebnisse speichern\n",
    "    results.append((local_epochs, result))"
   ]
  },
  {
   "cell_type": "code",
   "execution_count": null,
   "metadata": {},
   "outputs": [
    {
     "name": "stdout",
     "output_type": "stream",
     "text": [
      "Ergebnisse für 1 lokale Epochen: History (loss, distributed):\n",
      "\tround 1: 0.8918918918918919\n",
      "\tround 2: 0.8918918918918919\n",
      "\tround 3: 0.8918918918918919\n",
      "\tround 4: 0.8918918918918919\n",
      "\tround 5: 0.8421052631578947\n",
      "\n",
      "Ergebnisse für 3 lokale Epochen: History (loss, distributed):\n",
      "\tround 1: 0.8421052631578947\n",
      "\tround 2: 0.8918918918918919\n",
      "\tround 3: 0.8918918918918919\n",
      "\tround 4: 0.8918918918918919\n",
      "\tround 5: 0.8378378378378378\n",
      "\n",
      "Ergebnisse für 5 lokale Epochen: History (loss, distributed):\n",
      "\tround 1: 0.8918918918918919\n",
      "\tround 2: 0.8378378378378378\n",
      "\tround 3: 0.8421052631578947\n",
      "\tround 4: 0.8378378378378378\n",
      "\tround 5: 0.8421052631578947\n",
      "\n"
     ]
    }
   ],
   "source": [
    "# Ergebnisse ausgeben\n",
    "for local_epochs, result in results:\n",
    "    #print(result)\n",
    "    print(f\"Ergebnisse für {local_epochs} lokale Epochen: {result}\")"
   ]
  },
  {
   "cell_type": "code",
   "execution_count": null,
   "metadata": {},
   "outputs": [
    {
     "data": {
      "text/plain": [
       "[0.8918918918918919,\n",
       " 0.8918918918918919,\n",
       " 0.8918918918918919,\n",
       " 0.8918918918918919,\n",
       " 0.8421052631578947,\n",
       " 0.8421052631578947,\n",
       " 0.8918918918918919,\n",
       " 0.8918918918918919,\n",
       " 0.8918918918918919,\n",
       " 0.8378378378378378,\n",
       " 0.8918918918918919,\n",
       " 0.8378378378378378,\n",
       " 0.8421052631578947,\n",
       " 0.8378378378378378,\n",
       " 0.8421052631578947]"
      ]
     },
     "execution_count": 64,
     "metadata": {},
     "output_type": "execute_result"
    }
   ],
   "source": [
    "import re\n",
    "\n",
    "result_conv = str(results).replace(\"\\n\\tround\",\"\").replace(\"History (loss, distributed): \", \"\").replace(\"\\n\", \"\")\n",
    "result_conv = ', '.join(re.findall(r'\\b\\d+\\.\\d+\\b', result_conv))\n",
    "result_conv = list(map(float, result_conv.split(',')))\n",
    "result_conv\n"
   ]
  },
  {
   "cell_type": "code",
   "execution_count": null,
   "metadata": {},
   "outputs": [
    {
     "name": "stdout",
     "output_type": "stream",
     "text": [
      "Ergebnisse für 1 lokale Epochen: [0.8918918918918919, 0.8918918918918919, 0.8918918918918919, 0.8918918918918919, 0.8421052631578947]\n",
      "Ergebnisse für 3 lokale Epochen: [0.8421052631578947, 0.8918918918918919, 0.8918918918918919, 0.8918918918918919, 0.8378378378378378]\n",
      "Ergebnisse für 5 lokale Epochen: [0.8918918918918919, 0.8378378378378378, 0.8421052631578947, 0.8378378378378378, 0.8421052631578947]\n"
     ]
    }
   ],
   "source": [
    "local_epochs_values = [1, 3, 5]\n",
    "values_per_epoch = 5\n",
    "epochs_per_run = 5\n",
    "\n",
    "# Split the result_conv list into three parts based on the number of local epochs\n",
    "split_results = [result_conv[i:i + values_per_epoch] for i in range(0, len(result_conv), epochs_per_run)]\n",
    "\n",
    "# Combine the local epochs with the corresponding loss values\n",
    "final_results = list(zip(local_epochs_values, split_results))\n",
    "\n",
    "# print results\n",
    "for local_epochs, loss_values in final_results:\n",
    "    print(f\"Ergebnisse für {local_epochs} lokale Epochen: {loss_values}\")\n"
   ]
  },
  {
   "cell_type": "code",
   "execution_count": null,
   "metadata": {},
   "outputs": [
    {
     "data": {
      "image/png": "[encoded data removed]",
      "text/plain": [
       "<Figure size 640x480 with 1 Axes>"
      ]
     },
     "metadata": {},
     "output_type": "display_data"
    }
   ],
   "source": [
    "import matplotlib.pyplot as plt\n",
    "import numpy as np\n",
    "\n",
    "# data\n",
    "epochs = [1, 3, 5]\n",
    "rounds = list(range(1, 6))\n",
    "\n",
    "# bar width\n",
    "barWidth = 0.25\n",
    "\n",
    "# Set the position of the bars on the x-axis\n",
    "r1 = np.arange(len(rounds))\n",
    "r2 = [x + barWidth for x in r1]\n",
    "r3 = [x + barWidth for x in r2]\n",
    "\n",
    "# Create the bars\n",
    "plt.bar(r1, loss_values[0], color='blue', width=barWidth, edgecolor='grey', label=f'Local Epochs: {epochs[0]}')\n",
    "plt.bar(r2, loss_values[1], color='red', width=barWidth, edgecolor='grey', label=f'Local Epochs: {epochs[1]}')\n",
    "plt.bar(r3, loss_values[2], color='green', width=barWidth, edgecolor='grey', label=f'Local Epochs: {epochs[2]}')\n",
    "\n",
    "# Add labelling\n",
    "plt.xlabel('Rounds', fontweight='bold')\n",
    "plt.ylabel('Loss')\n",
    "plt.xticks([r + barWidth for r in range(len(rounds))], rounds)\n",
    "\n",
    "# Create legend & show diagram\n",
    "plt.legend()\n",
    "plt.title('Loss per Local Epochs and Rounds')\n",
    "plt.show()\n"
   ]
  },
  {
   "cell_type": "markdown",
   "metadata": {},
   "source": [
    "## Working with biased datasets"
   ]
  },
  {
   "cell_type": "code",
   "execution_count": 29,
   "metadata": {},
   "outputs": [],
   "source": [
    "# Evaluate the influence of different data distribution in the nodes\n",
    "\n",
    "# filter the data for the different smoking status\n",
    "smokers = data[data['SMOKING'] == 1]\n",
    "non_smokers = data[data['SMOKING'] == 2]\n",
    "\n",
    "# pick a large fraction of smokers and non-smokers for different clients\n",
    "smoker_subset = smokers.sample(frac=0.9)\n",
    "nonsmoker_subset = non_smokers.sample(frac=0.9)\n",
    "\n",
    "# combine the remaining smokers and non-smokers into one dataset\n",
    "remaining_smokers = smokers.drop(smoker_subset.index)\n",
    "remaining_nonsmokers = non_smokers.drop(nonsmoker_subset.index)\n",
    "\n",
    "# create final datasets for the clients\n",
    "client1_data = pd.concat([smoker_subset, remaining_nonsmokers])\n",
    "client2_data = pd.concat([nonsmoker_subset, remaining_smokers])"
   ]
  },
  {
   "cell_type": "code",
   "execution_count": 30,
   "metadata": {},
   "outputs": [
    {
     "name": "stdout",
     "output_type": "stream",
     "text": [
      "SMOKING\n",
      "1    113\n",
      "2     15\n",
      "Name: count, dtype: int64\n",
      "SMOKING\n",
      "2    135\n",
      "1     13\n",
      "Name: count, dtype: int64\n"
     ]
    }
   ],
   "source": [
    "# check if client1_data has the right amount of smokers and non-smokers\n",
    "print(client1_data['SMOKING'].value_counts())\n",
    "print(client2_data['SMOKING'].value_counts())"
   ]
  },
  {
   "cell_type": "markdown",
   "metadata": {},
   "source": [
    "value_counts shows that the two client datasets are strongly biased"
   ]
  },
  {
   "cell_type": "code",
   "execution_count": 31,
   "metadata": {},
   "outputs": [
    {
     "name": "stdout",
     "output_type": "stream",
     "text": [
      "Shape of client1 training data : (102, 16), (102,)\n",
      "Shape of client1 testing data : (26, 16), (26,)\n",
      "Shape of client2 training data : (118, 16), (118,)\n",
      "Shape of client2 testing data : (30, 16), (30,)\n"
     ]
    }
   ],
   "source": [
    "# This code preprocesses data for two clients \n",
    "\n",
    "# For client 1:\n",
    "x1 = client1_data.drop(\"LUNG_CANCER\", axis = 1) # Extracting features, excluding the target variable \"LUNG_CANCER\"\n",
    "y1 = client1_data[\"LUNG_CANCER\"] # Extracting the target variable \"LUNG_CANCER\"\n",
    "\n",
    "# For client 2:\n",
    "x2 = client2_data.drop(\"LUNG_CANCER\", axis = 1) # Extracting features, excluding the target variable \"LUNG_CANCER\"\n",
    "y2 = client2_data[\"LUNG_CANCER\"] # Extracting the target variable \"LUNG_CANCER\"\n",
    "\n",
    "# Standardizing features using StandardScaler:\n",
    "scaler = StandardScaler()\n",
    "x1 = scaler.fit_transform(x1) # Scaling features for client 1\n",
    "# Splitting the data into training and testing sets for client 1:\n",
    "x1_train, x1_test, y1_train, y1_test = train_test_split(x1,y1, test_size=0.2, random_state=random_state)\n",
    "\n",
    "x2 = scaler.fit_transform(x2) # Scaling features for client 2\n",
    "# Splitting the data into training and testing sets for client 2:\n",
    "x2_train, x2_test, y2_train, y2_test = train_test_split(x2,y2, test_size=0.2, random_state=random_state)\n",
    "\n",
    "# Print statements\n",
    "\n",
    "print(f\"Shape of client1 training data : {x1_train.shape}, {y1_train.shape}\")\n",
    "print(f\"Shape of client1 testing data : {x1_test.shape}, {y1_test.shape}\")\n",
    "\n",
    "print(f\"Shape of client2 training data : {x2_train.shape}, {y2_train.shape}\")\n",
    "print(f\"Shape of client2 testing data : {x2_test.shape}, {y2_test.shape}\")\n"
   ]
  },
  {
   "cell_type": "code",
   "execution_count": 32,
   "metadata": {},
   "outputs": [],
   "source": [
    "local_epochs = 5\n",
    "# Rest des Codes bleibt unverändert\n",
    "\n",
    "# Define and initialize RandomForest models for two clients with training and testing data\n",
    "client1_model = RandomForestClient(x1_train, y1_train, x1_test, y1_test, local_epochs=local_epochs)\n",
    "client2_model = RandomForestClient(x2_train, y2_train, x2_test, y2_test, local_epochs=local_epochs)\n",
    "\n",
    "# client_models combines the two clients\n",
    "biased_client_models = [client1_model, client2_model]\n",
    "\n",
    "# Adaptation of the client_fn for the simulation\n",
    "def client_fn(cid: str) -> RandomForestClient:\n",
    "    if cid == \"0\":\n",
    "        return client1_model\n",
    "    elif cid == \"1\":\n",
    "        return client2_model\n",
    "    else:\n",
    "        raise ValueError(\"Ungültige Client-ID\")"
   ]
  },
  {
   "cell_type": "code",
   "execution_count": 33,
   "metadata": {},
   "outputs": [
    {
     "name": "stdout",
     "output_type": "stream",
     "text": [
      "Client 1 Accuracy: 0.9230769230769231\n",
      "Client 2 Accuracy: 1.0\n"
     ]
    },
    {
     "data": {
      "image/png": "[encoded data removed]",
      "text/plain": [
       "<Figure size 640x480 with 1 Axes>"
      ]
     },
     "metadata": {},
     "output_type": "display_data"
    }
   ],
   "source": [
    "client_counter = 0\n",
    "client_list = []\n",
    "accuracy_list= []\n",
    "# train clients\n",
    "for client in biased_client_models:\n",
    "    client_counter += 1\n",
    "    X_train, y_train, X_test, y_test = client.X_train, client.y_train, client.X_test, client.y_test\n",
    "    client.model.fit(X_train, y_train)\n",
    "    accuracy = client.model.score(X_test, y_test)\n",
    "\n",
    "    # print statements\n",
    "    print(f\"Client {client_counter} Accuracy: {accuracy}\")\n",
    "    client_list.append(client_counter)\n",
    "    accuracy_list.append(accuracy)\n",
    "\n",
    "# VIZ:\n",
    "plt.bar(client_list, accuracy_list)\n",
    "\n",
    "# Add axis title and plt title\n",
    "plt.xlabel('Client')\n",
    "plt.ylabel('Accuracy')\n",
    "plt.title('Accuracy of each Client')\n",
    "\n",
    "# show plt\n",
    "for i, acc in enumerate(accuracy_list):\n",
    "    plt.text(client_list[i], acc, f'{acc:.2f}', ha='center', va='bottom')\n",
    "\n",
    "plt.show()\n"
   ]
  },
  {
   "cell_type": "code",
   "execution_count": 34,
   "metadata": {},
   "outputs": [
    {
     "name": "stdout",
     "output_type": "stream",
     "text": [
      "{'bootstrap': True, 'ccp_alpha': 0.0, 'class_weight': None, 'criterion': 'gini', 'max_depth': 10, 'max_features': 'sqrt', 'max_leaf_nodes': None, 'max_samples': None, 'min_impurity_decrease': 0.0, 'min_samples_leaf': 1, 'min_samples_split': 2, 'min_weight_fraction_leaf': 0.0, 'n_estimators': 100, 'n_jobs': None, 'oob_score': False, 'random_state': 42, 'verbose': 0, 'warm_start': False}\n"
     ]
    },
    {
     "data": {
      "text/plain": [
       "[100, 10, 2, 1]"
      ]
     },
     "execution_count": 34,
     "metadata": {},
     "output_type": "execute_result"
    }
   ],
   "source": [
    "forest = biased_client_models[0]\n",
    "print(forest.model.get_params())\n",
    "forest.get_parameters({})"
   ]
  },
  {
   "cell_type": "code",
   "execution_count": 35,
   "metadata": {},
   "outputs": [
    {
     "name": "stderr",
     "output_type": "stream",
     "text": [
      "INFO flwr 2024-01-24 09:26:51,079 | app.py:178 | Starting Flower simulation, config: ServerConfig(num_rounds=5, round_timeout=None)\n",
      "2024-01-24 09:26:55,750\tINFO worker.py:1621 -- Started a local Ray instance.\n",
      "INFO flwr 2024-01-24 09:26:59,336 | app.py:213 | Flower VCE: Ray initialized with resources: {'memory': 2275074048.0, 'object_store_memory': 1137537024.0, 'node:127.0.0.1': 1.0, 'CPU': 16.0, 'node:__internal_head__': 1.0}\n",
      "INFO flwr 2024-01-24 09:26:59,337 | app.py:219 | Optimize your simulation with Flower VCE: https://flower.dev/docs/framework/how-to-run-simulations.html\n",
      "INFO flwr 2024-01-24 09:26:59,338 | app.py:227 | No `client_resources` specified. Using minimal resources for clients.\n",
      "INFO flwr 2024-01-24 09:26:59,339 | app.py:242 | Flower VCE: Resources for each Virtual Client: {'num_cpus': 1, 'num_gpus': 0.0}\n",
      "INFO flwr 2024-01-24 09:26:59,360 | app.py:288 | Flower VCE: Creating VirtualClientEngineActorPool with 16 actors\n",
      "INFO flwr 2024-01-24 09:26:59,366 | server.py:89 | Initializing global parameters\n",
      "INFO flwr 2024-01-24 09:26:59,368 | server.py:276 | Requesting initial parameters from one random client\n",
      "INFO flwr 2024-01-24 09:27:05,993 | server.py:280 | Received initial parameters from one random client\n",
      "INFO flwr 2024-01-24 09:27:05,995 | server.py:91 | Evaluating initial parameters\n",
      "INFO flwr 2024-01-24 09:27:05,995 | server.py:104 | FL starting\n",
      "DEBUG flwr 2024-01-24 09:27:05,995 | server.py:222 | fit_round 1: strategy sampled 2 clients (out of 2)\n",
      "DEBUG flwr 2024-01-24 09:27:07,766 | server.py:236 | fit_round 1 received 2 results and 0 failures\n",
      "WARNING flwr 2024-01-24 09:27:07,766 | fedavg.py:242 | No fit_metrics_aggregation_fn provided\n",
      "DEBUG flwr 2024-01-24 09:27:07,766 | server.py:173 | evaluate_round 1: strategy sampled 2 clients (out of 2)\n",
      "DEBUG flwr 2024-01-24 09:27:07,827 | server.py:187 | evaluate_round 1 received 2 results and 0 failures\n",
      "WARNING flwr 2024-01-24 09:27:07,830 | fedavg.py:273 | No evaluate_metrics_aggregation_fn provided\n",
      "DEBUG flwr 2024-01-24 09:27:07,830 | server.py:222 | fit_round 2: strategy sampled 2 clients (out of 2)\n",
      "DEBUG flwr 2024-01-24 09:27:07,994 | server.py:236 | fit_round 2 received 2 results and 0 failures\n",
      "DEBUG flwr 2024-01-24 09:27:07,996 | server.py:173 | evaluate_round 2: strategy sampled 2 clients (out of 2)\n",
      "DEBUG flwr 2024-01-24 09:27:08,045 | server.py:187 | evaluate_round 2 received 2 results and 0 failures\n",
      "DEBUG flwr 2024-01-24 09:27:08,045 | server.py:222 | fit_round 3: strategy sampled 2 clients (out of 2)\n",
      "DEBUG flwr 2024-01-24 09:27:08,197 | server.py:236 | fit_round 3 received 2 results and 0 failures\n",
      "DEBUG flwr 2024-01-24 09:27:08,197 | server.py:173 | evaluate_round 3: strategy sampled 2 clients (out of 2)\n",
      "DEBUG flwr 2024-01-24 09:27:08,251 | server.py:187 | evaluate_round 3 received 2 results and 0 failures\n",
      "DEBUG flwr 2024-01-24 09:27:08,251 | server.py:222 | fit_round 4: strategy sampled 2 clients (out of 2)\n",
      "DEBUG flwr 2024-01-24 09:27:08,408 | server.py:236 | fit_round 4 received 2 results and 0 failures\n",
      "DEBUG flwr 2024-01-24 09:27:08,408 | server.py:173 | evaluate_round 4: strategy sampled 2 clients (out of 2)\n",
      "DEBUG flwr 2024-01-24 09:27:08,459 | server.py:187 | evaluate_round 4 received 2 results and 0 failures\n",
      "DEBUG flwr 2024-01-24 09:27:08,459 | server.py:222 | fit_round 5: strategy sampled 2 clients (out of 2)\n",
      "DEBUG flwr 2024-01-24 09:27:08,609 | server.py:236 | fit_round 5 received 2 results and 0 failures\n",
      "DEBUG flwr 2024-01-24 09:27:08,609 | server.py:173 | evaluate_round 5: strategy sampled 2 clients (out of 2)\n",
      "DEBUG flwr 2024-01-24 09:27:08,662 | server.py:187 | evaluate_round 5 received 2 results and 0 failures\n",
      "INFO flwr 2024-01-24 09:27:08,662 | server.py:153 | FL finished in 2.669908600015333\n",
      "INFO flwr 2024-01-24 09:27:08,667 | app.py:226 | app_fit: losses_distributed [(1, 0.9642857142857143), (2, 0.9642857142857143), (3, 0.9642857142857143), (4, 0.9642857142857143), (5, 0.9642857142857143)]\n",
      "INFO flwr 2024-01-24 09:27:08,669 | app.py:227 | app_fit: metrics_distributed_fit {}\n",
      "INFO flwr 2024-01-24 09:27:08,669 | app.py:228 | app_fit: metrics_distributed {}\n",
      "INFO flwr 2024-01-24 09:27:08,671 | app.py:229 | app_fit: losses_centralized []\n",
      "INFO flwr 2024-01-24 09:27:08,673 | app.py:230 | app_fit: metrics_centralized {}\n"
     ]
    }
   ],
   "source": [
    "# flower simulation setup\n",
    "biased_result = fl.simulation.start_simulation(\n",
    "    num_clients=2,\n",
    "    config=fl.server.ServerConfig(num_rounds=5),\n",
    "    strategy=strategy,\n",
    "    client_fn= lambda i: biased_client_models[int(i)], #client_fn\n",
    ")"
   ]
  },
  {
   "cell_type": "code",
   "execution_count": 36,
   "metadata": {},
   "outputs": [
    {
     "name": "stdout",
     "output_type": "stream",
     "text": [
      "History (loss, distributed):\n",
      "\tround 1: 0.9642857142857143\n",
      "\tround 2: 0.9642857142857143\n",
      "\tround 3: 0.9642857142857143\n",
      "\tround 4: 0.9642857142857143\n",
      "\tround 5: 0.9642857142857143\n",
      "\n"
     ]
    }
   ],
   "source": [
    "print(biased_result)"
   ]
  },
  {
   "cell_type": "code",
   "execution_count": 37,
   "metadata": {},
   "outputs": [
    {
     "name": "stderr",
     "output_type": "stream",
     "text": [
      "INFO flwr 2024-01-24 09:27:59,835 | app.py:178 | Starting Flower simulation, config: ServerConfig(num_rounds=3, round_timeout=None)\n",
      "2024-01-24 09:28:07,169\tINFO worker.py:1621 -- Started a local Ray instance.\n",
      "INFO flwr 2024-01-24 09:28:10,733 | app.py:213 | Flower VCE: Ray initialized with resources: {'memory': 2288217294.0, 'object_store_memory': 1144108646.0, 'node:127.0.0.1': 1.0, 'CPU': 16.0, 'node:__internal_head__': 1.0}\n",
      "INFO flwr 2024-01-24 09:28:10,733 | app.py:219 | Optimize your simulation with Flower VCE: https://flower.dev/docs/framework/how-to-run-simulations.html\n",
      "INFO flwr 2024-01-24 09:28:10,733 | app.py:227 | No `client_resources` specified. Using minimal resources for clients.\n",
      "INFO flwr 2024-01-24 09:28:10,738 | app.py:242 | Flower VCE: Resources for each Virtual Client: {'num_cpus': 1, 'num_gpus': 0.0}\n",
      "INFO flwr 2024-01-24 09:28:10,764 | app.py:288 | Flower VCE: Creating VirtualClientEngineActorPool with 16 actors\n",
      "INFO flwr 2024-01-24 09:28:10,767 | server.py:89 | Initializing global parameters\n",
      "INFO flwr 2024-01-24 09:28:10,770 | server.py:276 | Requesting initial parameters from one random client\n",
      "INFO flwr 2024-01-24 09:28:17,223 | server.py:280 | Received initial parameters from one random client\n",
      "INFO flwr 2024-01-24 09:28:17,223 | server.py:91 | Evaluating initial parameters\n",
      "INFO flwr 2024-01-24 09:28:17,225 | server.py:104 | FL starting\n",
      "DEBUG flwr 2024-01-24 09:28:17,226 | server.py:222 | fit_round 1: strategy sampled 3 clients (out of 3)\n",
      "DEBUG flwr 2024-01-24 09:28:19,075 | server.py:236 | fit_round 1 received 3 results and 0 failures\n",
      "WARNING flwr 2024-01-24 09:28:19,080 | fedavg.py:242 | No fit_metrics_aggregation_fn provided\n",
      "DEBUG flwr 2024-01-24 09:28:19,083 | server.py:173 | evaluate_round 1: strategy sampled 2 clients (out of 3)\n",
      "DEBUG flwr 2024-01-24 09:28:19,155 | server.py:187 | evaluate_round 1 received 2 results and 0 failures\n",
      "WARNING flwr 2024-01-24 09:28:19,157 | fedavg.py:273 | No evaluate_metrics_aggregation_fn provided\n",
      "DEBUG flwr 2024-01-24 09:28:19,158 | server.py:222 | fit_round 2: strategy sampled 3 clients (out of 3)\n",
      "DEBUG flwr 2024-01-24 09:28:19,347 | server.py:236 | fit_round 2 received 3 results and 0 failures\n",
      "DEBUG flwr 2024-01-24 09:28:19,347 | server.py:173 | evaluate_round 2: strategy sampled 2 clients (out of 3)\n",
      "DEBUG flwr 2024-01-24 09:28:19,416 | server.py:187 | evaluate_round 2 received 2 results and 0 failures\n",
      "DEBUG flwr 2024-01-24 09:28:19,416 | server.py:222 | fit_round 3: strategy sampled 3 clients (out of 3)\n",
      "DEBUG flwr 2024-01-24 09:28:19,606 | server.py:236 | fit_round 3 received 3 results and 0 failures\n",
      "DEBUG flwr 2024-01-24 09:28:19,608 | server.py:173 | evaluate_round 3: strategy sampled 2 clients (out of 3)\n",
      "DEBUG flwr 2024-01-24 09:28:19,670 | server.py:187 | evaluate_round 3 received 2 results and 0 failures\n",
      "INFO flwr 2024-01-24 09:28:19,670 | server.py:153 | FL finished in 2.445430799998576\n",
      "INFO flwr 2024-01-24 09:28:19,672 | app.py:226 | app_fit: losses_distributed [(1, 0.8421052631578947), (2, 0.8378378378378378), (3, 0.8918918918918919)]\n",
      "INFO flwr 2024-01-24 09:28:19,673 | app.py:227 | app_fit: metrics_distributed_fit {}\n",
      "INFO flwr 2024-01-24 09:28:19,674 | app.py:228 | app_fit: metrics_distributed {}\n",
      "INFO flwr 2024-01-24 09:28:19,675 | app.py:229 | app_fit: losses_centralized []\n",
      "INFO flwr 2024-01-24 09:28:19,677 | app.py:230 | app_fit: metrics_centralized {}\n",
      "INFO flwr 2024-01-24 09:28:19,680 | app.py:178 | Starting Flower simulation, config: ServerConfig(num_rounds=5, round_timeout=None)\n",
      "2024-01-24 09:28:26,269\tINFO worker.py:1621 -- Started a local Ray instance.\n",
      "INFO flwr 2024-01-24 09:28:30,068 | app.py:213 | Flower VCE: Ray initialized with resources: {'memory': 2256226715.0, 'object_store_memory': 1128113356.0, 'node:127.0.0.1': 1.0, 'CPU': 16.0, 'node:__internal_head__': 1.0}\n",
      "INFO flwr 2024-01-24 09:28:30,072 | app.py:219 | Optimize your simulation with Flower VCE: https://flower.dev/docs/framework/how-to-run-simulations.html\n",
      "INFO flwr 2024-01-24 09:28:30,074 | app.py:227 | No `client_resources` specified. Using minimal resources for clients.\n",
      "INFO flwr 2024-01-24 09:28:30,074 | app.py:242 | Flower VCE: Resources for each Virtual Client: {'num_cpus': 1, 'num_gpus': 0.0}\n",
      "INFO flwr 2024-01-24 09:28:30,096 | app.py:288 | Flower VCE: Creating VirtualClientEngineActorPool with 16 actors\n",
      "INFO flwr 2024-01-24 09:28:30,098 | server.py:89 | Initializing global parameters\n",
      "INFO flwr 2024-01-24 09:28:30,099 | server.py:276 | Requesting initial parameters from one random client\n",
      "INFO flwr 2024-01-24 09:28:37,838 | server.py:280 | Received initial parameters from one random client\n",
      "INFO flwr 2024-01-24 09:28:37,841 | server.py:91 | Evaluating initial parameters\n",
      "INFO flwr 2024-01-24 09:28:37,842 | server.py:104 | FL starting\n",
      "DEBUG flwr 2024-01-24 09:28:37,842 | server.py:222 | fit_round 1: strategy sampled 3 clients (out of 3)\n",
      "DEBUG flwr 2024-01-24 09:28:40,032 | server.py:236 | fit_round 1 received 3 results and 0 failures\n",
      "WARNING flwr 2024-01-24 09:28:40,035 | fedavg.py:242 | No fit_metrics_aggregation_fn provided\n",
      "DEBUG flwr 2024-01-24 09:28:40,035 | server.py:173 | evaluate_round 1: strategy sampled 2 clients (out of 3)\n",
      "DEBUG flwr 2024-01-24 09:28:40,110 | server.py:187 | evaluate_round 1 received 2 results and 0 failures\n",
      "WARNING flwr 2024-01-24 09:28:40,111 | fedavg.py:273 | No evaluate_metrics_aggregation_fn provided\n",
      "DEBUG flwr 2024-01-24 09:28:40,111 | server.py:222 | fit_round 2: strategy sampled 3 clients (out of 3)\n",
      "DEBUG flwr 2024-01-24 09:28:40,324 | server.py:236 | fit_round 2 received 3 results and 0 failures\n",
      "DEBUG flwr 2024-01-24 09:28:40,326 | server.py:173 | evaluate_round 2: strategy sampled 2 clients (out of 3)\n",
      "DEBUG flwr 2024-01-24 09:28:40,400 | server.py:187 | evaluate_round 2 received 2 results and 0 failures\n",
      "DEBUG flwr 2024-01-24 09:28:40,401 | server.py:222 | fit_round 3: strategy sampled 3 clients (out of 3)\n",
      "DEBUG flwr 2024-01-24 09:28:40,690 | server.py:236 | fit_round 3 received 3 results and 0 failures\n",
      "DEBUG flwr 2024-01-24 09:28:40,693 | server.py:173 | evaluate_round 3: strategy sampled 2 clients (out of 3)\n",
      "DEBUG flwr 2024-01-24 09:28:40,778 | server.py:187 | evaluate_round 3 received 2 results and 0 failures\n",
      "DEBUG flwr 2024-01-24 09:28:40,780 | server.py:222 | fit_round 4: strategy sampled 3 clients (out of 3)\n",
      "DEBUG flwr 2024-01-24 09:28:41,075 | server.py:236 | fit_round 4 received 3 results and 0 failures\n",
      "DEBUG flwr 2024-01-24 09:28:41,077 | server.py:173 | evaluate_round 4: strategy sampled 2 clients (out of 3)\n",
      "DEBUG flwr 2024-01-24 09:28:41,159 | server.py:187 | evaluate_round 4 received 2 results and 0 failures\n",
      "DEBUG flwr 2024-01-24 09:28:41,160 | server.py:222 | fit_round 5: strategy sampled 3 clients (out of 3)\n",
      "DEBUG flwr 2024-01-24 09:28:41,398 | server.py:236 | fit_round 5 received 3 results and 0 failures\n",
      "DEBUG flwr 2024-01-24 09:28:41,402 | server.py:173 | evaluate_round 5: strategy sampled 2 clients (out of 3)\n",
      "DEBUG flwr 2024-01-24 09:28:41,488 | server.py:187 | evaluate_round 5 received 2 results and 0 failures\n",
      "INFO flwr 2024-01-24 09:28:41,490 | server.py:153 | FL finished in 3.647632899985183\n",
      "INFO flwr 2024-01-24 09:28:41,492 | app.py:226 | app_fit: losses_distributed [(1, 0.8421052631578947), (2, 0.8918918918918919), (3, 0.8421052631578947), (4, 0.8421052631578947), (5, 0.8421052631578947)]\n",
      "INFO flwr 2024-01-24 09:28:41,493 | app.py:227 | app_fit: metrics_distributed_fit {}\n",
      "INFO flwr 2024-01-24 09:28:41,495 | app.py:228 | app_fit: metrics_distributed {}\n",
      "INFO flwr 2024-01-24 09:28:41,496 | app.py:229 | app_fit: losses_centralized []\n",
      "INFO flwr 2024-01-24 09:28:41,497 | app.py:230 | app_fit: metrics_centralized {}\n",
      "INFO flwr 2024-01-24 09:28:41,501 | app.py:178 | Starting Flower simulation, config: ServerConfig(num_rounds=10, round_timeout=None)\n",
      "2024-01-24 09:28:48,756\tINFO worker.py:1621 -- Started a local Ray instance.\n",
      "INFO flwr 2024-01-24 09:28:52,764 | app.py:213 | Flower VCE: Ray initialized with resources: {'memory': 2203892123.0, 'object_store_memory': 1101946060.0, 'node:127.0.0.1': 1.0, 'CPU': 16.0, 'node:__internal_head__': 1.0}\n",
      "INFO flwr 2024-01-24 09:28:52,764 | app.py:219 | Optimize your simulation with Flower VCE: https://flower.dev/docs/framework/how-to-run-simulations.html\n",
      "INFO flwr 2024-01-24 09:28:52,765 | app.py:227 | No `client_resources` specified. Using minimal resources for clients.\n",
      "INFO flwr 2024-01-24 09:28:52,766 | app.py:242 | Flower VCE: Resources for each Virtual Client: {'num_cpus': 1, 'num_gpus': 0.0}\n",
      "INFO flwr 2024-01-24 09:28:52,792 | app.py:288 | Flower VCE: Creating VirtualClientEngineActorPool with 16 actors\n",
      "INFO flwr 2024-01-24 09:28:52,793 | server.py:89 | Initializing global parameters\n",
      "INFO flwr 2024-01-24 09:28:52,795 | server.py:276 | Requesting initial parameters from one random client\n",
      "INFO flwr 2024-01-24 09:29:00,084 | server.py:280 | Received initial parameters from one random client\n",
      "INFO flwr 2024-01-24 09:29:00,085 | server.py:91 | Evaluating initial parameters\n",
      "INFO flwr 2024-01-24 09:29:00,085 | server.py:104 | FL starting\n",
      "DEBUG flwr 2024-01-24 09:29:00,088 | server.py:222 | fit_round 1: strategy sampled 3 clients (out of 3)\n",
      "DEBUG flwr 2024-01-24 09:29:02,260 | server.py:236 | fit_round 1 received 3 results and 0 failures\n",
      "WARNING flwr 2024-01-24 09:29:02,262 | fedavg.py:242 | No fit_metrics_aggregation_fn provided\n",
      "DEBUG flwr 2024-01-24 09:29:02,263 | server.py:173 | evaluate_round 1: strategy sampled 2 clients (out of 3)\n",
      "DEBUG flwr 2024-01-24 09:29:02,348 | server.py:187 | evaluate_round 1 received 2 results and 0 failures\n",
      "WARNING flwr 2024-01-24 09:29:02,349 | fedavg.py:273 | No evaluate_metrics_aggregation_fn provided\n",
      "DEBUG flwr 2024-01-24 09:29:02,349 | server.py:222 | fit_round 2: strategy sampled 3 clients (out of 3)\n",
      "DEBUG flwr 2024-01-24 09:29:02,883 | server.py:236 | fit_round 2 received 3 results and 0 failures\n",
      "DEBUG flwr 2024-01-24 09:29:02,887 | server.py:173 | evaluate_round 2: strategy sampled 2 clients (out of 3)\n",
      "DEBUG flwr 2024-01-24 09:29:02,963 | server.py:187 | evaluate_round 2 received 2 results and 0 failures\n",
      "DEBUG flwr 2024-01-24 09:29:02,963 | server.py:222 | fit_round 3: strategy sampled 3 clients (out of 3)\n",
      "DEBUG flwr 2024-01-24 09:29:03,204 | server.py:236 | fit_round 3 received 3 results and 0 failures\n",
      "DEBUG flwr 2024-01-24 09:29:03,207 | server.py:173 | evaluate_round 3: strategy sampled 2 clients (out of 3)\n",
      "DEBUG flwr 2024-01-24 09:29:03,280 | server.py:187 | evaluate_round 3 received 2 results and 0 failures\n",
      "DEBUG flwr 2024-01-24 09:29:03,282 | server.py:222 | fit_round 4: strategy sampled 3 clients (out of 3)\n",
      "DEBUG flwr 2024-01-24 09:29:03,532 | server.py:236 | fit_round 4 received 3 results and 0 failures\n",
      "DEBUG flwr 2024-01-24 09:29:03,535 | server.py:173 | evaluate_round 4: strategy sampled 2 clients (out of 3)\n",
      "DEBUG flwr 2024-01-24 09:29:03,619 | server.py:187 | evaluate_round 4 received 2 results and 0 failures\n",
      "DEBUG flwr 2024-01-24 09:29:03,619 | server.py:222 | fit_round 5: strategy sampled 3 clients (out of 3)\n",
      "DEBUG flwr 2024-01-24 09:29:03,891 | server.py:236 | fit_round 5 received 3 results and 0 failures\n",
      "DEBUG flwr 2024-01-24 09:29:03,893 | server.py:173 | evaluate_round 5: strategy sampled 2 clients (out of 3)\n",
      "DEBUG flwr 2024-01-24 09:29:03,982 | server.py:187 | evaluate_round 5 received 2 results and 0 failures\n",
      "DEBUG flwr 2024-01-24 09:29:03,984 | server.py:222 | fit_round 6: strategy sampled 3 clients (out of 3)\n",
      "DEBUG flwr 2024-01-24 09:29:04,218 | server.py:236 | fit_round 6 received 3 results and 0 failures\n",
      "DEBUG flwr 2024-01-24 09:29:04,220 | server.py:173 | evaluate_round 6: strategy sampled 2 clients (out of 3)\n",
      "DEBUG flwr 2024-01-24 09:29:04,297 | server.py:187 | evaluate_round 6 received 2 results and 0 failures\n",
      "DEBUG flwr 2024-01-24 09:29:04,297 | server.py:222 | fit_round 7: strategy sampled 3 clients (out of 3)\n",
      "DEBUG flwr 2024-01-24 09:29:04,562 | server.py:236 | fit_round 7 received 3 results and 0 failures\n",
      "DEBUG flwr 2024-01-24 09:29:04,565 | server.py:173 | evaluate_round 7: strategy sampled 2 clients (out of 3)\n",
      "DEBUG flwr 2024-01-24 09:29:04,637 | server.py:187 | evaluate_round 7 received 2 results and 0 failures\n",
      "DEBUG flwr 2024-01-24 09:29:04,638 | server.py:222 | fit_round 8: strategy sampled 3 clients (out of 3)\n",
      "DEBUG flwr 2024-01-24 09:29:04,873 | server.py:236 | fit_round 8 received 3 results and 0 failures\n",
      "DEBUG flwr 2024-01-24 09:29:04,875 | server.py:173 | evaluate_round 8: strategy sampled 2 clients (out of 3)\n",
      "DEBUG flwr 2024-01-24 09:29:04,950 | server.py:187 | evaluate_round 8 received 2 results and 0 failures\n",
      "DEBUG flwr 2024-01-24 09:29:04,951 | server.py:222 | fit_round 9: strategy sampled 3 clients (out of 3)\n",
      "DEBUG flwr 2024-01-24 09:29:05,198 | server.py:236 | fit_round 9 received 3 results and 0 failures\n",
      "DEBUG flwr 2024-01-24 09:29:05,200 | server.py:173 | evaluate_round 9: strategy sampled 2 clients (out of 3)\n",
      "DEBUG flwr 2024-01-24 09:29:05,279 | server.py:187 | evaluate_round 9 received 2 results and 0 failures\n",
      "DEBUG flwr 2024-01-24 09:29:05,280 | server.py:222 | fit_round 10: strategy sampled 3 clients (out of 3)\n",
      "DEBUG flwr 2024-01-24 09:29:05,546 | server.py:236 | fit_round 10 received 3 results and 0 failures\n",
      "DEBUG flwr 2024-01-24 09:29:05,549 | server.py:173 | evaluate_round 10: strategy sampled 2 clients (out of 3)\n",
      "DEBUG flwr 2024-01-24 09:29:05,628 | server.py:187 | evaluate_round 10 received 2 results and 0 failures\n",
      "INFO flwr 2024-01-24 09:29:05,629 | server.py:153 | FL finished in 5.542038199986564\n",
      "INFO flwr 2024-01-24 09:29:05,631 | app.py:226 | app_fit: losses_distributed [(1, 0.8421052631578947), (2, 0.8378378378378378), (3, 0.8421052631578947), (4, 0.8378378378378378), (5, 0.8421052631578947), (6, 0.8918918918918919), (7, 0.8918918918918919), (8, 0.8918918918918919), (9, 0.8378378378378378), (10, 0.8378378378378378)]\n",
      "INFO flwr 2024-01-24 09:29:05,632 | app.py:227 | app_fit: metrics_distributed_fit {}\n",
      "INFO flwr 2024-01-24 09:29:05,632 | app.py:228 | app_fit: metrics_distributed {}\n",
      "INFO flwr 2024-01-24 09:29:05,634 | app.py:229 | app_fit: losses_centralized []\n",
      "INFO flwr 2024-01-24 09:29:05,635 | app.py:230 | app_fit: metrics_centralized {}\n",
      "INFO flwr 2024-01-24 09:29:05,640 | app.py:178 | Starting Flower simulation, config: ServerConfig(num_rounds=20, round_timeout=None)\n",
      "2024-01-24 09:29:13,359\tINFO worker.py:1621 -- Started a local Ray instance.\n",
      "INFO flwr 2024-01-24 09:29:17,537 | app.py:213 | Flower VCE: Ray initialized with resources: {'memory': 2272805684.0, 'object_store_memory': 1136402841.0, 'node:127.0.0.1': 1.0, 'CPU': 16.0, 'node:__internal_head__': 1.0}\n",
      "INFO flwr 2024-01-24 09:29:17,538 | app.py:219 | Optimize your simulation with Flower VCE: https://flower.dev/docs/framework/how-to-run-simulations.html\n",
      "INFO flwr 2024-01-24 09:29:17,539 | app.py:227 | No `client_resources` specified. Using minimal resources for clients.\n",
      "INFO flwr 2024-01-24 09:29:17,542 | app.py:242 | Flower VCE: Resources for each Virtual Client: {'num_cpus': 1, 'num_gpus': 0.0}\n",
      "INFO flwr 2024-01-24 09:29:17,568 | app.py:288 | Flower VCE: Creating VirtualClientEngineActorPool with 16 actors\n",
      "INFO flwr 2024-01-24 09:29:17,569 | server.py:89 | Initializing global parameters\n",
      "INFO flwr 2024-01-24 09:29:17,570 | server.py:276 | Requesting initial parameters from one random client\n",
      "INFO flwr 2024-01-24 09:29:24,955 | server.py:280 | Received initial parameters from one random client\n",
      "INFO flwr 2024-01-24 09:29:24,956 | server.py:91 | Evaluating initial parameters\n",
      "INFO flwr 2024-01-24 09:29:24,957 | server.py:104 | FL starting\n",
      "DEBUG flwr 2024-01-24 09:29:24,958 | server.py:222 | fit_round 1: strategy sampled 3 clients (out of 3)\n",
      "DEBUG flwr 2024-01-24 09:29:27,063 | server.py:236 | fit_round 1 received 3 results and 0 failures\n",
      "WARNING flwr 2024-01-24 09:29:27,066 | fedavg.py:242 | No fit_metrics_aggregation_fn provided\n",
      "DEBUG flwr 2024-01-24 09:29:27,066 | server.py:173 | evaluate_round 1: strategy sampled 2 clients (out of 3)\n",
      "DEBUG flwr 2024-01-24 09:29:27,142 | server.py:187 | evaluate_round 1 received 2 results and 0 failures\n",
      "WARNING flwr 2024-01-24 09:29:27,143 | fedavg.py:273 | No evaluate_metrics_aggregation_fn provided\n",
      "DEBUG flwr 2024-01-24 09:29:27,144 | server.py:222 | fit_round 2: strategy sampled 3 clients (out of 3)\n",
      "DEBUG flwr 2024-01-24 09:29:27,398 | server.py:236 | fit_round 2 received 3 results and 0 failures\n",
      "DEBUG flwr 2024-01-24 09:29:27,401 | server.py:173 | evaluate_round 2: strategy sampled 2 clients (out of 3)\n",
      "DEBUG flwr 2024-01-24 09:29:27,517 | server.py:187 | evaluate_round 2 received 2 results and 0 failures\n",
      "DEBUG flwr 2024-01-24 09:29:27,518 | server.py:222 | fit_round 3: strategy sampled 3 clients (out of 3)\n",
      "DEBUG flwr 2024-01-24 09:29:27,893 | server.py:236 | fit_round 3 received 3 results and 0 failures\n",
      "DEBUG flwr 2024-01-24 09:29:27,897 | server.py:173 | evaluate_round 3: strategy sampled 2 clients (out of 3)\n",
      "DEBUG flwr 2024-01-24 09:29:27,993 | server.py:187 | evaluate_round 3 received 2 results and 0 failures\n",
      "DEBUG flwr 2024-01-24 09:29:27,995 | server.py:222 | fit_round 4: strategy sampled 3 clients (out of 3)\n",
      "DEBUG flwr 2024-01-24 09:29:28,318 | server.py:236 | fit_round 4 received 3 results and 0 failures\n",
      "DEBUG flwr 2024-01-24 09:29:28,321 | server.py:173 | evaluate_round 4: strategy sampled 2 clients (out of 3)\n",
      "DEBUG flwr 2024-01-24 09:29:28,397 | server.py:187 | evaluate_round 4 received 2 results and 0 failures\n",
      "DEBUG flwr 2024-01-24 09:29:28,399 | server.py:222 | fit_round 5: strategy sampled 3 clients (out of 3)\n",
      "DEBUG flwr 2024-01-24 09:29:28,645 | server.py:236 | fit_round 5 received 3 results and 0 failures\n",
      "DEBUG flwr 2024-01-24 09:29:28,649 | server.py:173 | evaluate_round 5: strategy sampled 2 clients (out of 3)\n",
      "DEBUG flwr 2024-01-24 09:29:28,722 | server.py:187 | evaluate_round 5 received 2 results and 0 failures\n",
      "DEBUG flwr 2024-01-24 09:29:28,725 | server.py:222 | fit_round 6: strategy sampled 3 clients (out of 3)\n",
      "DEBUG flwr 2024-01-24 09:29:29,013 | server.py:236 | fit_round 6 received 3 results and 0 failures\n",
      "DEBUG flwr 2024-01-24 09:29:29,016 | server.py:173 | evaluate_round 6: strategy sampled 2 clients (out of 3)\n",
      "DEBUG flwr 2024-01-24 09:29:29,110 | server.py:187 | evaluate_round 6 received 2 results and 0 failures\n",
      "DEBUG flwr 2024-01-24 09:29:29,111 | server.py:222 | fit_round 7: strategy sampled 3 clients (out of 3)\n",
      "DEBUG flwr 2024-01-24 09:29:29,370 | server.py:236 | fit_round 7 received 3 results and 0 failures\n",
      "DEBUG flwr 2024-01-24 09:29:29,372 | server.py:173 | evaluate_round 7: strategy sampled 2 clients (out of 3)\n",
      "DEBUG flwr 2024-01-24 09:29:29,445 | server.py:187 | evaluate_round 7 received 2 results and 0 failures\n",
      "DEBUG flwr 2024-01-24 09:29:29,446 | server.py:222 | fit_round 8: strategy sampled 3 clients (out of 3)\n",
      "DEBUG flwr 2024-01-24 09:29:29,678 | server.py:236 | fit_round 8 received 3 results and 0 failures\n",
      "DEBUG flwr 2024-01-24 09:29:29,681 | server.py:173 | evaluate_round 8: strategy sampled 2 clients (out of 3)\n",
      "DEBUG flwr 2024-01-24 09:29:29,752 | server.py:187 | evaluate_round 8 received 2 results and 0 failures\n",
      "DEBUG flwr 2024-01-24 09:29:29,753 | server.py:222 | fit_round 9: strategy sampled 3 clients (out of 3)\n",
      "DEBUG flwr 2024-01-24 09:29:30,009 | server.py:236 | fit_round 9 received 3 results and 0 failures\n",
      "DEBUG flwr 2024-01-24 09:29:30,012 | server.py:173 | evaluate_round 9: strategy sampled 2 clients (out of 3)\n",
      "DEBUG flwr 2024-01-24 09:29:30,087 | server.py:187 | evaluate_round 9 received 2 results and 0 failures\n",
      "DEBUG flwr 2024-01-24 09:29:30,088 | server.py:222 | fit_round 10: strategy sampled 3 clients (out of 3)\n",
      "DEBUG flwr 2024-01-24 09:29:30,350 | server.py:236 | fit_round 10 received 3 results and 0 failures\n",
      "DEBUG flwr 2024-01-24 09:29:30,353 | server.py:173 | evaluate_round 10: strategy sampled 2 clients (out of 3)\n",
      "DEBUG flwr 2024-01-24 09:29:30,428 | server.py:187 | evaluate_round 10 received 2 results and 0 failures\n",
      "DEBUG flwr 2024-01-24 09:29:30,429 | server.py:222 | fit_round 11: strategy sampled 3 clients (out of 3)\n",
      "DEBUG flwr 2024-01-24 09:29:30,666 | server.py:236 | fit_round 11 received 3 results and 0 failures\n",
      "DEBUG flwr 2024-01-24 09:29:30,668 | server.py:173 | evaluate_round 11: strategy sampled 2 clients (out of 3)\n",
      "DEBUG flwr 2024-01-24 09:29:30,740 | server.py:187 | evaluate_round 11 received 2 results and 0 failures\n",
      "DEBUG flwr 2024-01-24 09:29:30,741 | server.py:222 | fit_round 12: strategy sampled 3 clients (out of 3)\n",
      "DEBUG flwr 2024-01-24 09:29:30,972 | server.py:236 | fit_round 12 received 3 results and 0 failures\n",
      "DEBUG flwr 2024-01-24 09:29:30,975 | server.py:173 | evaluate_round 12: strategy sampled 2 clients (out of 3)\n",
      "DEBUG flwr 2024-01-24 09:29:31,049 | server.py:187 | evaluate_round 12 received 2 results and 0 failures\n",
      "DEBUG flwr 2024-01-24 09:29:31,049 | server.py:222 | fit_round 13: strategy sampled 3 clients (out of 3)\n",
      "DEBUG flwr 2024-01-24 09:29:31,287 | server.py:236 | fit_round 13 received 3 results and 0 failures\n",
      "DEBUG flwr 2024-01-24 09:29:31,289 | server.py:173 | evaluate_round 13: strategy sampled 2 clients (out of 3)\n",
      "DEBUG flwr 2024-01-24 09:29:31,367 | server.py:187 | evaluate_round 13 received 2 results and 0 failures\n",
      "DEBUG flwr 2024-01-24 09:29:31,368 | server.py:222 | fit_round 14: strategy sampled 3 clients (out of 3)\n",
      "DEBUG flwr 2024-01-24 09:29:31,931 | server.py:236 | fit_round 14 received 3 results and 0 failures\n",
      "DEBUG flwr 2024-01-24 09:29:31,934 | server.py:173 | evaluate_round 14: strategy sampled 2 clients (out of 3)\n",
      "DEBUG flwr 2024-01-24 09:29:32,010 | server.py:187 | evaluate_round 14 received 2 results and 0 failures\n",
      "DEBUG flwr 2024-01-24 09:29:32,011 | server.py:222 | fit_round 15: strategy sampled 3 clients (out of 3)\n",
      "DEBUG flwr 2024-01-24 09:29:32,283 | server.py:236 | fit_round 15 received 3 results and 0 failures\n",
      "DEBUG flwr 2024-01-24 09:29:32,286 | server.py:173 | evaluate_round 15: strategy sampled 2 clients (out of 3)\n",
      "DEBUG flwr 2024-01-24 09:29:32,361 | server.py:187 | evaluate_round 15 received 2 results and 0 failures\n",
      "DEBUG flwr 2024-01-24 09:29:32,363 | server.py:222 | fit_round 16: strategy sampled 3 clients (out of 3)\n",
      "DEBUG flwr 2024-01-24 09:29:32,643 | server.py:236 | fit_round 16 received 3 results and 0 failures\n",
      "DEBUG flwr 2024-01-24 09:29:32,645 | server.py:173 | evaluate_round 16: strategy sampled 2 clients (out of 3)\n",
      "DEBUG flwr 2024-01-24 09:29:32,721 | server.py:187 | evaluate_round 16 received 2 results and 0 failures\n",
      "DEBUG flwr 2024-01-24 09:29:32,722 | server.py:222 | fit_round 17: strategy sampled 3 clients (out of 3)\n",
      "DEBUG flwr 2024-01-24 09:29:32,957 | server.py:236 | fit_round 17 received 3 results and 0 failures\n",
      "DEBUG flwr 2024-01-24 09:29:32,959 | server.py:173 | evaluate_round 17: strategy sampled 2 clients (out of 3)\n",
      "DEBUG flwr 2024-01-24 09:29:33,033 | server.py:187 | evaluate_round 17 received 2 results and 0 failures\n",
      "DEBUG flwr 2024-01-24 09:29:33,033 | server.py:222 | fit_round 18: strategy sampled 3 clients (out of 3)\n",
      "DEBUG flwr 2024-01-24 09:29:33,258 | server.py:236 | fit_round 18 received 3 results and 0 failures\n",
      "DEBUG flwr 2024-01-24 09:29:33,260 | server.py:173 | evaluate_round 18: strategy sampled 2 clients (out of 3)\n",
      "DEBUG flwr 2024-01-24 09:29:33,345 | server.py:187 | evaluate_round 18 received 2 results and 0 failures\n",
      "DEBUG flwr 2024-01-24 09:29:33,346 | server.py:222 | fit_round 19: strategy sampled 3 clients (out of 3)\n",
      "DEBUG flwr 2024-01-24 09:29:33,571 | server.py:236 | fit_round 19 received 3 results and 0 failures\n",
      "DEBUG flwr 2024-01-24 09:29:33,574 | server.py:173 | evaluate_round 19: strategy sampled 2 clients (out of 3)\n",
      "DEBUG flwr 2024-01-24 09:29:33,647 | server.py:187 | evaluate_round 19 received 2 results and 0 failures\n",
      "DEBUG flwr 2024-01-24 09:29:33,647 | server.py:222 | fit_round 20: strategy sampled 3 clients (out of 3)\n",
      "DEBUG flwr 2024-01-24 09:29:33,878 | server.py:236 | fit_round 20 received 3 results and 0 failures\n",
      "DEBUG flwr 2024-01-24 09:29:33,881 | server.py:173 | evaluate_round 20: strategy sampled 2 clients (out of 3)\n",
      "DEBUG flwr 2024-01-24 09:29:33,955 | server.py:187 | evaluate_round 20 received 2 results and 0 failures\n",
      "INFO flwr 2024-01-24 09:29:33,956 | server.py:153 | FL finished in 8.998265200003516\n",
      "INFO flwr 2024-01-24 09:29:33,957 | app.py:226 | app_fit: losses_distributed [(1, 0.8421052631578947), (2, 0.8421052631578947), (3, 0.8378378378378378), (4, 0.8918918918918919), (5, 0.8378378378378378), (6, 0.8918918918918919), (7, 0.8918918918918919), (8, 0.8421052631578947), (9, 0.8378378378378378), (10, 0.8918918918918919), (11, 0.8421052631578947), (12, 0.8421052631578947), (13, 0.8378378378378378), (14, 0.8918918918918919), (15, 0.8918918918918919), (16, 0.8378378378378378), (17, 0.8378378378378378), (18, 0.8378378378378378), (19, 0.8378378378378378), (20, 0.8918918918918919)]\n",
      "INFO flwr 2024-01-24 09:29:33,959 | app.py:227 | app_fit: metrics_distributed_fit {}\n",
      "INFO flwr 2024-01-24 09:29:33,961 | app.py:228 | app_fit: metrics_distributed {}\n",
      "INFO flwr 2024-01-24 09:29:33,962 | app.py:229 | app_fit: losses_centralized []\n",
      "INFO flwr 2024-01-24 09:29:33,964 | app.py:230 | app_fit: metrics_centralized {}\n"
     ]
    },
    {
     "name": "stdout",
     "output_type": "stream",
     "text": [
      "Ergebnisse für 3 Runden: History (loss, distributed):\n",
      "\tround 1: 0.8421052631578947\n",
      "\tround 2: 0.8378378378378378\n",
      "\tround 3: 0.8918918918918919\n",
      "\n",
      "Ergebnisse für 5 Runden: History (loss, distributed):\n",
      "\tround 1: 0.8421052631578947\n",
      "\tround 2: 0.8918918918918919\n",
      "\tround 3: 0.8421052631578947\n",
      "\tround 4: 0.8421052631578947\n",
      "\tround 5: 0.8421052631578947\n",
      "\n",
      "Ergebnisse für 10 Runden: History (loss, distributed):\n",
      "\tround 1: 0.8421052631578947\n",
      "\tround 2: 0.8378378378378378\n",
      "\tround 3: 0.8421052631578947\n",
      "\tround 4: 0.8378378378378378\n",
      "\tround 5: 0.8421052631578947\n",
      "\tround 6: 0.8918918918918919\n",
      "\tround 7: 0.8918918918918919\n",
      "\tround 8: 0.8918918918918919\n",
      "\tround 9: 0.8378378378378378\n",
      "\tround 10: 0.8378378378378378\n",
      "\n",
      "Ergebnisse für 20 Runden: History (loss, distributed):\n",
      "\tround 1: 0.8421052631578947\n",
      "\tround 2: 0.8421052631578947\n",
      "\tround 3: 0.8378378378378378\n",
      "\tround 4: 0.8918918918918919\n",
      "\tround 5: 0.8378378378378378\n",
      "\tround 6: 0.8918918918918919\n",
      "\tround 7: 0.8918918918918919\n",
      "\tround 8: 0.8421052631578947\n",
      "\tround 9: 0.8378378378378378\n",
      "\tround 10: 0.8918918918918919\n",
      "\tround 11: 0.8421052631578947\n",
      "\tround 12: 0.8421052631578947\n",
      "\tround 13: 0.8378378378378378\n",
      "\tround 14: 0.8918918918918919\n",
      "\tround 15: 0.8918918918918919\n",
      "\tround 16: 0.8378378378378378\n",
      "\tround 17: 0.8378378378378378\n",
      "\tround 18: 0.8378378378378378\n",
      "\tround 19: 0.8378378378378378\n",
      "\tround 20: 0.8918918918918919\n",
      "\n"
     ]
    }
   ],
   "source": [
    "# working with different numbers of rounds\n",
    "\n",
    "round_results = []\n",
    "\n",
    "# Verschiedene Werte für num_rounds durchlaufen\n",
    "for rounds in [3, 5, 10, 20]:\n",
    "    # Starte die Flower-Simulation\n",
    "    round_result = fl.simulation.start_simulation(\n",
    "        num_clients=NUM_CLIENTS,\n",
    "        config=fl.server.ServerConfig(num_rounds=rounds),\n",
    "        strategy=strategy,\n",
    "        client_fn=lambda i: client_models[int(i)]\n",
    "    )\n",
    "    # Ergebnisse speichern\n",
    "    round_results.append((rounds, round_result))\n",
    "\n",
    "# Ergebnisse ausgeben und visualisieren\n",
    "for rounds, result in round_results:\n",
    "    print(f\"Ergebnisse für {rounds} Runden: {result}\")\n",
    "    # Hier können Sie Code hinzufügen, um die Ergebnisse zu visualisieren\n"
   ]
  },
  {
   "cell_type": "code",
   "execution_count": 41,
   "metadata": {},
   "outputs": [
    {
     "name": "stdout",
     "output_type": "stream",
     "text": [
      "[(3, History (loss, distributed):\n",
      "\tround 1: 0.8421052631578947\n",
      "\tround 2: 0.8378378378378378\n",
      "\tround 3: 0.8918918918918919\n",
      "), (5, History (loss, distributed):\n",
      "\tround 1: 0.8421052631578947\n",
      "\tround 2: 0.8918918918918919\n",
      "\tround 3: 0.8421052631578947\n",
      "\tround 4: 0.8421052631578947\n",
      "\tround 5: 0.8421052631578947\n",
      "), (10, History (loss, distributed):\n",
      "\tround 1: 0.8421052631578947\n",
      "\tround 2: 0.8378378378378378\n",
      "\tround 3: 0.8421052631578947\n",
      "\tround 4: 0.8378378378378378\n",
      "\tround 5: 0.8421052631578947\n",
      "\tround 6: 0.8918918918918919\n",
      "\tround 7: 0.8918918918918919\n",
      "\tround 8: 0.8918918918918919\n",
      "\tround 9: 0.8378378378378378\n",
      "\tround 10: 0.8378378378378378\n",
      "), (20, History (loss, distributed):\n",
      "\tround 1: 0.8421052631578947\n",
      "\tround 2: 0.8421052631578947\n",
      "\tround 3: 0.8378378378378378\n",
      "\tround 4: 0.8918918918918919\n",
      "\tround 5: 0.8378378378378378\n",
      "\tround 6: 0.8918918918918919\n",
      "\tround 7: 0.8918918918918919\n",
      "\tround 8: 0.8421052631578947\n",
      "\tround 9: 0.8378378378378378\n",
      "\tround 10: 0.8918918918918919\n",
      "\tround 11: 0.8421052631578947\n",
      "\tround 12: 0.8421052631578947\n",
      "\tround 13: 0.8378378378378378\n",
      "\tround 14: 0.8918918918918919\n",
      "\tround 15: 0.8918918918918919\n",
      "\tround 16: 0.8378378378378378\n",
      "\tround 17: 0.8378378378378378\n",
      "\tround 18: 0.8378378378378378\n",
      "\tround 19: 0.8378378378378378\n",
      "\tround 20: 0.8918918918918919\n",
      ")]\n"
     ]
    }
   ],
   "source": [
    "print(round_results)"
   ]
  },
  {
   "cell_type": "code",
   "execution_count": 47,
   "metadata": {},
   "outputs": [
    {
     "name": "stdout",
     "output_type": "stream",
     "text": [
      "[0.8421052631578947, 0.8378378378378378, 0.8918918918918919, 0.8421052631578947, 0.8918918918918919, 0.8421052631578947, 0.8421052631578947, 0.8421052631578947, 0.8421052631578947, 0.8378378378378378, 0.8421052631578947, 0.8378378378378378, 0.8421052631578947, 0.8918918918918919, 0.8918918918918919, 0.8918918918918919, 0.8378378378378378, 0.8378378378378378, 0.8421052631578947, 0.8421052631578947, 0.8378378378378378, 0.8918918918918919, 0.8378378378378378, 0.8918918918918919, 0.8918918918918919, 0.8421052631578947, 0.8378378378378378, 0.8918918918918919, 0.8421052631578947, 0.8421052631578947, 0.8378378378378378, 0.8918918918918919, 0.8918918918918919, 0.8378378378378378, 0.8378378378378378, 0.8378378378378378, 0.8378378378378378, 0.8918918918918919]\n"
     ]
    }
   ],
   "source": [
    "import re\n",
    "\n",
    "# Aufbereiten von round_results\n",
    "result_string = str(round_results).replace(\"\\n\\tround\",\"\").replace(\"History (loss, distributed): \", \"\").replace(\"\\n\", \"\")\n",
    "extracted_values = ', '.join(re.findall(r'\\b\\d+\\.\\d+\\b', result_string))\n",
    "# extrahiere die Werte aus extracted_values\n",
    "extracted_values_list = list(map(float, extracted_values.split(',')))\n",
    "print(extracted_values_list)\n"
   ]
  },
  {
   "cell_type": "code",
   "execution_count": 49,
   "metadata": {},
   "outputs": [
    {
     "data": {
      "image/png": "[encoded data removed]",
      "text/plain": [
       "<Figure size 640x480 with 1 Axes>"
      ]
     },
     "metadata": {},
     "output_type": "display_data"
    }
   ],
   "source": [
    "import matplotlib.pyplot as plt\n",
    "\n",
    "# Daten\n",
    "rounds = list(range(1, 21))\n",
    "values_per_round = [3, 5, 10, 20]\n",
    "split_results = [extracted_values_list[i:i + n] for i, n in zip([0, 3, 8, 18], values_per_round)]\n",
    "\n",
    "# Plotten der Linien mit verschiedenen Stricharten\n",
    "plt.plot(rounds[:3], split_results[0], label='3 Runden', color='blue')\n",
    "plt.plot(rounds[:5], split_results[1], label='5 Runden', color='red')\n",
    "plt.plot(rounds[:10], split_results[2], label='10 Runden', color='green', linestyle='--')  # Gestrichelte Linie für 10 Runden\n",
    "plt.plot(rounds, split_results[3], label='20 Runden', color='purple', linestyle=':')   # Gepunktete Linie für 20 Runden\n",
    "\n",
    "# Achsentitel und Diagrammtitel hinzufügen\n",
    "plt.xlabel('Runden')\n",
    "plt.ylabel('Loss')\n",
    "plt.title('Loss pro Anzahl der Runden')\n",
    "plt.legend()\n",
    "\n",
    "plt.show()\n"
   ]
  },
  {
   "cell_type": "code",
   "execution_count": 54,
   "metadata": {},
   "outputs": [
    {
     "data": {
      "image/png": "[encoded data removed]",
      "text/plain": [
       "<Figure size 640x480 with 1 Axes>"
      ]
     },
     "metadata": {},
     "output_type": "display_data"
    }
   ],
   "source": [
    "import numpy as np\n",
    "\n",
    "num_rounds_values = [3, 5, 10, 20]\n",
    "max_rounds = max(num_rounds_values)\n",
    "rounds = list(range(1, max_rounds + 1))\n",
    "barWidth = 0.15\n",
    "\n",
    "# adjust position of bars along x-axis to ensure that all the bars are visible\n",
    "r1 = np.arange(len(rounds))\n",
    "r2 = [x + barWidth for x in r1]\n",
    "r3 = [x + barWidth for x in r2]\n",
    "r4 = [x + barWidth for x in r3]\n",
    "\n",
    "# create the bars\n",
    "plt.bar(r1[:3], split_results[0], width=barWidth, edgecolor='grey', label='3 Runden')\n",
    "plt.bar(r2[:5], split_results[1], width=barWidth, edgecolor='grey', label='5 Runden')\n",
    "plt.bar(r3[:10], split_results[2], width=barWidth, edgecolor='grey', label='10 Runden')\n",
    "plt.bar(r4, split_results[3], width=barWidth, edgecolor='grey', label='20 Runden')\n",
    "\n",
    "# title and labels\n",
    "plt.xlabel('Runde')\n",
    "plt.ylabel('Loss')\n",
    "plt.xticks([r + barWidth for r in range(max_rounds)], rounds)\n",
    "\n",
    "# legend and show\n",
    "plt.legend()\n",
    "plt.title('Loss pro Anzahl der Runden (Grouped Barplot)')\n",
    "plt.show()\n"
   ]
  }
 ],
 "metadata": {
  "kernelspec": {
   "display_name": "Python 3.9.6 ('venv': venv)",
   "language": "python",
   "name": "python3"
  },
  "language_info": {
   "codemirror_mode": {
    "name": "ipython",
    "version": 3
   },
   "file_extension": ".py",
   "mimetype": "text/x-python",
   "name": "python",
   "nbconvert_exporter": "python",
   "pygments_lexer": "ipython3",
   "version": "3.9.6"
  },
  "orig_nbformat": 4,
  "vscode": {
   "interpreter": {
    "hash": "b67225186701176d63f31892b142f892e9d99d98ee3c8377add80c87c7a35978"
   }
  }
 },
 "nbformat": 4,
 "nbformat_minor": 2
}
